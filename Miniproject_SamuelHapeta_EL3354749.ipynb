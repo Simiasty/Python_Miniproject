{
 "cells": [
  {
   "cell_type": "code",
   "execution_count": 1,
   "metadata": {},
   "outputs": [],
   "source": [
    "import matplotlib.pyplot as plt\n",
    "import numpy as np\n",
    "import pandas as pd\n",
    "import plotly.express as px\n",
    "import seaborn as sns\n"
   ]
  },
  {
   "cell_type": "markdown",
   "metadata": {},
   "source": [
    "# Q1 (35pts): Convert covariance matrix into correlation matrix using numpy"
   ]
  },
  {
   "cell_type": "markdown",
   "metadata": {},
   "source": [
    "A. Briefly explain in 1-2 sentences the concepts of Covariance and Correlation, and\n",
    "describe their relationship. You may use equations for clarification"
   ]
  },
  {
   "cell_type": "markdown",
   "metadata": {},
   "source": [
    "Covariance is standard deviation (or variance) calculated for data consisting of two variables.\n",
    "\n",
    "It allows for identification of relationships between them (for example whether increase in variable *y* is a good predictor of increase in variable *x* )\n",
    "\n",
    "$$\\frac{\\sum (x_i - \\bar{x})(y_i - \\bar{y})}{N-1}$$\n",
    "\n",
    "Equation for calculating covariance of a sample\n",
    "Where:\n",
    "    $$\\bar{x}$$ is mean of variable x\n",
    "    $$\\bar{y}$$ is mean of variable y\n",
    "    $$x_i$$ and $$y_i$$ are corresponding samples\n",
    "    N is the number of samples\n",
    "\n",
    "$$\\frac{\\sum (x_i - \\mu_x)(y_i - \\mu_y)}{N}$$\n",
    "Equation for calculating covariance of a population. Sample means are replaced with population means and N is now a number of specimen in the populaion."
   ]
  },
  {
   "cell_type": "markdown",
   "metadata": {},
   "source": [
    "Covariance is sensitive to the scale of the data and can only tell us if the relationship exists and whether it is positive or negative.\n",
    "\n",
    "To determine the strength of this relationship, we can further calculate correlation.\n",
    "\n",
    "$$r_{xy} = \\frac{\\text{cov}(X, Y)}{\\sigma_X \\sigma_Y}$$\n",
    "\n",
    "Equation for calculating correlation. Covariance of *x* and *y* is divided by the product of their standard deviations.\n",
    "\n",
    "Correlation takes values between -1 and 1, with -1 signifying strong negative correlation, 1 - strong positive correlation and 0 - no correlation."
   ]
  },
  {
   "cell_type": "markdown",
   "metadata": {},
   "source": [
    "B. Load the Iris dataset, using any method of your choice (e.g.: pd.read_csv(\"iris.csv\")\n",
    "in Pandas).\n",
    "\n",
    "Use visualization to explore the relationship between the different features."
   ]
  },
  {
   "cell_type": "code",
   "execution_count": 2,
   "metadata": {},
   "outputs": [
    {
     "data": {
      "text/html": [
       "<div>\n",
       "<style scoped>\n",
       "    .dataframe tbody tr th:only-of-type {\n",
       "        vertical-align: middle;\n",
       "    }\n",
       "\n",
       "    .dataframe tbody tr th {\n",
       "        vertical-align: top;\n",
       "    }\n",
       "\n",
       "    .dataframe thead th {\n",
       "        text-align: right;\n",
       "    }\n",
       "</style>\n",
       "<table border=\"1\" class=\"dataframe\">\n",
       "  <thead>\n",
       "    <tr style=\"text-align: right;\">\n",
       "      <th></th>\n",
       "      <th>sepal_length</th>\n",
       "      <th>sepal_width</th>\n",
       "      <th>petal_length</th>\n",
       "      <th>petal_width</th>\n",
       "      <th>species</th>\n",
       "    </tr>\n",
       "  </thead>\n",
       "  <tbody>\n",
       "    <tr>\n",
       "      <th>0</th>\n",
       "      <td>5.1</td>\n",
       "      <td>3.5</td>\n",
       "      <td>1.4</td>\n",
       "      <td>0.2</td>\n",
       "      <td>setosa</td>\n",
       "    </tr>\n",
       "    <tr>\n",
       "      <th>1</th>\n",
       "      <td>4.9</td>\n",
       "      <td>3.0</td>\n",
       "      <td>1.4</td>\n",
       "      <td>0.2</td>\n",
       "      <td>setosa</td>\n",
       "    </tr>\n",
       "    <tr>\n",
       "      <th>2</th>\n",
       "      <td>4.7</td>\n",
       "      <td>3.2</td>\n",
       "      <td>1.3</td>\n",
       "      <td>0.2</td>\n",
       "      <td>setosa</td>\n",
       "    </tr>\n",
       "    <tr>\n",
       "      <th>3</th>\n",
       "      <td>4.6</td>\n",
       "      <td>3.1</td>\n",
       "      <td>1.5</td>\n",
       "      <td>0.2</td>\n",
       "      <td>setosa</td>\n",
       "    </tr>\n",
       "    <tr>\n",
       "      <th>4</th>\n",
       "      <td>5.0</td>\n",
       "      <td>3.6</td>\n",
       "      <td>1.4</td>\n",
       "      <td>0.2</td>\n",
       "      <td>setosa</td>\n",
       "    </tr>\n",
       "    <tr>\n",
       "      <th>5</th>\n",
       "      <td>5.4</td>\n",
       "      <td>3.9</td>\n",
       "      <td>1.7</td>\n",
       "      <td>0.4</td>\n",
       "      <td>setosa</td>\n",
       "    </tr>\n",
       "    <tr>\n",
       "      <th>6</th>\n",
       "      <td>4.6</td>\n",
       "      <td>3.4</td>\n",
       "      <td>1.4</td>\n",
       "      <td>0.3</td>\n",
       "      <td>setosa</td>\n",
       "    </tr>\n",
       "    <tr>\n",
       "      <th>7</th>\n",
       "      <td>5.0</td>\n",
       "      <td>3.4</td>\n",
       "      <td>1.5</td>\n",
       "      <td>0.2</td>\n",
       "      <td>setosa</td>\n",
       "    </tr>\n",
       "    <tr>\n",
       "      <th>8</th>\n",
       "      <td>4.4</td>\n",
       "      <td>2.9</td>\n",
       "      <td>1.4</td>\n",
       "      <td>0.2</td>\n",
       "      <td>setosa</td>\n",
       "    </tr>\n",
       "    <tr>\n",
       "      <th>9</th>\n",
       "      <td>4.9</td>\n",
       "      <td>3.1</td>\n",
       "      <td>1.5</td>\n",
       "      <td>0.1</td>\n",
       "      <td>setosa</td>\n",
       "    </tr>\n",
       "  </tbody>\n",
       "</table>\n",
       "</div>"
      ],
      "text/plain": [
       "   sepal_length  sepal_width  petal_length  petal_width species\n",
       "0           5.1          3.5           1.4          0.2  setosa\n",
       "1           4.9          3.0           1.4          0.2  setosa\n",
       "2           4.7          3.2           1.3          0.2  setosa\n",
       "3           4.6          3.1           1.5          0.2  setosa\n",
       "4           5.0          3.6           1.4          0.2  setosa\n",
       "5           5.4          3.9           1.7          0.4  setosa\n",
       "6           4.6          3.4           1.4          0.3  setosa\n",
       "7           5.0          3.4           1.5          0.2  setosa\n",
       "8           4.4          2.9           1.4          0.2  setosa\n",
       "9           4.9          3.1           1.5          0.1  setosa"
      ]
     },
     "execution_count": 2,
     "metadata": {},
     "output_type": "execute_result"
    }
   ],
   "source": [
    "# Loading and previewing dataset\n",
    "iris = pd.read_csv(\"iris.csv\")\n",
    "\n",
    "iris.head(10)\n"
   ]
  },
  {
   "cell_type": "code",
   "execution_count": null,
   "metadata": {},
   "outputs": [
    {
     "data": {
      "text/plain": [
       "<seaborn.axisgrid.PairGrid at 0x2b93326b830>"
      ]
     },
     "execution_count": 53,
     "metadata": {},
     "output_type": "execute_result"
    },
    {
     "data": {
      "image/png": "[encoded data removed]",
      "text/plain": [
       "<Figure size 1117.75x1000 with 20 Axes>"
      ]
     },
     "metadata": {},
     "output_type": "display_data"
    }
   ],
   "source": [
    "# Visualising relationships\n",
    "sns.pairplot(iris, hue='species', height=2.5)"
   ]
  },
  {
   "cell_type": "markdown",
   "metadata": {},
   "source": [
    "C. Implement the following functions:\n",
    "\n",
    "a. A function to calculate the covariance between two variables:"
   ]
  },
  {
   "cell_type": "code",
   "execution_count": 3,
   "metadata": {},
   "outputs": [],
   "source": [
    "# Defining function for covariance calculation\n",
    "def calcCov(x, y):\n",
    "\n",
    "    mean_x = np.mean(x)\n",
    "    mean_y = np.mean(y)\n",
    "\n",
    "    sum = 0\n",
    "    \n",
    "    for sample in range(len(x)):\n",
    "        sum += ((x[sample] - mean_x)*(y[sample] - mean_y))\n",
    "\n",
    "    cov = sum/(len(x)-1)\n",
    "\n",
    "    return cov\n"
   ]
  },
  {
   "cell_type": "markdown",
   "metadata": {},
   "source": [
    "b. A function to compute the Covariance matrix:\n",
    "\n",
    "covMat(data) should return an n by n covariance matrix, where n is the\n",
    "number of features (in case of the iris dataset n=4)"
   ]
  },
  {
   "cell_type": "code",
   "execution_count": 4,
   "metadata": {},
   "outputs": [],
   "source": [
    "# Defining function for covariance matrix calculation\n",
    "def covMat(data):\n",
    "    numerical = data.select_dtypes(include = np.number)\n",
    "\n",
    "    matrix = np.zeros((len(numerical.columns), len(numerical.columns)))\n",
    "\n",
    "    for column in range(len(numerical.columns)):\n",
    "        for variable in range(len(numerical.columns)):\n",
    "            matrix [column] [variable] = calcCov(numerical.iloc[:, column], numerical.iloc[:, variable])\n",
    "\n",
    "    return matrix"
   ]
  },
  {
   "cell_type": "markdown",
   "metadata": {},
   "source": [
    "D. Test1: compare the results of your function with NumPy's\n",
    "np.cov(data,rowvar=False) using the iris dataset."
   ]
  },
  {
   "cell_type": "code",
   "execution_count": 5,
   "metadata": {},
   "outputs": [
    {
     "name": "stdout",
     "output_type": "stream",
     "text": [
      "[[ 0.68569351 -0.03926846  1.27368233  0.5169038 ]\n",
      " [-0.03926846  0.18800403 -0.32171275 -0.11798121]\n",
      " [ 1.27368233 -0.32171275  3.11317942  1.29638747]\n",
      " [ 0.5169038  -0.11798121  1.29638747  0.58241432]]\n",
      "\n",
      "[[ 0.68569351 -0.03926846  1.27368233  0.5169038 ]\n",
      " [-0.03926846  0.18800403 -0.32171275 -0.11798121]\n",
      " [ 1.27368233 -0.32171275  3.11317942  1.29638747]\n",
      " [ 0.5169038  -0.11798121  1.29638747  0.58241432]]\n"
     ]
    }
   ],
   "source": [
    "# Preserving numerical values from the dataset\n",
    "numerical = iris.select_dtypes(include = np.number)\n",
    "\n",
    "# Comparing results for my function vs numpy function\n",
    "print(np.cov(numerical, rowvar=False))\n",
    "print()\n",
    "print(covMat(iris))\n",
    "\n"
   ]
  },
  {
   "cell_type": "markdown",
   "metadata": {},
   "source": [
    "E. Using your covariance function, implement a function to calculate the correlation\n",
    "matrix (should use covMat(data) and return the correlation matrix):"
   ]
  },
  {
   "cell_type": "code",
   "execution_count": 6,
   "metadata": {},
   "outputs": [],
   "source": [
    "# Defining function for correlation matrix calculation\n",
    "def corrMat(data):\n",
    "    numerical = data.select_dtypes(include = np.number)\n",
    "    cov_matrix = covMat(data)\n",
    "    cor_matrix = cov_matrix\n",
    "\n",
    "    std_list = []\n",
    "\n",
    "    for column in numerical.columns:\n",
    "        std_list.append(data[column].std())\n",
    "\n",
    "    for row_idx in range(len(cov_matrix[0])):\n",
    "        for column_idx in range(len(cov_matrix[0])):\n",
    "            cor_matrix [row_idx] [column_idx] = cov_matrix [row_idx] [column_idx] / (std_list[row_idx] * std_list[column_idx])\n",
    "\n",
    "    return cor_matrix"
   ]
  },
  {
   "cell_type": "markdown",
   "metadata": {},
   "source": [
    "F. Test2: validate your correlation matrix implementation by comparing it with the\n",
    "results of NumPy's np.corrcoef(data,rowvar=False), using the iris dataset."
   ]
  },
  {
   "cell_type": "code",
   "execution_count": 7,
   "metadata": {},
   "outputs": [
    {
     "name": "stdout",
     "output_type": "stream",
     "text": [
      "[[ 1.         -0.10936925  0.87175416  0.81795363]\n",
      " [-0.10936925  1.         -0.4205161  -0.35654409]\n",
      " [ 0.87175416 -0.4205161   1.          0.9627571 ]\n",
      " [ 0.81795363 -0.35654409  0.9627571   1.        ]]\n",
      "\n",
      "[[ 1.         -0.10936925  0.87175416  0.81795363]\n",
      " [-0.10936925  1.         -0.4205161  -0.35654409]\n",
      " [ 0.87175416 -0.4205161   1.          0.9627571 ]\n",
      " [ 0.81795363 -0.35654409  0.9627571   1.        ]]\n"
     ]
    }
   ],
   "source": [
    "# Preserving numerical values from the dataset\n",
    "numerical = iris.select_dtypes(include = np.number)\n",
    "\n",
    "# Comparing results for my function vs numpy function\n",
    "print(np.corrcoef(numerical, rowvar=False))\n",
    "print()\n",
    "print(corrMat(iris))\n"
   ]
  },
  {
   "cell_type": "markdown",
   "metadata": {},
   "source": [
    "G. Use visualizations to communicate the tests results. Include appropriate titles,\n",
    "axis labels, and colorbars where relevant."
   ]
  },
  {
   "cell_type": "code",
   "execution_count": 55,
   "metadata": {},
   "outputs": [
    {
     "name": "stderr",
     "output_type": "stream",
     "text": [
      "C:\\Users\\samue\\AppData\\Local\\Temp\\ipykernel_6136\\234619817.py:7: UserWarning:\n",
      "\n",
      "FigureCanvasAgg is non-interactive, and thus cannot be shown\n",
      "\n"
     ]
    },
    {
     "data": {
      "image/png": "[encoded data removed]",
      "text/plain": [
       "<Figure size 640x480 with 4 Axes>"
      ]
     },
     "metadata": {},
     "output_type": "display_data"
    }
   ],
   "source": [
    "# Plotting test results for correlation matrix calculation\n",
    "fig, (ax1, ax2) = plt.subplots(2,1)\n",
    "sns.heatmap(corrMat(iris),square=True, annot=True, fmt='.2f', annot_kws={'size': 10}, ax=ax1,)\n",
    "sns.heatmap(np.corrcoef(numerical, rowvar=False), square=True, annot=True, fmt='.2f', annot_kws={'size': 10}, ax=ax2)\n",
    "ax1.set_title(\"Correlation matrix for my function\")\n",
    "ax2.set_title(\"Correlation matrix for in-built numpy function\")\n",
    "fig.tight_layout()\n",
    "fig.show()"
   ]
  },
  {
   "cell_type": "code",
   "execution_count": 57,
   "metadata": {},
   "outputs": [
    {
     "name": "stderr",
     "output_type": "stream",
     "text": [
      "C:\\Users\\samue\\AppData\\Local\\Temp\\ipykernel_6136\\904331226.py:8: UserWarning:\n",
      "\n",
      "FigureCanvasAgg is non-interactive, and thus cannot be shown\n",
      "\n"
     ]
    },
    {
     "data": {
      "image/png": "[encoded data removed]",
      "text/plain": [
       "<Figure size 640x480 with 4 Axes>"
      ]
     },
     "metadata": {},
     "output_type": "display_data"
    }
   ],
   "source": [
    "# Plotting test results for covariance matrix calculation\n",
    "fig, (ax1, ax2) = plt.subplots(2,1)\n",
    "sns.heatmap(covMat(iris),square=True, annot=True, fmt='.2f', annot_kws={'size': 10}, ax=ax1,)\n",
    "sns.heatmap(np.cov(numerical, rowvar=False), square=True, annot=True, fmt='.2f', annot_kws={'size': 10}, ax=ax2)\n",
    "ax1.set_title(\"Covariance matrix for my function\")\n",
    "ax2.set_title(\"Covariance matrix for in-built numpy function\")\n",
    "fig.tight_layout()\n",
    "fig.show()"
   ]
  },
  {
   "cell_type": "markdown",
   "metadata": {},
   "source": [
    "# Q2 (50pts): For this question you will use the dataset titled “laptop-price – dataset.csv”.\n",
    "\n",
    "Import the libraries mentioned above and import the dataset from your filesystem into the\n",
    "code."
   ]
  },
  {
   "cell_type": "code",
   "execution_count": 49,
   "metadata": {},
   "outputs": [
    {
     "data": {
      "text/html": [
       "<div>\n",
       "<style scoped>\n",
       "    .dataframe tbody tr th:only-of-type {\n",
       "        vertical-align: middle;\n",
       "    }\n",
       "\n",
       "    .dataframe tbody tr th {\n",
       "        vertical-align: top;\n",
       "    }\n",
       "\n",
       "    .dataframe thead th {\n",
       "        text-align: right;\n",
       "    }\n",
       "</style>\n",
       "<table border=\"1\" class=\"dataframe\">\n",
       "  <thead>\n",
       "    <tr style=\"text-align: right;\">\n",
       "      <th></th>\n",
       "      <th>Company</th>\n",
       "      <th>Product</th>\n",
       "      <th>TypeName</th>\n",
       "      <th>Inches</th>\n",
       "      <th>ScreenResolution</th>\n",
       "      <th>CPU_Company</th>\n",
       "      <th>CPU_Type</th>\n",
       "      <th>CPU_Frequency (GHz)</th>\n",
       "      <th>RAM (GB)</th>\n",
       "      <th>Memory</th>\n",
       "      <th>GPU_Company</th>\n",
       "      <th>GPU_Type</th>\n",
       "      <th>OpSys</th>\n",
       "      <th>Weight (kg)</th>\n",
       "      <th>Price (Euro)</th>\n",
       "    </tr>\n",
       "  </thead>\n",
       "  <tbody>\n",
       "    <tr>\n",
       "      <th>0</th>\n",
       "      <td>Apple</td>\n",
       "      <td>MacBook Pro</td>\n",
       "      <td>Ultrabook</td>\n",
       "      <td>13.3</td>\n",
       "      <td>IPS Panel Retina Display 2560x1600</td>\n",
       "      <td>Intel</td>\n",
       "      <td>Core i5</td>\n",
       "      <td>2.3</td>\n",
       "      <td>8</td>\n",
       "      <td>128GB SSD</td>\n",
       "      <td>Intel</td>\n",
       "      <td>Iris Plus Graphics 640</td>\n",
       "      <td>macOS</td>\n",
       "      <td>1.37</td>\n",
       "      <td>1339.69</td>\n",
       "    </tr>\n",
       "    <tr>\n",
       "      <th>1</th>\n",
       "      <td>Apple</td>\n",
       "      <td>Macbook Air</td>\n",
       "      <td>Ultrabook</td>\n",
       "      <td>13.3</td>\n",
       "      <td>1440x900</td>\n",
       "      <td>Intel</td>\n",
       "      <td>Core i5</td>\n",
       "      <td>1.8</td>\n",
       "      <td>8</td>\n",
       "      <td>128GB Flash Storage</td>\n",
       "      <td>Intel</td>\n",
       "      <td>HD Graphics 6000</td>\n",
       "      <td>macOS</td>\n",
       "      <td>1.34</td>\n",
       "      <td>898.94</td>\n",
       "    </tr>\n",
       "    <tr>\n",
       "      <th>2</th>\n",
       "      <td>HP</td>\n",
       "      <td>250 G6</td>\n",
       "      <td>Notebook</td>\n",
       "      <td>15.6</td>\n",
       "      <td>Full HD 1920x1080</td>\n",
       "      <td>Intel</td>\n",
       "      <td>Core i5 7200U</td>\n",
       "      <td>2.5</td>\n",
       "      <td>8</td>\n",
       "      <td>256GB SSD</td>\n",
       "      <td>Intel</td>\n",
       "      <td>HD Graphics 620</td>\n",
       "      <td>No OS</td>\n",
       "      <td>1.86</td>\n",
       "      <td>575.00</td>\n",
       "    </tr>\n",
       "    <tr>\n",
       "      <th>3</th>\n",
       "      <td>Apple</td>\n",
       "      <td>MacBook Pro</td>\n",
       "      <td>Ultrabook</td>\n",
       "      <td>15.4</td>\n",
       "      <td>IPS Panel Retina Display 2880x1800</td>\n",
       "      <td>Intel</td>\n",
       "      <td>Core i7</td>\n",
       "      <td>2.7</td>\n",
       "      <td>16</td>\n",
       "      <td>512GB SSD</td>\n",
       "      <td>AMD</td>\n",
       "      <td>Radeon Pro 455</td>\n",
       "      <td>macOS</td>\n",
       "      <td>1.83</td>\n",
       "      <td>2537.45</td>\n",
       "    </tr>\n",
       "    <tr>\n",
       "      <th>4</th>\n",
       "      <td>Apple</td>\n",
       "      <td>MacBook Pro</td>\n",
       "      <td>Ultrabook</td>\n",
       "      <td>13.3</td>\n",
       "      <td>IPS Panel Retina Display 2560x1600</td>\n",
       "      <td>Intel</td>\n",
       "      <td>Core i5</td>\n",
       "      <td>3.1</td>\n",
       "      <td>8</td>\n",
       "      <td>256GB SSD</td>\n",
       "      <td>Intel</td>\n",
       "      <td>Iris Plus Graphics 650</td>\n",
       "      <td>macOS</td>\n",
       "      <td>1.37</td>\n",
       "      <td>1803.60</td>\n",
       "    </tr>\n",
       "    <tr>\n",
       "      <th>5</th>\n",
       "      <td>Acer</td>\n",
       "      <td>Aspire 3</td>\n",
       "      <td>Notebook</td>\n",
       "      <td>15.6</td>\n",
       "      <td>1366x768</td>\n",
       "      <td>AMD</td>\n",
       "      <td>A9-Series 9420</td>\n",
       "      <td>3.0</td>\n",
       "      <td>4</td>\n",
       "      <td>500GB HDD</td>\n",
       "      <td>AMD</td>\n",
       "      <td>Radeon R5</td>\n",
       "      <td>Windows 10</td>\n",
       "      <td>2.10</td>\n",
       "      <td>400.00</td>\n",
       "    </tr>\n",
       "    <tr>\n",
       "      <th>6</th>\n",
       "      <td>Apple</td>\n",
       "      <td>MacBook Pro</td>\n",
       "      <td>Ultrabook</td>\n",
       "      <td>15.4</td>\n",
       "      <td>IPS Panel Retina Display 2880x1800</td>\n",
       "      <td>Intel</td>\n",
       "      <td>Core i7</td>\n",
       "      <td>2.2</td>\n",
       "      <td>16</td>\n",
       "      <td>256GB Flash Storage</td>\n",
       "      <td>Intel</td>\n",
       "      <td>Iris Pro Graphics</td>\n",
       "      <td>Mac OS X</td>\n",
       "      <td>2.04</td>\n",
       "      <td>2139.97</td>\n",
       "    </tr>\n",
       "    <tr>\n",
       "      <th>7</th>\n",
       "      <td>Apple</td>\n",
       "      <td>Macbook Air</td>\n",
       "      <td>Ultrabook</td>\n",
       "      <td>13.3</td>\n",
       "      <td>1440x900</td>\n",
       "      <td>Intel</td>\n",
       "      <td>Core i5</td>\n",
       "      <td>1.8</td>\n",
       "      <td>8</td>\n",
       "      <td>256GB Flash Storage</td>\n",
       "      <td>Intel</td>\n",
       "      <td>HD Graphics 6000</td>\n",
       "      <td>macOS</td>\n",
       "      <td>1.34</td>\n",
       "      <td>1158.70</td>\n",
       "    </tr>\n",
       "    <tr>\n",
       "      <th>8</th>\n",
       "      <td>Asus</td>\n",
       "      <td>ZenBook UX430UN</td>\n",
       "      <td>Ultrabook</td>\n",
       "      <td>14.0</td>\n",
       "      <td>Full HD 1920x1080</td>\n",
       "      <td>Intel</td>\n",
       "      <td>Core i7 8550U</td>\n",
       "      <td>1.8</td>\n",
       "      <td>16</td>\n",
       "      <td>512GB SSD</td>\n",
       "      <td>Nvidia</td>\n",
       "      <td>GeForce MX150</td>\n",
       "      <td>Windows 10</td>\n",
       "      <td>1.30</td>\n",
       "      <td>1495.00</td>\n",
       "    </tr>\n",
       "    <tr>\n",
       "      <th>9</th>\n",
       "      <td>Acer</td>\n",
       "      <td>Swift 3</td>\n",
       "      <td>Ultrabook</td>\n",
       "      <td>14.0</td>\n",
       "      <td>IPS Panel Full HD 1920x1080</td>\n",
       "      <td>Intel</td>\n",
       "      <td>Core i5 8250U</td>\n",
       "      <td>1.6</td>\n",
       "      <td>8</td>\n",
       "      <td>256GB SSD</td>\n",
       "      <td>Intel</td>\n",
       "      <td>UHD Graphics 620</td>\n",
       "      <td>Windows 10</td>\n",
       "      <td>1.60</td>\n",
       "      <td>770.00</td>\n",
       "    </tr>\n",
       "  </tbody>\n",
       "</table>\n",
       "</div>"
      ],
      "text/plain": [
       "  Company          Product   TypeName  Inches  \\\n",
       "0   Apple      MacBook Pro  Ultrabook    13.3   \n",
       "1   Apple      Macbook Air  Ultrabook    13.3   \n",
       "2      HP           250 G6   Notebook    15.6   \n",
       "3   Apple      MacBook Pro  Ultrabook    15.4   \n",
       "4   Apple      MacBook Pro  Ultrabook    13.3   \n",
       "5    Acer         Aspire 3   Notebook    15.6   \n",
       "6   Apple      MacBook Pro  Ultrabook    15.4   \n",
       "7   Apple      Macbook Air  Ultrabook    13.3   \n",
       "8    Asus  ZenBook UX430UN  Ultrabook    14.0   \n",
       "9    Acer          Swift 3  Ultrabook    14.0   \n",
       "\n",
       "                     ScreenResolution CPU_Company        CPU_Type  \\\n",
       "0  IPS Panel Retina Display 2560x1600       Intel         Core i5   \n",
       "1                            1440x900       Intel         Core i5   \n",
       "2                   Full HD 1920x1080       Intel   Core i5 7200U   \n",
       "3  IPS Panel Retina Display 2880x1800       Intel         Core i7   \n",
       "4  IPS Panel Retina Display 2560x1600       Intel         Core i5   \n",
       "5                            1366x768         AMD  A9-Series 9420   \n",
       "6  IPS Panel Retina Display 2880x1800       Intel         Core i7   \n",
       "7                            1440x900       Intel         Core i5   \n",
       "8                   Full HD 1920x1080       Intel   Core i7 8550U   \n",
       "9         IPS Panel Full HD 1920x1080       Intel   Core i5 8250U   \n",
       "\n",
       "   CPU_Frequency (GHz)  RAM (GB)               Memory GPU_Company  \\\n",
       "0                  2.3         8            128GB SSD       Intel   \n",
       "1                  1.8         8  128GB Flash Storage       Intel   \n",
       "2                  2.5         8            256GB SSD       Intel   \n",
       "3                  2.7        16            512GB SSD         AMD   \n",
       "4                  3.1         8            256GB SSD       Intel   \n",
       "5                  3.0         4            500GB HDD         AMD   \n",
       "6                  2.2        16  256GB Flash Storage       Intel   \n",
       "7                  1.8         8  256GB Flash Storage       Intel   \n",
       "8                  1.8        16            512GB SSD      Nvidia   \n",
       "9                  1.6         8            256GB SSD       Intel   \n",
       "\n",
       "                 GPU_Type       OpSys  Weight (kg)  Price (Euro)  \n",
       "0  Iris Plus Graphics 640       macOS         1.37       1339.69  \n",
       "1        HD Graphics 6000       macOS         1.34        898.94  \n",
       "2         HD Graphics 620       No OS         1.86        575.00  \n",
       "3          Radeon Pro 455       macOS         1.83       2537.45  \n",
       "4  Iris Plus Graphics 650       macOS         1.37       1803.60  \n",
       "5               Radeon R5  Windows 10         2.10        400.00  \n",
       "6       Iris Pro Graphics    Mac OS X         2.04       2139.97  \n",
       "7        HD Graphics 6000       macOS         1.34       1158.70  \n",
       "8           GeForce MX150  Windows 10         1.30       1495.00  \n",
       "9        UHD Graphics 620  Windows 10         1.60        770.00  "
      ]
     },
     "execution_count": 49,
     "metadata": {},
     "output_type": "execute_result"
    }
   ],
   "source": [
    "laptops = pd.read_csv(\"laptop_price - dataset.csv\")\n",
    "\n",
    "laptops.head(10)"
   ]
  },
  {
   "cell_type": "markdown",
   "metadata": {},
   "source": [
    "Please write code to complete the following tasks with this dataset:\n",
    "\n",
    "• Plot the price of all the laptops"
   ]
  },
  {
   "cell_type": "code",
   "execution_count": 30,
   "metadata": {},
   "outputs": [
    {
     "data": {
      "application/vnd.plotly.v1+json": {
       "config": {
        "plotlyServerURL": "https://plot.ly"
       },
       "data": [
        {
         "customdata": [
          [
           "MacBook Pro"
          ],
          [
           "Macbook Air"
          ],
          [
           "MacBook Pro"
          ],
          [
           "MacBook Pro"
          ],
          [
           "MacBook Pro"
          ],
          [
           "Macbook Air"
          ],
          [
           "MacBook Pro"
          ],
          [
           "MacBook 12\""
          ],
          [
           "MacBook Pro"
          ],
          [
           "MacBook Pro"
          ],
          [
           "MacBook Air"
          ],
          [
           "MacBook Air"
          ],
          [
           "MacBook Pro"
          ],
          [
           "MacBook 12\""
          ],
          [
           "MacBook Pro"
          ],
          [
           "MacBook Pro"
          ],
          [
           "MacBook 12\""
          ],
          [
           "MacBook 12\""
          ],
          [
           "MacBook 12\""
          ],
          [
           "MacBook 12\""
          ],
          [
           "MacBook Air"
          ]
         ],
         "hovertemplate": "Company=%{x}<br>Price (Euro)=%{marker.size}<br>Product=%{customdata[0]}<extra></extra>",
         "legendgroup": "Apple",
         "marker": {
          "color": "#636efa",
          "size": [
           1339.69,
           898.94,
           2537.45,
           1803.6,
           2139.97,
           1158.7,
           2439.97,
           1262.4,
           1518.55,
           2858,
           1099,
           998,
           1419,
           1510,
           2040,
           1958.9,
           1165,
           1300,
           1163,
           1279,
           959
          ],
          "sizemode": "area",
          "sizeref": 15.2475,
          "symbol": "circle"
         },
         "mode": "markers",
         "name": "Apple",
         "showlegend": true,
         "type": "scattergl",
         "x": [
          "Apple",
          "Apple",
          "Apple",
          "Apple",
          "Apple",
          "Apple",
          "Apple",
          "Apple",
          "Apple",
          "Apple",
          "Apple",
          "Apple",
          "Apple",
          "Apple",
          "Apple",
          "Apple",
          "Apple",
          "Apple",
          "Apple",
          "Apple",
          "Apple"
         ],
         "xaxis": "x",
         "y": [
          1339.69,
          898.94,
          2537.45,
          1803.6,
          2139.97,
          1158.7,
          2439.97,
          1262.4,
          1518.55,
          2858,
          1099,
          998,
          1419,
          1510,
          2040,
          1958.9,
          1165,
          1300,
          1163,
          1279,
          959
         ],
         "yaxis": "y"
        },
        {
         "customdata": [
          [
           "250 G6"
          ],
          [
           "250 G6"
          ],
          [
           "250 G6"
          ],
          [
           "255 G6"
          ],
          [
           "15-BS101nv (i7-8550U/8GB/256GB/FHD/W10)"
          ],
          [
           "ProBook 470"
          ],
          [
           "17-ak001nv (A6-9220/4GB/500GB/Radeon"
          ],
          [
           "250 G6"
          ],
          [
           "ProBook 450"
          ],
          [
           "255 G6"
          ],
          [
           "ProBook 430"
          ],
          [
           "15-bs002nv (i3-6006U/4GB/128GB/FHD/W10)"
          ],
          [
           "250 G6"
          ],
          [
           "250 G6"
          ],
          [
           "Stream 14-AX040wm"
          ],
          [
           "ProBook 470"
          ],
          [
           "ProBook 440"
          ],
          [
           "Pavilion 15-CK000nv"
          ],
          [
           "250 G6"
          ],
          [
           "Probook 430"
          ],
          [
           "Omen 15-ce007nv"
          ],
          [
           "15-bs017nv (i7-7500U/8GB/256GB/Radeon"
          ],
          [
           "15-bw000nv (E2-9000e/4GB/500GB/Radeon"
          ],
          [
           "Envy 13-ad009n"
          ],
          [
           "Pavilion 14-BK001nv"
          ],
          [
           "Probook 440"
          ],
          [
           "Spectre x360"
          ],
          [
           "Probook 440"
          ],
          [
           "Probook 470"
          ],
          [
           "250 G6"
          ],
          [
           "Probook 440"
          ],
          [
           "ProBook 470"
          ],
          [
           "15-BS078nr (i7-7500U/8GB/1TB/W10)"
          ],
          [
           "Probook 440"
          ],
          [
           "Envy 13-AD007nv"
          ],
          [
           "255 G6"
          ],
          [
           "EliteBook Folio"
          ],
          [
           "EliteBook 840"
          ],
          [
           "15-BS103nv (i5-8250U/6GB/256GB/Radeon"
          ],
          [
           "ProBook 430"
          ],
          [
           "17-bs001nv (i5-7200U/6GB/2TB/Radeon"
          ],
          [
           "ProBook 470"
          ],
          [
           "Spectre x360"
          ],
          [
           "ProBook 470"
          ],
          [
           "ProBook 430"
          ],
          [
           "Omen 17-W295"
          ],
          [
           "Probook 470"
          ],
          [
           "15-bs018nq (i3-6006U/4GB/500GB/FHD/No"
          ],
          [
           "Probook 440"
          ],
          [
           "ProBook 450"
          ],
          [
           "ZBook 15u"
          ],
          [
           "15-rb013nv (E2-9000e/4GB/500GB/W10)"
          ],
          [
           "15-bs015dx (i5-7200U/8GB/1TB/W10)"
          ],
          [
           "ProBook 430"
          ],
          [
           "15-BW094nd (A6-9220/8GB/128GB/W10)"
          ],
          [
           "Envy 17-U275cl"
          ],
          [
           "ProBook 450"
          ],
          [
           "Probook 470"
          ],
          [
           "17-BS037cl (i3-6006U/8GB/1TB/W10)"
          ],
          [
           "EliteBook x360"
          ],
          [
           "250 G6"
          ],
          [
           "Spectre x360"
          ],
          [
           "ProBook 640"
          ],
          [
           "Elitebook 840"
          ],
          [
           "ProBook 450"
          ],
          [
           "Elitebook 820"
          ],
          [
           "EliteBook 840"
          ],
          [
           "Elitebook 850"
          ],
          [
           "ProBook 450"
          ],
          [
           "Stream 14-AX001nv"
          ],
          [
           "Elitebook 850"
          ],
          [
           "Zbook 15"
          ],
          [
           "250 G6"
          ],
          [
           "250 G6"
          ],
          [
           "15-AY023na (N3710/8GB/2TB/W10)"
          ],
          [
           "Elitebook 1040"
          ],
          [
           "15-bw003nv (A9-Series-9420/4GB/256GB/FHD/W10)"
          ],
          [
           "Omen 17-w212nv"
          ],
          [
           "15-BW004nv (A9-9420/4GB/256GB/Radeon"
          ],
          [
           "15-BS028nv (i3-6006U/4GB/1TB/Radeon"
          ],
          [
           "EliteBook 1040"
          ],
          [
           "ProBook 650"
          ],
          [
           "Omen 17-w207nv"
          ],
          [
           "15-ra044nv (N3060/4GB/500GB/W10)"
          ],
          [
           "Omen 15-AX205na"
          ],
          [
           "15-bs024nv (i5-7200U/8GB/128GB/W10)"
          ],
          [
           "ProBook 650"
          ],
          [
           "17-BS092ND (i3-6006U/8GB/256GB/W10)"
          ],
          [
           "Omen 17-an006nv"
          ],
          [
           "Spectre x360"
          ],
          [
           "ZBook 15u"
          ],
          [
           "ProBook 430"
          ],
          [
           "EliteBook 840"
          ],
          [
           "15-BS026nv (i5-7200U/8GB/256GB/Radeon"
          ],
          [
           "Envy 13-AB002nv"
          ],
          [
           "15-bs190od (i5-8250U/4GB/1TB/W10)"
          ],
          [
           "Probook 450"
          ],
          [
           "Spectre X360"
          ],
          [
           "ProBook 440"
          ],
          [
           "250 G6"
          ],
          [
           "Omen 15-ce006nv"
          ],
          [
           "Envy 13-AB020nr"
          ],
          [
           "ProBook 450"
          ],
          [
           "250 G6"
          ],
          [
           "17-X047na (i3-6006U/8GB/1TB/W10)"
          ],
          [
           "ProBook 470"
          ],
          [
           "15-bw007nv (A10-9620P/6GB/128GB/Radeon"
          ],
          [
           "EliteBook 1030"
          ],
          [
           "ZBook 17"
          ],
          [
           "14-am079na (N3710/8GB/2TB/W10)"
          ],
          [
           "15-cd005nv (A9-9420/6GB/256GB/Radeon"
          ],
          [
           "ProBook 430"
          ],
          [
           "Omen 17-AN010nv"
          ],
          [
           "EliteBook 850"
          ],
          [
           "ProBook 450"
          ],
          [
           "EliteBook 850"
          ],
          [
           "ProBook 650"
          ],
          [
           "EliteBook 850"
          ],
          [
           "17-AK091ND (A9-9420/8GB/1TB/W10)"
          ],
          [
           "250 G6"
          ],
          [
           "15-ay047nv (i3-6006U/6GB/1TB/Radeon"
          ],
          [
           "15-bs012nv (i7-7500U/8GB/1TB/Radeon"
          ],
          [
           "Pavilion X360"
          ],
          [
           "Chromebook X360"
          ],
          [
           "17-bs000nv I3"
          ],
          [
           "250 G6"
          ],
          [
           "17-Y002nv (A10-9600P/6GB/2TB/Radeon"
          ],
          [
           "ZBook 17"
          ],
          [
           "15-bs011nv (i7-7500U/4GB/500GB/Radeon"
          ],
          [
           "17-ak002nv (A10-9620P/6GB/2TB/Radeon"
          ],
          [
           "ProBook 470"
          ],
          [
           "Pavilion X360"
          ],
          [
           "15-BW037na (A9-9420/4GB/1TB/Radeon"
          ],
          [
           "15-BW091ND (A9-9420/6GB/1TB"
          ],
          [
           "ZBook 15"
          ],
          [
           "250 G6"
          ],
          [
           "Zbook 17"
          ],
          [
           "EliteBook 850"
          ],
          [
           "15-cb003na (i5-7300HQ/8GB/1TB"
          ],
          [
           "ZBook 15"
          ],
          [
           "EliteBook 820"
          ],
          [
           "ZBook 17"
          ],
          [
           "EliteBook 820"
          ],
          [
           "15-ba043na (A12-9700P/8GB/2TB/W10)"
          ],
          [
           "Omen 17-an012dx"
          ],
          [
           "Chromebook 11"
          ],
          [
           "ProBook 470"
          ],
          [
           "EliteBook 840"
          ],
          [
           "Chromebook X360"
          ],
          [
           "EliteBook x360"
          ],
          [
           "EliteBook 840"
          ],
          [
           "250 G6"
          ],
          [
           "EliteBook x360"
          ],
          [
           "EliteBook 850"
          ],
          [
           "Probook 450"
          ],
          [
           "ProBook 450"
          ],
          [
           "EliteBook x360"
          ],
          [
           "Pavilion x360"
          ],
          [
           "EliteBook x360"
          ],
          [
           "Probook 640"
          ],
          [
           "Envy x360"
          ],
          [
           "ProBook 450"
          ],
          [
           "Elitebook 820"
          ],
          [
           "Elitebook Folio"
          ],
          [
           "ProBook 450"
          ],
          [
           "Probook 430"
          ],
          [
           "EliteBook 850"
          ],
          [
           "Envy 13-AB077cl"
          ],
          [
           "Probook 650"
          ],
          [
           "ProBook 640"
          ],
          [
           "EliteBook 820"
          ],
          [
           "250 G6"
          ],
          [
           "EliteBook 820"
          ],
          [
           "Omen 17-W006na"
          ],
          [
           "ZBook Studio"
          ],
          [
           "ProBook x360"
          ],
          [
           "ProBook 450"
          ],
          [
           "ProBook 450"
          ],
          [
           "Probook 450"
          ],
          [
           "15-bs053od (i7-7500U/6GB/1TB/W10)"
          ],
          [
           "Probook 450"
          ],
          [
           "EliteBook Folio"
          ],
          [
           "15-bs005nv (i3-6006U/4GB/1TB"
          ],
          [
           "Spectre 13-V111dx"
          ],
          [
           "EliteBook 840"
          ],
          [
           "ENVY -"
          ],
          [
           "Probook 440"
          ],
          [
           "EliteBook 840"
          ],
          [
           "ProBook 640"
          ],
          [
           "EliteBook 1040"
          ],
          [
           "ProBook 440"
          ],
          [
           "Probook 440"
          ],
          [
           "EliteBook 820"
          ],
          [
           "Elitebook 840"
          ],
          [
           "EliteBook 840"
          ],
          [
           "Probook 430"
          ],
          [
           "ProBook 450"
          ],
          [
           "EliteBook 1040"
          ],
          [
           "Spectre 13-V100nv"
          ],
          [
           "ProBook 440"
          ],
          [
           "Elitebook 820"
          ],
          [
           "ProBook 650"
          ],
          [
           "ProBook 640"
          ],
          [
           "Probook 470"
          ],
          [
           "ProBook 440"
          ],
          [
           "Probook 640"
          ],
          [
           "EliteBook 850"
          ],
          [
           "EliteBook 820"
          ],
          [
           "ProBook 450"
          ],
          [
           "ProBook 440"
          ],
          [
           "EliteBook 840"
          ],
          [
           "EliteBook 850"
          ],
          [
           "EliteBook 1040"
          ],
          [
           "Noteb Pav"
          ],
          [
           "ProBook 450"
          ],
          [
           "ProBook 650"
          ],
          [
           "250 G5"
          ],
          [
           "ProBook 450"
          ],
          [
           "ProBook 650"
          ],
          [
           "EliteBook 820"
          ],
          [
           "ProBook 430"
          ],
          [
           "Probook 650"
          ],
          [
           "Spectre x360"
          ],
          [
           "EliteBook 840"
          ],
          [
           "ZBook 15u"
          ],
          [
           "Chromebook 13"
          ],
          [
           "250 G6"
          ],
          [
           "Elitebook 820"
          ],
          [
           "250 G5"
          ],
          [
           "ZBook 17"
          ],
          [
           "15-bw011nv (A6-9220/4GB/1TB/FHD/W10)"
          ],
          [
           "EliteBook 1030"
          ],
          [
           "Spectre Pro"
          ],
          [
           "Spectre Pro"
          ],
          [
           "EliteBook 1040"
          ],
          [
           "EliteBook 820"
          ],
          [
           "Omen -"
          ],
          [
           "15-bs078cl (i7-7500U/8GB/2TB/W10)"
          ],
          [
           "250 G6"
          ],
          [
           "ZBook 17"
          ],
          [
           "EliteBook 850"
          ],
          [
           "Spectre Pro"
          ],
          [
           "ZBook 15"
          ],
          [
           "Spectre Pro"
          ],
          [
           "ZBook Studio"
          ],
          [
           "EliteBook 820"
          ],
          [
           "EliteBook 850"
          ],
          [
           "15-BA015wm (E2-7110/4GB/500GB/W10)"
          ],
          [
           "15-bw002nv (A6-9220/4GB/256GB/Radeon"
          ],
          [
           "Spectre Pro"
          ],
          [
           "Pavilion 15-cb003nv"
          ],
          [
           "250 G4"
          ],
          [
           "Stream 14-AX000nv"
          ],
          [
           "250 G5"
          ],
          [
           "ProBook 450"
          ],
          [
           "ProBook 450"
          ],
          [
           "Pavilion 15-BC000nv"
          ],
          [
           "250 G6"
          ],
          [
           "Pavilion Power"
          ],
          [
           "15-bs025nv (i5-7200U/8GB/256GB/W10)"
          ],
          [
           "15-bw009nv (A12-9720P/6GB/1TB/Radeon"
          ],
          [
           "15-bs023nv (i3-6006U/4GB/1TB/FHD/W10)"
          ],
          [
           "EliteBook 840"
          ],
          [
           "EliteBook 840"
          ],
          [
           "255 G6"
          ],
          [
           "Pavilion 15-AW003nv"
          ],
          [
           "Stream 11-Y000na"
          ],
          [
           "15-AC110nv (i7-6500U/6GB/1TB/Radeon"
          ]
         ],
         "hovertemplate": "Company=%{x}<br>Price (Euro)=%{marker.size}<br>Product=%{customdata[0]}<extra></extra>",
         "legendgroup": "HP",
         "marker": {
          "color": "#EF553B",
          "size": [
           575,
           393.9,
           344.99,
           258,
           659,
           896,
           439,
           488.69,
           879,
           398.49,
           1103,
           439,
           690,
           438.69,
           229,
           977,
           860,
           699,
           598.99,
           1197,
           1249,
           719,
           349,
           1119,
           659,
           722,
           1398.99,
           1084,
           1271,
           259,
           812,
           928,
           598,
           988,
           699,
           369,
           2014,
           1082,
           619,
           754,
           699,
           923,
           1499,
           914,
           959,
           1379,
           1045,
           349,
           1031,
           794,
           1269,
           330,
           559,
           675,
           445.9,
           1059,
           722,
           1018,
           489,
           1975,
           469,
           2449,
           980,
           1292,
           902,
           1335,
           1268,
           1144,
           716,
           279,
           1304,
           1738.27,
           439,
           639,
           389,
           1750,
           488.99,
           1191,
           499,
           469,
           1500,
           1427,
           1999,
           347,
           1099,
           589,
           1534,
           639.9,
           1699,
           1999,
           1154,
           726,
           1749,
           618.99,
           1323,
           521.47,
           889,
           1399,
           689,
           398.99,
           1799,
           1145,
           705.5,
           397,
           544.15,
           1280,
           568.9,
           1965,
           1860.99,
           389,
           649,
           719,
           1498,
           1219,
           668.48,
           1389,
           1124,
           932,
           520.9,
           364.9,
           539,
           745,
           699,
           495,
           699,
           612.61,
           569,
           1907.99,
           689,
           655.01,
           1200,
           836.6,
           489,
           650,
           2419,
           539,
           4389,
           1900,
           1099,
           1561,
           1244,
           2064.9,
           1389,
           629,
           1749,
           385,
           910,
           1870,
           615,
           2277,
           1468,
           299,
           2559,
           1349,
           910,
           839,
           1700,
           684.8,
           1799,
           1265,
           1399,
           900,
           1483,
           3100,
           1018.99,
           960,
           1296.99,
           1149,
           1165,
           1149,
           1579,
           288.9,
           1669,
           1399,
           2249,
           775,
           846.5,
           685,
           979,
           579,
           806,
           1908,
           499,
           1349,
           2089,
           1189,
           779,
           1099.99,
           1205,
           1449,
           1049.26,
           684,
           1539,
           1590,
           1887.21,
           800,
           769.99,
           2229,
           1149,
           1185.43,
           1559,
           1189,
           1060,
           1080,
           973,
           1195,
           1228.99,
           1349,
           742,
           1010.51,
           1000,
           2103.34,
           1469,
           979,
           979,
           705.15,
           499,
           1070,
           1199,
           1199,
           1090,
           940,
           2049,
           1030.99,
           1495,
           615,
           345.99,
           1599,
           500,
           2899,
           398,
           1699,
           1969,
           1690,
           1513,
           1895,
           1129,
           629,
           752,
           3949.4,
           2171.72,
           1629,
           2229,
           1799,
           1899,
           2296.95,
           1579,
           297,
           478.89,
           2041,
           899,
           476.99,
           249,
           679,
           1159,
           650,
           799,
           485,
           1327,
           579,
           529,
           478,
           2198.19,
           1099.99,
           399,
           549.99,
           209,
           764
          ],
          "sizemode": "area",
          "sizeref": 15.2475,
          "symbol": "circle"
         },
         "mode": "markers",
         "name": "HP",
         "showlegend": true,
         "type": "scattergl",
         "x": [
          "HP",
          "HP",
          "HP",
          "HP",
          "HP",
          "HP",
          "HP",
          "HP",
          "HP",
          "HP",
          "HP",
          "HP",
          "HP",
          "HP",
          "HP",
          "HP",
          "HP",
          "HP",
          "HP",
          "HP",
          "HP",
          "HP",
          "HP",
          "HP",
          "HP",
          "HP",
          "HP",
          "HP",
          "HP",
          "HP",
          "HP",
          "HP",
          "HP",
          "HP",
          "HP",
          "HP",
          "HP",
          "HP",
          "HP",
          "HP",
          "HP",
          "HP",
          "HP",
          "HP",
          "HP",
          "HP",
          "HP",
          "HP",
          "HP",
          "HP",
          "HP",
          "HP",
          "HP",
          "HP",
          "HP",
          "HP",
          "HP",
          "HP",
          "HP",
          "HP",
          "HP",
          "HP",
          "HP",
          "HP",
          "HP",
          "HP",
          "HP",
          "HP",
          "HP",
          "HP",
          "HP",
          "HP",
          "HP",
          "HP",
          "HP",
          "HP",
          "HP",
          "HP",
          "HP",
          "HP",
          "HP",
          "HP",
          "HP",
          "HP",
          "HP",
          "HP",
          "HP",
          "HP",
          "HP",
          "HP",
          "HP",
          "HP",
          "HP",
          "HP",
          "HP",
          "HP",
          "HP",
          "HP",
          "HP",
          "HP",
          "HP",
          "HP",
          "HP",
          "HP",
          "HP",
          "HP",
          "HP",
          "HP",
          "HP",
          "HP",
          "HP",
          "HP",
          "HP",
          "HP",
          "HP",
          "HP",
          "HP",
          "HP",
          "HP",
          "HP",
          "HP",
          "HP",
          "HP",
          "HP",
          "HP",
          "HP",
          "HP",
          "HP",
          "HP",
          "HP",
          "HP",
          "HP",
          "HP",
          "HP",
          "HP",
          "HP",
          "HP",
          "HP",
          "HP",
          "HP",
          "HP",
          "HP",
          "HP",
          "HP",
          "HP",
          "HP",
          "HP",
          "HP",
          "HP",
          "HP",
          "HP",
          "HP",
          "HP",
          "HP",
          "HP",
          "HP",
          "HP",
          "HP",
          "HP",
          "HP",
          "HP",
          "HP",
          "HP",
          "HP",
          "HP",
          "HP",
          "HP",
          "HP",
          "HP",
          "HP",
          "HP",
          "HP",
          "HP",
          "HP",
          "HP",
          "HP",
          "HP",
          "HP",
          "HP",
          "HP",
          "HP",
          "HP",
          "HP",
          "HP",
          "HP",
          "HP",
          "HP",
          "HP",
          "HP",
          "HP",
          "HP",
          "HP",
          "HP",
          "HP",
          "HP",
          "HP",
          "HP",
          "HP",
          "HP",
          "HP",
          "HP",
          "HP",
          "HP",
          "HP",
          "HP",
          "HP",
          "HP",
          "HP",
          "HP",
          "HP",
          "HP",
          "HP",
          "HP",
          "HP",
          "HP",
          "HP",
          "HP",
          "HP",
          "HP",
          "HP",
          "HP",
          "HP",
          "HP",
          "HP",
          "HP",
          "HP",
          "HP",
          "HP",
          "HP",
          "HP",
          "HP",
          "HP",
          "HP",
          "HP",
          "HP",
          "HP",
          "HP",
          "HP",
          "HP",
          "HP",
          "HP",
          "HP",
          "HP",
          "HP",
          "HP",
          "HP",
          "HP",
          "HP",
          "HP",
          "HP",
          "HP",
          "HP",
          "HP",
          "HP",
          "HP",
          "HP",
          "HP",
          "HP",
          "HP",
          "HP",
          "HP",
          "HP",
          "HP",
          "HP",
          "HP",
          "HP",
          "HP",
          "HP"
         ],
         "xaxis": "x",
         "y": [
          575,
          393.9,
          344.99,
          258,
          659,
          896,
          439,
          488.69,
          879,
          398.49,
          1103,
          439,
          690,
          438.69,
          229,
          977,
          860,
          699,
          598.99,
          1197,
          1249,
          719,
          349,
          1119,
          659,
          722,
          1398.99,
          1084,
          1271,
          259,
          812,
          928,
          598,
          988,
          699,
          369,
          2014,
          1082,
          619,
          754,
          699,
          923,
          1499,
          914,
          959,
          1379,
          1045,
          349,
          1031,
          794,
          1269,
          330,
          559,
          675,
          445.9,
          1059,
          722,
          1018,
          489,
          1975,
          469,
          2449,
          980,
          1292,
          902,
          1335,
          1268,
          1144,
          716,
          279,
          1304,
          1738.27,
          439,
          639,
          389,
          1750,
          488.99,
          1191,
          499,
          469,
          1500,
          1427,
          1999,
          347,
          1099,
          589,
          1534,
          639.9,
          1699,
          1999,
          1154,
          726,
          1749,
          618.99,
          1323,
          521.47,
          889,
          1399,
          689,
          398.99,
          1799,
          1145,
          705.5,
          397,
          544.15,
          1280,
          568.9,
          1965,
          1860.99,
          389,
          649,
          719,
          1498,
          1219,
          668.48,
          1389,
          1124,
          932,
          520.9,
          364.9,
          539,
          745,
          699,
          495,
          699,
          612.61,
          569,
          1907.99,
          689,
          655.01,
          1200,
          836.6,
          489,
          650,
          2419,
          539,
          4389,
          1900,
          1099,
          1561,
          1244,
          2064.9,
          1389,
          629,
          1749,
          385,
          910,
          1870,
          615,
          2277,
          1468,
          299,
          2559,
          1349,
          910,
          839,
          1700,
          684.8,
          1799,
          1265,
          1399,
          900,
          1483,
          3100,
          1018.99,
          960,
          1296.99,
          1149,
          1165,
          1149,
          1579,
          288.9,
          1669,
          1399,
          2249,
          775,
          846.5,
          685,
          979,
          579,
          806,
          1908,
          499,
          1349,
          2089,
          1189,
          779,
          1099.99,
          1205,
          1449,
          1049.26,
          684,
          1539,
          1590,
          1887.21,
          800,
          769.99,
          2229,
          1149,
          1185.43,
          1559,
          1189,
          1060,
          1080,
          973,
          1195,
          1228.99,
          1349,
          742,
          1010.51,
          1000,
          2103.34,
          1469,
          979,
          979,
          705.15,
          499,
          1070,
          1199,
          1199,
          1090,
          940,
          2049,
          1030.99,
          1495,
          615,
          345.99,
          1599,
          500,
          2899,
          398,
          1699,
          1969,
          1690,
          1513,
          1895,
          1129,
          629,
          752,
          3949.4,
          2171.72,
          1629,
          2229,
          1799,
          1899,
          2296.95,
          1579,
          297,
          478.89,
          2041,
          899,
          476.99,
          249,
          679,
          1159,
          650,
          799,
          485,
          1327,
          579,
          529,
          478,
          2198.19,
          1099.99,
          399,
          549.99,
          209,
          764
         ],
         "yaxis": "y"
        },
        {
         "customdata": [
          [
           "Aspire 3"
          ],
          [
           "Swift 3"
          ],
          [
           "Aspire 3"
          ],
          [
           "Aspire A515-51G"
          ],
          [
           "Aspire A515-51G"
          ],
          [
           "Aspire 3"
          ],
          [
           "Aspire E5-475"
          ],
          [
           "Aspire A515-51G-32MX"
          ],
          [
           "Aspire 3"
          ],
          [
           "Aspire 5"
          ],
          [
           "Spin 5"
          ],
          [
           "Spin 3"
          ],
          [
           "Aspire 3"
          ],
          [
           "Swift 3"
          ],
          [
           "Aspire A515-51G-37JS"
          ],
          [
           "Aspire 5"
          ],
          [
           "Aspire A315-51"
          ],
          [
           "Aspire A517-51G"
          ],
          [
           "Aspire A315-31"
          ],
          [
           "Aspire 3"
          ],
          [
           "Aspire A517-51G"
          ],
          [
           "Aspire A315-51"
          ],
          [
           "Swift 7"
          ],
          [
           "Aspire E5-576G"
          ],
          [
           "Aspire 7"
          ],
          [
           "Aspire E5-576G"
          ],
          [
           "Aspire R7"
          ],
          [
           "Aspire A315-51"
          ],
          [
           "Nitro AN515-51"
          ],
          [
           "Aspire 5"
          ],
          [
           "Aspire A515-51G"
          ],
          [
           "Aspire A517-51G"
          ],
          [
           "SP315-51 (i7-7500U/12GB/1TB/FHD/W10)"
          ],
          [
           "Chromebook C910-C2ST"
          ],
          [
           "Aspire A715-71G"
          ],
          [
           "ES1-523-84K7 (A8-7410/8GB/256GB/FHD/W10)"
          ],
          [
           "TravelMate B"
          ],
          [
           "Aspire 5"
          ],
          [
           "Aspire E5-575"
          ],
          [
           "Aspire 3"
          ],
          [
           "Aspire 7"
          ],
          [
           "Aspire 5"
          ],
          [
           "Aspire 7"
          ],
          [
           "Aspire R7"
          ],
          [
           "Aspire ES1-572"
          ],
          [
           "Aspire E5-576G"
          ],
          [
           "TravelMate B"
          ],
          [
           "Aspire 5"
          ],
          [
           "Aspire 5"
          ],
          [
           "Aspire A515-51G-59QF"
          ],
          [
           "Aspire A515-51G"
          ],
          [
           "Aspire 7"
          ],
          [
           "Spin SP111-31"
          ],
          [
           "Aspire 1"
          ],
          [
           "Swift SF114-31-P5HY"
          ],
          [
           "CB5-132T-C9KK (N3160/4GB/32GB/Chrome"
          ],
          [
           "Extensa EX2540"
          ],
          [
           "Swift 3"
          ],
          [
           "A715-71G-59DH (i5-7300HQ/8GB/1TB/GeForce"
          ],
          [
           "Aspire 3"
          ],
          [
           "Aspire VX5-591G"
          ],
          [
           "Chromebook 14"
          ],
          [
           "TravelMate B117-M"
          ],
          [
           "Spin 5"
          ],
          [
           "Predator 17"
          ],
          [
           "Extensa EX2540-58KR"
          ],
          [
           "Aspire ES1-572"
          ],
          [
           "Chromebook 14"
          ],
          [
           "Aspire 3"
          ],
          [
           "TravelMate P238-M"
          ],
          [
           "Aspire A315-31"
          ],
          [
           "Swift 3"
          ],
          [
           "Predator G9-793"
          ],
          [
           "Chromebook 11"
          ],
          [
           "Swift 3"
          ],
          [
           "TMX349-G2-M-50FS (i5-7200U/8GB/256GB/FHD/W10)"
          ],
          [
           "Chromebook C731-C78G"
          ],
          [
           "Chromebook CB5-571-C1DZ"
          ],
          [
           "Aspire E5-575"
          ],
          [
           "TravelMate P259-G2"
          ],
          [
           "Chromebook 14"
          ],
          [
           "Chromebook C738T-C2EJ"
          ],
          [
           "Aspire F5-573G-510L"
          ],
          [
           "Aspire ES1-533"
          ],
          [
           "Nitro 5"
          ],
          [
           "Aspire 3"
          ],
          [
           "Aspire ES1-523"
          ],
          [
           "Aspire ES1-523"
          ],
          [
           "Aspire F5-573G"
          ],
          [
           "Chromebook 15"
          ],
          [
           "Aspire E5-576G"
          ],
          [
           "Aspire 3"
          ],
          [
           "Aspire E5-576G"
          ],
          [
           "Predator G9-793"
          ],
          [
           "Aspire 3"
          ],
          [
           "Aspire E5-774G"
          ],
          [
           "C740-C9QX (3205U/2GB/32GB/Chrome"
          ],
          [
           "E5 774G"
          ],
          [
           "SP714-51 (i7-7Y75/8GB/256GB/FHD/W10)"
          ],
          [
           "Aspire ES1-572"
          ],
          [
           "Aspire ES1-531"
          ]
         ],
         "hovertemplate": "Company=%{x}<br>Price (Euro)=%{marker.size}<br>Product=%{customdata[0]}<extra></extra>",
         "legendgroup": "Acer",
         "marker": {
          "color": "#00cc96",
          "size": [
           400,
           770,
           367,
           682,
           841,
           384,
           389,
           530,
           395,
           689,
           847,
           479,
           451,
           884,
           572,
           655,
           447,
           805,
           348,
           363.51,
           854,
           449,
           989,
           742,
           779,
           832,
           689,
           390,
           846,
           702,
           745,
           951,
           659,
           199,
           979,
           469,
           485,
           659,
           549,
           426,
           846,
           693.99,
           879,
           789.01,
           441.8,
           544,
           435,
           469,
           579,
           613,
           639,
           798,
           349,
           329,
           349,
           379,
           450,
           919,
           709,
           412,
           1299,
           375,
           269,
           999,
           1935,
           559,
           410.8,
           330,
           599,
           655,
           298,
           636,
           2299,
           355,
           619,
           902,
           297,
           359,
           499,
           619,
           349,
           389,
           1009,
           380,
           1260,
           409,
           449,
           387,
           799,
           209,
           616,
           333,
           691,
           2599,
           272,
           629,
           174,
           598,
           1149,
           361.8,
           289
          ],
          "sizemode": "area",
          "sizeref": 15.2475,
          "symbol": "circle"
         },
         "mode": "markers",
         "name": "Acer",
         "showlegend": true,
         "type": "scattergl",
         "x": [
          "Acer",
          "Acer",
          "Acer",
          "Acer",
          "Acer",
          "Acer",
          "Acer",
          "Acer",
          "Acer",
          "Acer",
          "Acer",
          "Acer",
          "Acer",
          "Acer",
          "Acer",
          "Acer",
          "Acer",
          "Acer",
          "Acer",
          "Acer",
          "Acer",
          "Acer",
          "Acer",
          "Acer",
          "Acer",
          "Acer",
          "Acer",
          "Acer",
          "Acer",
          "Acer",
          "Acer",
          "Acer",
          "Acer",
          "Acer",
          "Acer",
          "Acer",
          "Acer",
          "Acer",
          "Acer",
          "Acer",
          "Acer",
          "Acer",
          "Acer",
          "Acer",
          "Acer",
          "Acer",
          "Acer",
          "Acer",
          "Acer",
          "Acer",
          "Acer",
          "Acer",
          "Acer",
          "Acer",
          "Acer",
          "Acer",
          "Acer",
          "Acer",
          "Acer",
          "Acer",
          "Acer",
          "Acer",
          "Acer",
          "Acer",
          "Acer",
          "Acer",
          "Acer",
          "Acer",
          "Acer",
          "Acer",
          "Acer",
          "Acer",
          "Acer",
          "Acer",
          "Acer",
          "Acer",
          "Acer",
          "Acer",
          "Acer",
          "Acer",
          "Acer",
          "Acer",
          "Acer",
          "Acer",
          "Acer",
          "Acer",
          "Acer",
          "Acer",
          "Acer",
          "Acer",
          "Acer",
          "Acer",
          "Acer",
          "Acer",
          "Acer",
          "Acer",
          "Acer",
          "Acer",
          "Acer",
          "Acer",
          "Acer"
         ],
         "xaxis": "x",
         "y": [
          400,
          770,
          367,
          682,
          841,
          384,
          389,
          530,
          395,
          689,
          847,
          479,
          451,
          884,
          572,
          655,
          447,
          805,
          348,
          363.51,
          854,
          449,
          989,
          742,
          779,
          832,
          689,
          390,
          846,
          702,
          745,
          951,
          659,
          199,
          979,
          469,
          485,
          659,
          549,
          426,
          846,
          693.99,
          879,
          789.01,
          441.8,
          544,
          435,
          469,
          579,
          613,
          639,
          798,
          349,
          329,
          349,
          379,
          450,
          919,
          709,
          412,
          1299,
          375,
          269,
          999,
          1935,
          559,
          410.8,
          330,
          599,
          655,
          298,
          636,
          2299,
          355,
          619,
          902,
          297,
          359,
          499,
          619,
          349,
          389,
          1009,
          380,
          1260,
          409,
          449,
          387,
          799,
          209,
          616,
          333,
          691,
          2599,
          272,
          629,
          174,
          598,
          1149,
          361.8,
          289
         ],
         "yaxis": "y"
        },
        {
         "customdata": [
          [
           "ZenBook UX430UN"
          ],
          [
           "Vivobook E200HA"
          ],
          [
           "E402WA-GA010T (E2-6110/2GB/32GB/W10)"
          ],
          [
           "X540UA-DM186 (i3-6006U/4GB/1TB/FHD/Linux)"
          ],
          [
           "X542UQ-GO005 (i5-7200U/8GB/1TB/GeForce"
          ],
          [
           "Rog Strix"
          ],
          [
           "X751NV-TY001T (N4200/4GB/1TB/GeForce"
          ],
          [
           "VivoBook Max"
          ],
          [
           "X541UA-DM1897 (i3-6006U/4GB/256GB/FHD/Linux)"
          ],
          [
           "UX410UA-GV350T (i5-8250U/8GB/256GB/FHD/W10)"
          ],
          [
           "ZenBook Pro"
          ],
          [
           "FX753VE-GC093 (i7-7700HQ/12GB/1TB/GeForce"
          ],
          [
           "FX503VD-E4022T (i7-7700HQ/8GB/1TB/GeForce"
          ],
          [
           "FX503VM-E4007T (i7-7700HQ/16GB/1TB"
          ],
          [
           "FX550IK-DM018T (FX-9830P/8GB/1TB/Radeon"
          ],
          [
           "Zenbook UX430UA"
          ],
          [
           "X541UV-DM1439T (i3-7100U/6GB/256GB/GeForce"
          ],
          [
           "UX430UQ-GV209R (i7-7500U/8GB/256GB/GeForce"
          ],
          [
           "VivoBook S15"
          ],
          [
           "X705UV-BX074T (i3-6006U/4GB/1TB/GeForce"
          ],
          [
           "VivoBook S15"
          ],
          [
           "E402WA-GA007T (E2-6110/4GB/64GB/W10"
          ],
          [
           "FX753VD-GC086T (i5-7300HQ/8GB/1TB"
          ],
          [
           "ZenBook UX430UA"
          ],
          [
           "X541NA (N3350/4GB/1TB/FHD/W10)"
          ],
          [
           "ZenBook Flip"
          ],
          [
           "X555BP-XX180T (A9-9420/4GB/1TB/Radeon"
          ],
          [
           "ROG GL703VD-GC028T"
          ],
          [
           "Vivobook X541UV-DM1217T"
          ],
          [
           "K756UX-T4340T (i5-7200U/8GB/500GB"
          ],
          [
           "Pro P2540UA-XO0198T"
          ],
          [
           "X555QG-DM242T (A10-9620P/4GB/1TB"
          ],
          [
           "ROG G703VI-E5062T"
          ],
          [
           "VivoBook Pro"
          ],
          [
           "F756UX-T4201D (i7-7500U/8GB/128GB"
          ],
          [
           "Rog G701VIK-BA060T"
          ],
          [
           "ROG G752VSK-GC493T"
          ],
          [
           "X505BP-BR019T (A9-9420/4GB/1TB/Radeon"
          ],
          [
           "ZenBook Flip"
          ],
          [
           "Rog Strix"
          ],
          [
           "VivoBook S15"
          ],
          [
           "FX753VD-GC071T (i7-7700HQ/8GB/1TB/GeForce"
          ],
          [
           "ZenBook UX530UQ-PRO"
          ],
          [
           "VivoBook S14"
          ],
          [
           "Rog GL702VS-GC095T"
          ],
          [
           "GL553VE-FY082T (i7-7700HQ/8GB/1TB"
          ],
          [
           "VivoBook Flip"
          ],
          [
           "ZenBook UX410UA-GV183T"
          ],
          [
           "VivoBook S15"
          ],
          [
           "UX510UX-CN269T (i7-7500U/8GB/256GB"
          ],
          [
           "FX553VD-FY647T (i7-7700HQ/8GB/256GB/GeForce"
          ],
          [
           "X541NA (N3350/4GB/1TB/Linux)"
          ],
          [
           "VivoBook Flip"
          ],
          [
           "Zenbook UX410UA-GV027T"
          ],
          [
           "ZenBook Flip"
          ],
          [
           "Rog Strix"
          ],
          [
           "VivoBook E403NA"
          ],
          [
           "ROG Strix"
          ],
          [
           "Zenbook Flip"
          ],
          [
           "Rog GL753VD-GC042T"
          ],
          [
           "Rog GL753VE-GC070T"
          ],
          [
           "FX753VD-GC461T (i7-7700HQ/16GB/1TB"
          ],
          [
           "Zenbook 3"
          ],
          [
           "ZenBook Flip"
          ],
          [
           "X542UQ-DM117 (i3-7100U/8GB/1TB/GeForce"
          ],
          [
           "Rog Strix"
          ],
          [
           "VivoBook Max"
          ],
          [
           "Pro P2540UA-AB51"
          ],
          [
           "X541NA-PD1003Y (N4200/4GB/500GB/W10)"
          ],
          [
           "ZenBook Pro"
          ],
          [
           "Zenbook UX390UA"
          ],
          [
           "VivoBook Pro"
          ],
          [
           "Rog G752VL-UH71T"
          ],
          [
           "VivoBook E201NA"
          ],
          [
           "ZenBook UX510UX-CN211T"
          ],
          [
           "VivoBook E12"
          ],
          [
           "ROG Zephyrus"
          ],
          [
           "FX753VE-GC155T (i7-7700HQ/16GB/1TB"
          ],
          [
           "Zenbook UX510UW-FI095T"
          ],
          [
           "ROG Strix"
          ],
          [
           "VivoBook X540YA-XX519T"
          ],
          [
           "A541NA-GO342 (N3350/4GB/500GB/Linux)"
          ],
          [
           "FX553VD-DM627T (i5-7300HQ/8GB/1TB"
          ],
          [
           "ROG Strix"
          ],
          [
           "TP501UA-CJ131T (i5-7200U/8GB/1TB/W10)"
          ],
          [
           "FX753VD-GC007T (i7-7700HQ/8GB/1TB"
          ],
          [
           "Q304UA-BHI5T11 (i5-7200U/6GB/1TB/FHD/W10)"
          ],
          [
           "ZenBook 3"
          ],
          [
           "X541NA-GO414T (N3350/8GB/1TB/W10)"
          ],
          [
           "VivoBook Pro"
          ],
          [
           "ROG GL553VE-FY022"
          ],
          [
           "ROG G701VI"
          ],
          [
           "Zenbook 3"
          ],
          [
           "L502NA-GO052T (N3350/4GB/128GB/W10)"
          ],
          [
           "Chromebook Flip"
          ],
          [
           "VivoBook E403NA"
          ],
          [
           "X550VX-XX015D (i5-6300HQ/4GB/1TB/GeForce"
          ],
          [
           "Pro P2540UA-XO0192R"
          ],
          [
           "Zenbook UX330UA-AH5Q"
          ],
          [
           "X751NV-TY001 (N4200/4GB/1TB/GeForce"
          ],
          [
           "Q524UQ-BHI7T15 (i7-7500U/12GB/2TB/GeForce"
          ],
          [
           "Vivobook Max"
          ],
          [
           "Rog G752VS-BA171T"
          ],
          [
           "FX502VM-DM560T (i7-7700HQ/8GB/1TB"
          ],
          [
           "R417NA-RS01 (N3350/4GB/32GB/W10)"
          ],
          [
           "Pro P2540UA-XS51"
          ],
          [
           "ZenBook Flip"
          ],
          [
           "VivoBook Max"
          ],
          [
           "Rog GL702VS-BA023T"
          ],
          [
           "R558UA-DM966T (i5-7200U/8GB/128GB/FHD/W10)"
          ],
          [
           "Rog GL702VM-GC017T"
          ],
          [
           "ZenBook UX310UQ-GL026T"
          ],
          [
           "Rog GL502VM-DS74"
          ],
          [
           "K556UR-DM621T (i7-7500U/8GB/256GB/GeForce"
          ],
          [
           "X541NA (N4200/4GB/1TB/W10)"
          ],
          [
           "X541NA-GO121 (N4200/4GB/1TB/Linux)"
          ],
          [
           "VivoBook L402NA"
          ],
          [
           "Rog GL753VD-GC082T"
          ],
          [
           "G701VO-IH74K (i7-6820HK/32GB/2x"
          ],
          [
           "X751SV-TY001T (N3710/4GB/1TB/GeForce"
          ],
          [
           "Chromebook Flip"
          ],
          [
           "Rog Strix"
          ],
          [
           "Q534UX-BHI7T19 (i7-7500U/16GB/2TB"
          ],
          [
           "Rog GL753VE-DS74"
          ],
          [
           "ZenBook UX310UA-FB485T"
          ],
          [
           "Rog GL553VE-DS74"
          ],
          [
           "Chromebook C202SA"
          ],
          [
           "Rog G752VL-GC088D"
          ],
          [
           "ROG G701VO"
          ],
          [
           "Rog GL702VM-GC354T"
          ],
          [
           "G752VY-GC162T (i7-6700HQ/16GB/1TB"
          ],
          [
           "Rog GL552VW-CN470T"
          ],
          [
           "Rog GL752VW-T4308T"
          ],
          [
           "VivoBook Max"
          ],
          [
           "L403NA-GA013TS (N3350/4GB/32GB/W10)"
          ],
          [
           "X553SA-XX021T (N3050/4GB/500GB/W10)"
          ],
          [
           "UX410UA-GV097T (i3-7100U/4GB/256GB/FHD/W10)"
          ],
          [
           "Rog GL552VW-DM201T"
          ],
          [
           "Rog G752VY-GC229T"
          ],
          [
           "FX502VM-DM105T (i7-6700HQ/8GB/1TB/GeForce"
          ],
          [
           "Rog Strix"
          ],
          [
           "FX502VM-AS73 (i7-7700HQ/16GB/1TB"
          ],
          [
           "ROG Strix"
          ],
          [
           "X540SA-RBPDN09 (N3710/4GB/1TB/W10)"
          ],
          [
           "ZenBook UX310UA-WB71"
          ],
          [
           "Rog GL553VE-FY052T"
          ],
          [
           "Rog GL502VS"
          ],
          [
           "X541NA-GO020T (N3350/4GB/1TB/W10)"
          ],
          [
           "Rog G752VT-GC073T"
          ],
          [
           "ZenBook UX305CA-UBM1"
          ],
          [
           "X556UJ-XO044T (i7-6500U/4GB/500GB/GeForce"
          ],
          [
           "X553SA-XX031T (N3050/4GB/500GB/W10)"
          ]
         ],
         "hovertemplate": "Company=%{x}<br>Price (Euro)=%{marker.size}<br>Product=%{customdata[0]}<extra></extra>",
         "legendgroup": "Asus",
         "marker": {
          "color": "#ab63fa",
          "size": [
           1495,
           191.9,
           199,
           389,
           522.99,
           1299,
           466,
           586.19,
           415,
           941,
           1983,
           949,
           949,
           1449,
           699,
           1049,
           577,
           1193,
           1262,
           564,
           1118,
           277.99,
           938,
           1099,
           344,
           1315,
           403,
           1407,
           769,
           891,
           398.99,
           575,
           3890,
           1145,
           889,
           2999,
           1799,
           469,
           1499,
           1549,
           977,
           1187,
           1468,
           509,
           2122,
           1265,
           275,
           1094,
           1049.9,
           1334,
           999,
           274.99,
           375,
           945,
           1099,
           2199,
           286,
           1655,
           1748.9,
           1039,
           1591,
           1529,
           1873,
           928,
           597,
           1695,
           559,
           749,
           304,
           1299,
           1950,
           1350,
           1269,
           340,
           1224,
           245,
           2968,
           1504,
           1299,
           1649,
           349,
           224,
           839,
           1770,
           739,
           1168,
           639.01,
           1900,
           399,
           906.62,
           1169,
           2799,
           1135,
           419,
           669,
           298,
           579,
           849.9,
           1129,
           470.34,
           839,
           581.9,
           2350,
           1339,
           299,
           1099,
           1358,
           519,
           2419,
           590,
           1799,
           1026,
           1899,
           787,
           449,
           398.99,
           348,
           1369.9,
           1279,
           530,
           1159,
           2049.9,
           1799,
           1749,
           1150,
           1799,
           287.9,
           998,
           3975,
           1599,
           2299,
           1339,
           1312.49,
           435,
           278,
           369,
           769,
           909,
           2150,
           1169,
           2449,
           1749,
           1949,
           309,
           1280,
           1600,
           2325,
           339,
           1900,
           729,
           720.32,
           369
          ],
          "sizemode": "area",
          "sizeref": 15.2475,
          "symbol": "circle"
         },
         "mode": "markers",
         "name": "Asus",
         "showlegend": true,
         "type": "scattergl",
         "x": [
          "Asus",
          "Asus",
          "Asus",
          "Asus",
          "Asus",
          "Asus",
          "Asus",
          "Asus",
          "Asus",
          "Asus",
          "Asus",
          "Asus",
          "Asus",
          "Asus",
          "Asus",
          "Asus",
          "Asus",
          "Asus",
          "Asus",
          "Asus",
          "Asus",
          "Asus",
          "Asus",
          "Asus",
          "Asus",
          "Asus",
          "Asus",
          "Asus",
          "Asus",
          "Asus",
          "Asus",
          "Asus",
          "Asus",
          "Asus",
          "Asus",
          "Asus",
          "Asus",
          "Asus",
          "Asus",
          "Asus",
          "Asus",
          "Asus",
          "Asus",
          "Asus",
          "Asus",
          "Asus",
          "Asus",
          "Asus",
          "Asus",
          "Asus",
          "Asus",
          "Asus",
          "Asus",
          "Asus",
          "Asus",
          "Asus",
          "Asus",
          "Asus",
          "Asus",
          "Asus",
          "Asus",
          "Asus",
          "Asus",
          "Asus",
          "Asus",
          "Asus",
          "Asus",
          "Asus",
          "Asus",
          "Asus",
          "Asus",
          "Asus",
          "Asus",
          "Asus",
          "Asus",
          "Asus",
          "Asus",
          "Asus",
          "Asus",
          "Asus",
          "Asus",
          "Asus",
          "Asus",
          "Asus",
          "Asus",
          "Asus",
          "Asus",
          "Asus",
          "Asus",
          "Asus",
          "Asus",
          "Asus",
          "Asus",
          "Asus",
          "Asus",
          "Asus",
          "Asus",
          "Asus",
          "Asus",
          "Asus",
          "Asus",
          "Asus",
          "Asus",
          "Asus",
          "Asus",
          "Asus",
          "Asus",
          "Asus",
          "Asus",
          "Asus",
          "Asus",
          "Asus",
          "Asus",
          "Asus",
          "Asus",
          "Asus",
          "Asus",
          "Asus",
          "Asus",
          "Asus",
          "Asus",
          "Asus",
          "Asus",
          "Asus",
          "Asus",
          "Asus",
          "Asus",
          "Asus",
          "Asus",
          "Asus",
          "Asus",
          "Asus",
          "Asus",
          "Asus",
          "Asus",
          "Asus",
          "Asus",
          "Asus",
          "Asus",
          "Asus",
          "Asus",
          "Asus",
          "Asus",
          "Asus",
          "Asus",
          "Asus",
          "Asus",
          "Asus",
          "Asus",
          "Asus",
          "Asus",
          "Asus"
         ],
         "xaxis": "x",
         "y": [
          1495,
          191.9,
          199,
          389,
          522.99,
          1299,
          466,
          586.19,
          415,
          941,
          1983,
          949,
          949,
          1449,
          699,
          1049,
          577,
          1193,
          1262,
          564,
          1118,
          277.99,
          938,
          1099,
          344,
          1315,
          403,
          1407,
          769,
          891,
          398.99,
          575,
          3890,
          1145,
          889,
          2999,
          1799,
          469,
          1499,
          1549,
          977,
          1187,
          1468,
          509,
          2122,
          1265,
          275,
          1094,
          1049.9,
          1334,
          999,
          274.99,
          375,
          945,
          1099,
          2199,
          286,
          1655,
          1748.9,
          1039,
          1591,
          1529,
          1873,
          928,
          597,
          1695,
          559,
          749,
          304,
          1299,
          1950,
          1350,
          1269,
          340,
          1224,
          245,
          2968,
          1504,
          1299,
          1649,
          349,
          224,
          839,
          1770,
          739,
          1168,
          639.01,
          1900,
          399,
          906.62,
          1169,
          2799,
          1135,
          419,
          669,
          298,
          579,
          849.9,
          1129,
          470.34,
          839,
          581.9,
          2350,
          1339,
          299,
          1099,
          1358,
          519,
          2419,
          590,
          1799,
          1026,
          1899,
          787,
          449,
          398.99,
          348,
          1369.9,
          1279,
          530,
          1159,
          2049.9,
          1799,
          1749,
          1150,
          1799,
          287.9,
          998,
          3975,
          1599,
          2299,
          1339,
          1312.49,
          435,
          278,
          369,
          769,
          909,
          2150,
          1169,
          2449,
          1749,
          1949,
          309,
          1280,
          1600,
          2325,
          339,
          1900,
          729,
          720.32,
          369
         ],
         "yaxis": "y"
        },
        {
         "customdata": [
          [
           "Inspiron 3567"
          ],
          [
           "Inspiron 3567"
          ],
          [
           "XPS 13"
          ],
          [
           "Inspiron 5379"
          ],
          [
           "Inspiron 3567"
          ],
          [
           "Inspiron 5570"
          ],
          [
           "Latitude 5590"
          ],
          [
           "XPS 13"
          ],
          [
           "Inspiron 5770"
          ],
          [
           "Inspiron 7577"
          ],
          [
           "Inspiron 7773"
          ],
          [
           "Inspiron 3567"
          ],
          [
           "Inspiron 3576"
          ],
          [
           "Inspiron 5770"
          ],
          [
           "Vostro 5471"
          ],
          [
           "Inspiron 5370"
          ],
          [
           "Inspiron 5570"
          ],
          [
           "Inspiron 5570"
          ],
          [
           "Latitude 5590"
          ],
          [
           "Inspiron 7577"
          ],
          [
           "XPS 13"
          ],
          [
           "Inspiron 7577"
          ],
          [
           "Inspiron 3567"
          ],
          [
           "Inspiron 3567"
          ],
          [
           "Inspiron 3576"
          ],
          [
           "XPS 13"
          ],
          [
           "XPS 13"
          ],
          [
           "Inspiron 7570"
          ],
          [
           "Inspiron 5770"
          ],
          [
           "Inspiron 5567"
          ],
          [
           "Inspiron 3567"
          ],
          [
           "Inspiron 5577"
          ],
          [
           "Inspiron 7567"
          ],
          [
           "Inspiron 5579"
          ],
          [
           "Inspiron 3576"
          ],
          [
           "Inspiron 5577"
          ],
          [
           "Inspiron 3567"
          ],
          [
           "Inspiron 5570"
          ],
          [
           "XPS 13"
          ],
          [
           "Inspiron 7773"
          ],
          [
           "XPS 15"
          ],
          [
           "Inspiron 5770"
          ],
          [
           "Inspiron 5379"
          ],
          [
           "Inspiron 7577"
          ],
          [
           "Precision 7520"
          ],
          [
           "Inspiron 3567"
          ],
          [
           "XPS 13"
          ],
          [
           "XPS 13"
          ],
          [
           "Inspiron 5370"
          ],
          [
           "Latitude 5490"
          ],
          [
           "Inspiron 5379"
          ],
          [
           "Inspiron 3576"
          ],
          [
           "Alienware 17"
          ],
          [
           "Inspiron 5567"
          ],
          [
           "Vostro 5468"
          ],
          [
           "Inspiron 5567"
          ],
          [
           "Inspiron 5577"
          ],
          [
           "Inspiron 5570"
          ],
          [
           "Inspiron 5579"
          ],
          [
           "Vostro 5370"
          ],
          [
           "Inspiron 5770"
          ],
          [
           "Vostro 3568"
          ],
          [
           "Inspiron 3567"
          ],
          [
           "Inspiron 5579"
          ],
          [
           "Inspiron 3576"
          ],
          [
           "Inspiron 5567"
          ],
          [
           "Inspiron 5770"
          ],
          [
           "Inspiron 3567"
          ],
          [
           "XPS 15"
          ],
          [
           "Precision 7720"
          ],
          [
           "XPS 13"
          ],
          [
           "Inspiron 5570"
          ],
          [
           "XPS 15"
          ],
          [
           "Inspiron 7570"
          ],
          [
           "Inspiron 7570"
          ],
          [
           "Inspiron 3552"
          ],
          [
           "XPS 13"
          ],
          [
           "Latitude 5590"
          ],
          [
           "Inspiron 5570"
          ],
          [
           "XPS 15"
          ],
          [
           "Inspiron 5570"
          ],
          [
           "Inspiron 7577"
          ],
          [
           "Inspiron 3567"
          ],
          [
           "Latitude 7480"
          ],
          [
           "Inspiron 5770"
          ],
          [
           "Inspiron 5567"
          ],
          [
           "Inspiron 5379"
          ],
          [
           "Inspiron 3552"
          ],
          [
           "Precision 3510"
          ],
          [
           "Precision 5520"
          ],
          [
           "Inspiron 5567"
          ],
          [
           "Precision M5520"
          ],
          [
           "Latitude 7480"
          ],
          [
           "Inspiron 3567"
          ],
          [
           "Latitude 3380"
          ],
          [
           "Inspiron 3567"
          ],
          [
           "Alienware 17"
          ],
          [
           "Inspiron 7577"
          ],
          [
           "Inspiron 5570"
          ],
          [
           "Latitude 5480"
          ],
          [
           "Inspiron 5570"
          ],
          [
           "Latitude 5480"
          ],
          [
           "Precision 3520"
          ],
          [
           "Precision 3520"
          ],
          [
           "Inspiron 5570"
          ],
          [
           "Inspiron 3168"
          ],
          [
           "Alienware 17"
          ],
          [
           "Inspiron 5570"
          ],
          [
           "Latitude 7390"
          ],
          [
           "Latitude E5470"
          ],
          [
           "Precision M5520"
          ],
          [
           "Inspiron 3576"
          ],
          [
           "Inspiron 7570"
          ],
          [
           "Vostro 3568"
          ],
          [
           "Precision 3520"
          ],
          [
           "XPS 15"
          ],
          [
           "XPS 13"
          ],
          [
           "Vostro 5568"
          ],
          [
           "Inspiron 5570"
          ],
          [
           "Latitude 5480"
          ],
          [
           "Inspiron 5770"
          ],
          [
           "Inspiron 3567"
          ],
          [
           "Latitude 5580"
          ],
          [
           "Alienware 17"
          ],
          [
           "Latitude 5580"
          ],
          [
           "Inspiron 5570"
          ],
          [
           "XPS 13"
          ],
          [
           "Vostro 5468"
          ],
          [
           "Latitude 5580"
          ],
          [
           "Alienware 17"
          ],
          [
           "Vostro 3568"
          ],
          [
           "XPS 13"
          ],
          [
           "Latitude 5580"
          ],
          [
           "Inspiron 3567"
          ],
          [
           "Latitude 5580"
          ],
          [
           "Latitude 5580"
          ],
          [
           "Chromebook 11"
          ],
          [
           "Inspiron 3179"
          ],
          [
           "Latitude 5289"
          ],
          [
           "Precision 3520"
          ],
          [
           "Vostro 3568"
          ],
          [
           "Inspiron 7559"
          ],
          [
           "Vostro 3568"
          ],
          [
           "Inspiron 3567"
          ],
          [
           "Latitude 5580"
          ],
          [
           "Vostro 3568"
          ],
          [
           "Inspiron 5570"
          ],
          [
           "XPS 15"
          ],
          [
           "Inspiron 7567"
          ],
          [
           "XPS 13"
          ],
          [
           "XPS 15"
          ],
          [
           "XPS 13"
          ],
          [
           "Inspiron 5570"
          ],
          [
           "Inspiron 5570"
          ],
          [
           "Alienware 17"
          ],
          [
           "Latitude E7470"
          ],
          [
           "Latitude 3580"
          ],
          [
           "Alienware 15"
          ],
          [
           "Alienware 15"
          ],
          [
           "Inspiron 3567"
          ],
          [
           "Inspiron 5577"
          ],
          [
           "Vostro 5568"
          ],
          [
           "Latitude 5480"
          ],
          [
           "Vostro 5568"
          ],
          [
           "Latitude 5580"
          ],
          [
           "Latitude 5580"
          ],
          [
           "Alienware 17"
          ],
          [
           "Inspiron 5570"
          ],
          [
           "Inspiron 5378"
          ],
          [
           "Inspiron 5567"
          ],
          [
           "Inspiron 3567"
          ],
          [
           "Inspiron 5379"
          ],
          [
           "Inspiron 7560"
          ],
          [
           "Vostro 3568"
          ],
          [
           "Latitude 5480"
          ],
          [
           "Alienware 17"
          ],
          [
           "Latitude 7280"
          ],
          [
           "Latitude 3380"
          ],
          [
           "Inspiron 7559"
          ],
          [
           "Inspiron 5567"
          ],
          [
           "Inspiron 7567"
          ],
          [
           "Alienware 17"
          ],
          [
           "Inspiron 7567"
          ],
          [
           "Latitude 3580"
          ],
          [
           "Vostro 5568"
          ],
          [
           "XPS 13"
          ],
          [
           "XPS 15"
          ],
          [
           "Latitude 3180"
          ],
          [
           "Inspiron 7567"
          ],
          [
           "Vostro 5568"
          ],
          [
           "Vostro 3568"
          ],
          [
           "Alienware 17"
          ],
          [
           "Latitude 3480"
          ],
          [
           "Latitude 3480"
          ],
          [
           "Alienware 15"
          ],
          [
           "Alienware 17"
          ],
          [
           "Vostro 3568"
          ],
          [
           "Vostro 3568"
          ],
          [
           "Inspiron 5767"
          ],
          [
           "Latitude 5580"
          ],
          [
           "Inspiron 5368"
          ],
          [
           "XPS 13"
          ],
          [
           "Precision 3520"
          ],
          [
           "Latitude 7280"
          ],
          [
           "Vostro 5568"
          ],
          [
           "Inspiron 3552"
          ],
          [
           "Vostro 3568"
          ],
          [
           "Inspiron 7567"
          ],
          [
           "Vostro 3568"
          ],
          [
           "Latitude 5580"
          ],
          [
           "XPS 13"
          ],
          [
           "XPS 13"
          ],
          [
           "Latitude 5480"
          ],
          [
           "Inspiron 7567"
          ],
          [
           "Vostro 3568"
          ],
          [
           "Latitude 3580"
          ],
          [
           "Vostro 3568"
          ],
          [
           "Vostro 3568"
          ],
          [
           "Latitude 7480"
          ],
          [
           "Alienware 17"
          ],
          [
           "Latitude 7280"
          ],
          [
           "Insprion 5767"
          ],
          [
           "Latitude 7480"
          ],
          [
           "Alienware 17"
          ],
          [
           "XPS 13"
          ],
          [
           "XPS 13"
          ],
          [
           "Inspiron 3567"
          ],
          [
           "Latitude 5580"
          ],
          [
           "Alienware 17"
          ],
          [
           "XPS 13"
          ],
          [
           "Latitude E7470"
          ],
          [
           "Alienware 17"
          ],
          [
           "Inspiron 7579"
          ],
          [
           "Inspiron 3567"
          ],
          [
           "Inspiron 5567"
          ],
          [
           "Latitude 5480"
          ],
          [
           "Inspiron 5378"
          ],
          [
           "Vostro 3568"
          ],
          [
           "Inspiron 7567"
          ],
          [
           "Inspiron 5568"
          ],
          [
           "Latitude E5570"
          ],
          [
           "XPS 13"
          ],
          [
           "Latitude E5570"
          ],
          [
           "Inspiron 5578"
          ],
          [
           "XPS 13"
          ],
          [
           "Inspiron 7378"
          ],
          [
           "Inspiron 3567"
          ],
          [
           "Inspiron 5567"
          ],
          [
           "XPS 13"
          ],
          [
           "Inspiron 5368"
          ],
          [
           "Alienware 15"
          ],
          [
           "Latitude 3570"
          ],
          [
           "Vostro 3568"
          ],
          [
           "Inspiron 3552"
          ],
          [
           "Inspiron 5370"
          ],
          [
           "Inspiron 5567"
          ],
          [
           "Latitude E5270"
          ],
          [
           "Latitude E5270"
          ],
          [
           "Latitude E5270"
          ],
          [
           "Vostro 3559"
          ],
          [
           "XPS 13"
          ],
          [
           "Latitude E5570"
          ],
          [
           "Inspiron 5567"
          ],
          [
           "Vostro 5568"
          ],
          [
           "Inspiron 7567"
          ],
          [
           "XPS 15"
          ],
          [
           "Inspiron 7567"
          ],
          [
           "Vostro 5568"
          ],
          [
           "Inspiron 5578"
          ],
          [
           "XPS 13"
          ],
          [
           "Inspiron 7378"
          ],
          [
           "Inspiron 5567"
          ],
          [
           "Inspiron 5579"
          ],
          [
           "XPS 13"
          ],
          [
           "Inspiron 5567"
          ],
          [
           "Inspiron 7579"
          ],
          [
           "Latitude E7270"
          ],
          [
           "Inspiron 5578"
          ],
          [
           "XPS 13"
          ],
          [
           "Vostro 3568"
          ],
          [
           "Inspiron 3567"
          ],
          [
           "Vostro 3559"
          ],
          [
           "Inspiron 7779"
          ],
          [
           "Latitude 5480"
          ],
          [
           "XPS 13"
          ],
          [
           "Inspiron 3552"
          ],
          [
           "Inspiron 3552"
          ],
          [
           "Vostro 3568"
          ],
          [
           "Inspiron 3567"
          ],
          [
           "Inspiron 3552"
          ],
          [
           "Inspiron 3567"
          ]
         ],
         "hovertemplate": "Company=%{x}<br>Price (Euro)=%{marker.size}<br>Product=%{customdata[0]}<extra></extra>",
         "legendgroup": "Dell",
         "marker": {
          "color": "#FFA15A",
          "size": [
           498.9,
           745,
           979,
           819,
           418.64,
           800,
           1298,
           1869,
           979,
           1499,
           999,
           639,
           767.8,
           1299,
           879,
           955,
           870,
           855,
           1096.16,
           1349,
           1649,
           1195,
           599.9,
           485,
           647,
           1379,
           1629,
           1130.33,
           1396,
           638.99,
           449,
           1249.26,
           899,
           1049,
           728,
           1060.49,
           459,
           1049,
           1399,
           1549,
           2397,
           1085,
           839,
           1845,
           3055,
           439,
           1949,
           1449,
           931.88,
           1149,
           1279,
           677.35,
           2456.34,
           859.01,
           859,
           899,
           879,
           985,
           819,
           949,
           1142,
           657,
           565,
           799,
           735.07,
           713.07,
           1099,
           428,
           1829,
           2884.86,
           2499,
           844,
           2639,
           1049,
           1142.75,
           274.9,
           1579,
           1607.96,
           663,
           2027.42,
           970.9,
           999,
           557.37,
           1427,
           1085,
           899,
           869.01,
           309,
           1369,
           2135,
           778.87,
           2712,
           1680,
           598.9,
           689,
           539.95,
           2799,
           1159,
           1142.4,
           1099,
           749,
           1179,
           1993,
           1975,
           979,
           479,
           2046,
           759,
           1841.85,
           740,
           2408,
           675,
           1262,
           586.6,
           2338,
           1899,
           899,
           836,
           1219.24,
           1279.73,
           889,
           585,
           1377,
           3012.77,
           1369,
           797.41,
           1399,
           735.87,
           1116.99,
           2699,
           617.9,
           1599,
           959,
           749.01,
           1008.52,
           1537.39,
           295,
           603,
           1670,
           1763,
           465,
           879.01,
           443.9,
           359,
           869,
           569,
           776,
           1820,
           1479,
           1869,
           2399,
           1449.9,
           919,
           1135,
           3147.37,
           1229,
           955,
           2051,
           2813.75,
           545.67,
           819,
           795,
           1089,
           726,
           1426.66,
           1179,
           3659.4,
           719,
           649,
           589.52,
           649,
           659,
           1207,
           665,
           1126.71,
           2868.99,
           1859,
           849,
           1099,
           1181.27,
           1099,
           3588.8,
           985,
           810,
           739,
           1499,
           1749,
           744,
           1679,
           961,
           789.81,
           2505.02,
           755,
           585,
           2774.63,
           3072.89,
           713.99,
           739,
           865,
           945,
           649,
           2240,
           1778,
           1690,
           912.5,
           369,
           455.7,
           929,
           614,
           935,
           2013.1,
           1649,
           1205,
           1349,
           684.99,
           729.9,
           708.06,
           558.6,
           1639,
           2758,
           1472.2,
           659,
           1775,
           3154,
           1899,
           1268,
           465.62,
           825,
           3149,
           1899,
           1962.98,
           2800,
           1299,
           599,
           749,
           1119,
           889,
           547,
           949,
           795.99,
           1046.44,
           1624,
           1062.95,
           1094,
           2254,
           1299,
           559,
           989.99,
           1458,
           798.01,
           1329,
           481.98,
           750,
           393.49,
           818.35,
           638.8,
           1135.15,
           1166.97,
           1413.1,
           769.15,
           1379,
           523.63,
           784,
           1009.9,
           1199,
           2250.68,
           1498,
           895.01,
           1179,
           1099,
           1199,
           499,
           1285,
           2680,
           889,
           999,
           1713.37,
           509,
           1477,
           521.86,
           469.01,
           737,
           1799,
           875,
           1813,
           324,
           443.99,
           490,
           459,
           379,
           805.99
          ],
          "sizemode": "area",
          "sizeref": 15.2475,
          "symbol": "circle"
         },
         "mode": "markers",
         "name": "Dell",
         "showlegend": true,
         "type": "scattergl",
         "x": [
          "Dell",
          "Dell",
          "Dell",
          "Dell",
          "Dell",
          "Dell",
          "Dell",
          "Dell",
          "Dell",
          "Dell",
          "Dell",
          "Dell",
          "Dell",
          "Dell",
          "Dell",
          "Dell",
          "Dell",
          "Dell",
          "Dell",
          "Dell",
          "Dell",
          "Dell",
          "Dell",
          "Dell",
          "Dell",
          "Dell",
          "Dell",
          "Dell",
          "Dell",
          "Dell",
          "Dell",
          "Dell",
          "Dell",
          "Dell",
          "Dell",
          "Dell",
          "Dell",
          "Dell",
          "Dell",
          "Dell",
          "Dell",
          "Dell",
          "Dell",
          "Dell",
          "Dell",
          "Dell",
          "Dell",
          "Dell",
          "Dell",
          "Dell",
          "Dell",
          "Dell",
          "Dell",
          "Dell",
          "Dell",
          "Dell",
          "Dell",
          "Dell",
          "Dell",
          "Dell",
          "Dell",
          "Dell",
          "Dell",
          "Dell",
          "Dell",
          "Dell",
          "Dell",
          "Dell",
          "Dell",
          "Dell",
          "Dell",
          "Dell",
          "Dell",
          "Dell",
          "Dell",
          "Dell",
          "Dell",
          "Dell",
          "Dell",
          "Dell",
          "Dell",
          "Dell",
          "Dell",
          "Dell",
          "Dell",
          "Dell",
          "Dell",
          "Dell",
          "Dell",
          "Dell",
          "Dell",
          "Dell",
          "Dell",
          "Dell",
          "Dell",
          "Dell",
          "Dell",
          "Dell",
          "Dell",
          "Dell",
          "Dell",
          "Dell",
          "Dell",
          "Dell",
          "Dell",
          "Dell",
          "Dell",
          "Dell",
          "Dell",
          "Dell",
          "Dell",
          "Dell",
          "Dell",
          "Dell",
          "Dell",
          "Dell",
          "Dell",
          "Dell",
          "Dell",
          "Dell",
          "Dell",
          "Dell",
          "Dell",
          "Dell",
          "Dell",
          "Dell",
          "Dell",
          "Dell",
          "Dell",
          "Dell",
          "Dell",
          "Dell",
          "Dell",
          "Dell",
          "Dell",
          "Dell",
          "Dell",
          "Dell",
          "Dell",
          "Dell",
          "Dell",
          "Dell",
          "Dell",
          "Dell",
          "Dell",
          "Dell",
          "Dell",
          "Dell",
          "Dell",
          "Dell",
          "Dell",
          "Dell",
          "Dell",
          "Dell",
          "Dell",
          "Dell",
          "Dell",
          "Dell",
          "Dell",
          "Dell",
          "Dell",
          "Dell",
          "Dell",
          "Dell",
          "Dell",
          "Dell",
          "Dell",
          "Dell",
          "Dell",
          "Dell",
          "Dell",
          "Dell",
          "Dell",
          "Dell",
          "Dell",
          "Dell",
          "Dell",
          "Dell",
          "Dell",
          "Dell",
          "Dell",
          "Dell",
          "Dell",
          "Dell",
          "Dell",
          "Dell",
          "Dell",
          "Dell",
          "Dell",
          "Dell",
          "Dell",
          "Dell",
          "Dell",
          "Dell",
          "Dell",
          "Dell",
          "Dell",
          "Dell",
          "Dell",
          "Dell",
          "Dell",
          "Dell",
          "Dell",
          "Dell",
          "Dell",
          "Dell",
          "Dell",
          "Dell",
          "Dell",
          "Dell",
          "Dell",
          "Dell",
          "Dell",
          "Dell",
          "Dell",
          "Dell",
          "Dell",
          "Dell",
          "Dell",
          "Dell",
          "Dell",
          "Dell",
          "Dell",
          "Dell",
          "Dell",
          "Dell",
          "Dell",
          "Dell",
          "Dell",
          "Dell",
          "Dell",
          "Dell",
          "Dell",
          "Dell",
          "Dell",
          "Dell",
          "Dell",
          "Dell",
          "Dell",
          "Dell",
          "Dell",
          "Dell",
          "Dell",
          "Dell",
          "Dell",
          "Dell",
          "Dell",
          "Dell",
          "Dell",
          "Dell",
          "Dell",
          "Dell",
          "Dell",
          "Dell",
          "Dell",
          "Dell",
          "Dell",
          "Dell",
          "Dell",
          "Dell",
          "Dell",
          "Dell",
          "Dell",
          "Dell",
          "Dell",
          "Dell",
          "Dell",
          "Dell",
          "Dell",
          "Dell",
          "Dell",
          "Dell",
          "Dell",
          "Dell",
          "Dell",
          "Dell",
          "Dell",
          "Dell",
          "Dell",
          "Dell",
          "Dell",
          "Dell",
          "Dell",
          "Dell",
          "Dell",
          "Dell",
          "Dell",
          "Dell",
          "Dell",
          "Dell",
          "Dell"
         ],
         "xaxis": "x",
         "y": [
          498.9,
          745,
          979,
          819,
          418.64,
          800,
          1298,
          1869,
          979,
          1499,
          999,
          639,
          767.8,
          1299,
          879,
          955,
          870,
          855,
          1096.16,
          1349,
          1649,
          1195,
          599.9,
          485,
          647,
          1379,
          1629,
          1130.33,
          1396,
          638.99,
          449,
          1249.26,
          899,
          1049,
          728,
          1060.49,
          459,
          1049,
          1399,
          1549,
          2397,
          1085,
          839,
          1845,
          3055,
          439,
          1949,
          1449,
          931.88,
          1149,
          1279,
          677.35,
          2456.34,
          859.01,
          859,
          899,
          879,
          985,
          819,
          949,
          1142,
          657,
          565,
          799,
          735.07,
          713.07,
          1099,
          428,
          1829,
          2884.86,
          2499,
          844,
          2639,
          1049,
          1142.75,
          274.9,
          1579,
          1607.96,
          663,
          2027.42,
          970.9,
          999,
          557.37,
          1427,
          1085,
          899,
          869.01,
          309,
          1369,
          2135,
          778.87,
          2712,
          1680,
          598.9,
          689,
          539.95,
          2799,
          1159,
          1142.4,
          1099,
          749,
          1179,
          1993,
          1975,
          979,
          479,
          2046,
          759,
          1841.85,
          740,
          2408,
          675,
          1262,
          586.6,
          2338,
          1899,
          899,
          836,
          1219.24,
          1279.73,
          889,
          585,
          1377,
          3012.77,
          1369,
          797.41,
          1399,
          735.87,
          1116.99,
          2699,
          617.9,
          1599,
          959,
          749.01,
          1008.52,
          1537.39,
          295,
          603,
          1670,
          1763,
          465,
          879.01,
          443.9,
          359,
          869,
          569,
          776,
          1820,
          1479,
          1869,
          2399,
          1449.9,
          919,
          1135,
          3147.37,
          1229,
          955,
          2051,
          2813.75,
          545.67,
          819,
          795,
          1089,
          726,
          1426.66,
          1179,
          3659.4,
          719,
          649,
          589.52,
          649,
          659,
          1207,
          665,
          1126.71,
          2868.99,
          1859,
          849,
          1099,
          1181.27,
          1099,
          3588.8,
          985,
          810,
          739,
          1499,
          1749,
          744,
          1679,
          961,
          789.81,
          2505.02,
          755,
          585,
          2774.63,
          3072.89,
          713.99,
          739,
          865,
          945,
          649,
          2240,
          1778,
          1690,
          912.5,
          369,
          455.7,
          929,
          614,
          935,
          2013.1,
          1649,
          1205,
          1349,
          684.99,
          729.9,
          708.06,
          558.6,
          1639,
          2758,
          1472.2,
          659,
          1775,
          3154,
          1899,
          1268,
          465.62,
          825,
          3149,
          1899,
          1962.98,
          2800,
          1299,
          599,
          749,
          1119,
          889,
          547,
          949,
          795.99,
          1046.44,
          1624,
          1062.95,
          1094,
          2254,
          1299,
          559,
          989.99,
          1458,
          798.01,
          1329,
          481.98,
          750,
          393.49,
          818.35,
          638.8,
          1135.15,
          1166.97,
          1413.1,
          769.15,
          1379,
          523.63,
          784,
          1009.9,
          1199,
          2250.68,
          1498,
          895.01,
          1179,
          1099,
          1199,
          499,
          1285,
          2680,
          889,
          999,
          1713.37,
          509,
          1477,
          521.86,
          469.01,
          737,
          1799,
          875,
          1813,
          324,
          443.99,
          490,
          459,
          379,
          805.99
         ],
         "yaxis": "y"
        },
        {
         "customdata": [
          [
           "IdeaPad 320-15IKB"
          ],
          [
           "Legion Y520-15IKBN"
          ],
          [
           "IdeaPad 120S-14IAP"
          ],
          [
           "IdeaPad 320-15ISK"
          ],
          [
           "Yoga Book"
          ],
          [
           "IdeaPad 520S-14IKB"
          ],
          [
           "V310-15ISK (i5-7200U/4GB/1TB/FHD/W10)"
          ],
          [
           "IdeaPad 320-15IKBN"
          ],
          [
           "IdeaPad 320-15AST"
          ],
          [
           "Ideapad 310-15ISK"
          ],
          [
           "Thinkpad T470"
          ],
          [
           "ThinkPad Yoga"
          ],
          [
           "IdeaPad 320-15IKBN"
          ],
          [
           "V110-15IAP (N3350/4GB/1TB/No"
          ],
          [
           "IdeaPad 320-15IKBN"
          ],
          [
           "ThinkPad E480"
          ],
          [
           "Legion Y520-15IKBN"
          ],
          [
           "V110-15IKB (i5-7200U/4GB/128GB/W10)"
          ],
          [
           "Yoga 520-14IKB"
          ],
          [
           "Legion Y520-15IKBN"
          ],
          [
           "IdeaPad 320-15AST"
          ],
          [
           "V310-15IKB (i5-7200U/8GB/1TB"
          ],
          [
           "Yoga 920-13IKB"
          ],
          [
           "Legion Y520-15IKBN"
          ],
          [
           "Thinkpad Yoga"
          ],
          [
           "IdeaPad 320-17IKBR"
          ],
          [
           "V110-15ISK (i5-6200U/4GB/128GB/W10)"
          ],
          [
           "Legion Y720-15IKB"
          ],
          [
           "Legion Y520-15IKBN"
          ],
          [
           "IdeaPad 320-15IKBN"
          ],
          [
           "IdeaPad 320-15IKBN"
          ],
          [
           "IdeaPad 320-17IKB"
          ],
          [
           "Yoga 520-14IKB"
          ],
          [
           "Legion Y720-15IKB"
          ],
          [
           "IdeaPad 320-15ISK"
          ],
          [
           "Yoga 910-13IKB"
          ],
          [
           "Yoga 920-13IKB"
          ],
          [
           "Yoga 720-15IKB"
          ],
          [
           "IdeaPad 320-15ISK"
          ],
          [
           "IdeaPad 320-15IKBN"
          ],
          [
           "V330-15IKB (i7-8550U/8GB/256GB/FHD/W10)"
          ],
          [
           "ThinkPad X1"
          ],
          [
           "IdeaPad 320-17ISK"
          ],
          [
           "IdeaPad 320-17IKBR"
          ],
          [
           "IdeaPad 320-17IKB"
          ],
          [
           "Legion Y520-15IKBN"
          ],
          [
           "Ideapad 320-15IKBN"
          ],
          [
           "Thinkpad T570"
          ],
          [
           "Legion Y520-15IKBN"
          ],
          [
           "IdeaPad 320-15IKB"
          ],
          [
           "V330-15IKB (i5-8250U/8GB/256GB/FHD/W10)"
          ],
          [
           "Legion Y720-15IKB"
          ],
          [
           "IdeaPad 310-15ABR"
          ],
          [
           "IdeaPad 320-17IKB"
          ],
          [
           "IdeaPad 320-15IKBN"
          ],
          [
           "IdeaPad 320-15IAP"
          ],
          [
           "IdeaPad 320-15IKB"
          ],
          [
           "IdeaPad 720S-13IKB"
          ],
          [
           "ThinkPad 13"
          ],
          [
           "IdeaPad 320-17IKB"
          ],
          [
           "IdeaPad 120S-14IAP"
          ],
          [
           "V310-15ISK (i3-6006U/4GB/1TB/FHD/W10)"
          ],
          [
           "IdeaPad 320-15ABR"
          ],
          [
           "Yoga 920-13IKB"
          ],
          [
           "Legion Y520-15IKBN"
          ],
          [
           "IdeaPad 320-15IAP"
          ],
          [
           "IdeaPad 320-17IKB"
          ],
          [
           "IdeaPad 320-15ISK"
          ],
          [
           "Legion Y520-15IKBN"
          ],
          [
           "IdeaPad 110-17ACL"
          ],
          [
           "Yoga 11e"
          ],
          [
           "V310-15ISK (i3-6006U/4GB/128GB/FHD/No"
          ],
          [
           "IdeaPad 720S-14IKB"
          ],
          [
           "Thinkpad X1"
          ],
          [
           "Ideapad 510S-13IKB"
          ],
          [
           "ThinkPad X1"
          ],
          [
           "ThinkPad E580"
          ],
          [
           "ThinkPad L470"
          ],
          [
           "Thinkpad X1"
          ],
          [
           "IdeaPad 320-15IAP"
          ],
          [
           "ThinkPad E580"
          ],
          [
           "IdeaPad 320-15ISK"
          ],
          [
           "Lenovo IdeaPad"
          ],
          [
           "ThinkPad P51"
          ],
          [
           "Thinkpad T470p"
          ],
          [
           "ThinkPad E480"
          ],
          [
           "Yoga 720-15IKB"
          ],
          [
           "Thinkpad 13"
          ],
          [
           "IdeaPad 320s-14IKB"
          ],
          [
           "Thinkpad T570"
          ],
          [
           "Thinkpad P51"
          ],
          [
           "ThinkPad T470s"
          ],
          [
           "IdeaPad 320-15AST"
          ],
          [
           "ThinkPad X270"
          ],
          [
           "IdeaPad 320-15IAP"
          ],
          [
           "ThinkPad T470"
          ],
          [
           "IdeaPad 510s-14IKB"
          ],
          [
           "Thinkpad P51"
          ],
          [
           "Thinkpad T460s"
          ],
          [
           "Thinkpad T470"
          ],
          [
           "ThinkPad E570"
          ],
          [
           "ThinkPad E480"
          ],
          [
           "Thinkpad X270"
          ],
          [
           "Thinkpad E570"
          ],
          [
           "Thinkpad X260"
          ],
          [
           "Ideapad 520-15IKBR"
          ],
          [
           "ThinkPad 13"
          ],
          [
           "ThinkPad L570"
          ],
          [
           "Yoga 920-13IKB"
          ],
          [
           "IdeaPad 320-14IAP"
          ],
          [
           "Chromebook N23"
          ],
          [
           "ThinkPad 13"
          ],
          [
           "Legion Y520-15IKBN"
          ],
          [
           "Legion Y720-15IKB"
          ],
          [
           "ThinkPad L470"
          ],
          [
           "IdeaPad 320-15IKB"
          ],
          [
           "IdeaPad 320-15ISK"
          ],
          [
           "Thinkpad E470"
          ],
          [
           "ThinkPad E470"
          ],
          [
           "V310-15ISK (i5-6200U/4GB/1TB/FHD/No"
          ],
          [
           "ThinkPad T570"
          ],
          [
           "IdeaPad 320-15ISK"
          ],
          [
           "IdeaPad 320-17IKB"
          ],
          [
           "V330-15IKB (i3-7130U/4GB/128GB/FHD/W10)"
          ],
          [
           "Thinkpad P71"
          ],
          [
           "IdeaPad 320-15IAP"
          ],
          [
           "ThinkPad L470"
          ],
          [
           "Thinkpad E570"
          ],
          [
           "V330-15IKB (i5-8250U/4GB/500GB/FHD/W10)"
          ],
          [
           "IdeaPad Y910-17ISK"
          ],
          [
           "Thinkpad T460s"
          ],
          [
           "Ideapad 320-15IKBR"
          ],
          [
           "IdeaPad 320-15ABR"
          ],
          [
           "V320-17ISK (i3-6006U/4GB/500GB/FHD/No"
          ],
          [
           "IdeaPad 110-15ISK"
          ],
          [
           "ThinkPad Yoga"
          ],
          [
           "Thinkpad T470p"
          ],
          [
           "IdeaPad 310-15IKB"
          ],
          [
           "Yoga 720-15IKB"
          ],
          [
           "Thinkpad P51"
          ],
          [
           "ThinkPad T470"
          ],
          [
           "IdeaPad 320-15IKB"
          ],
          [
           "IdeaPad 320-15IKBN"
          ],
          [
           "V330-15IKB (i5-8250U/4GB/256GB/FHD/W10)"
          ],
          [
           "Ideapad 320-15ISK"
          ],
          [
           "IdeaPad 100S-14IBR"
          ],
          [
           "Thinkpad Yoga"
          ],
          [
           "Legion Y520-15IKBN"
          ],
          [
           "ThinkPad X1"
          ],
          [
           "IdeaPad 100S-14IBR"
          ],
          [
           "Thinkpad X270"
          ],
          [
           "IdeaPad Y700-15ISK"
          ],
          [
           "Ideapad 320-15IAP"
          ],
          [
           "IdeaPad 320-15ISK"
          ],
          [
           "V310-15ISK (i5-7200U/8GB/1TB"
          ],
          [
           "Yoga 720-13IKB"
          ],
          [
           "IdeaPad 320-15AST"
          ],
          [
           "Yoga 730"
          ],
          [
           "V110-15ISK (3855U/4GB/500GB/W10)"
          ],
          [
           "IdeaPad 520s-14IKB"
          ],
          [
           "ThinkPad X1"
          ],
          [
           "Yoga 910-13IKB"
          ],
          [
           "IdeaPad 320-15AST"
          ],
          [
           "IdeaPad 320-15ABR"
          ],
          [
           "V310-15IKB (i5-7200U/4GB/1TB/FHD/W10)"
          ],
          [
           "V310-15ISK (i3-6006U/4GB/500GB/No"
          ],
          [
           "ThinkPad P51s"
          ],
          [
           "Thinkpad T460p"
          ],
          [
           "Legion Y520-15IKBN"
          ],
          [
           "Thinkpad E470"
          ],
          [
           "110-15ACL (A6-7310/4GB/500GB/W10)"
          ],
          [
           "ThinkPad X1"
          ],
          [
           "ThinkPad T470s"
          ],
          [
           "V310-15IKB (i5-7200U/4GB/1TB/No"
          ],
          [
           "ThinkPad 13"
          ],
          [
           "V310-15IKB (i7-7500U/4GB/1TB/FHD/W10)"
          ],
          [
           "Flex 5"
          ],
          [
           "Thinkpad P51s"
          ],
          [
           "N23 (N3060/4GB/128GB/W10)"
          ],
          [
           "Thinkpad T460"
          ],
          [
           "Yoga 900-13ISK"
          ],
          [
           "Legion Y520-15IKBN"
          ],
          [
           "Thinkpad P50"
          ],
          [
           "IdeaPad 110-15IBR"
          ],
          [
           "ThinkPad T470s"
          ],
          [
           "Legion Y520-15IKBN"
          ],
          [
           "ThinkPad Yoga"
          ],
          [
           "Yoga 510-15IKB"
          ],
          [
           "ThinkPad X1"
          ],
          [
           "Yoga 910-13IKB"
          ],
          [
           "IdeaPad 310-15IKB"
          ],
          [
           "Thinkpad T470s"
          ],
          [
           "V110-15ISK (i3-6006U/4GB/500GB/W10)"
          ],
          [
           "Thinkpad X1"
          ],
          [
           "ThinkPad X1"
          ],
          [
           "Thinkpad X1"
          ],
          [
           "Thinkpad T460"
          ],
          [
           "ThinkPad T470s"
          ],
          [
           "N42-20 Chromebook"
          ],
          [
           "ThinkPad T470p"
          ],
          [
           "IdeaPad 110-15ISK"
          ],
          [
           "ThinkPad E570"
          ],
          [
           "Legion Y520-15IKBN"
          ],
          [
           "ThinkPad Yoga"
          ],
          [
           "ThinkPad L570"
          ],
          [
           "IdeaPad 110-15ISK"
          ],
          [
           "Thinkpad 13"
          ],
          [
           "IdeaPad 510-15ISK"
          ],
          [
           "IdeaPad 110-17ACL"
          ],
          [
           "ThinkPad T470s"
          ],
          [
           "ThinkPad X1"
          ],
          [
           "ThinkPad T570"
          ],
          [
           "IdeaPad Y700-15ISK"
          ],
          [
           "IdeaPad 510-15IKB"
          ],
          [
           "ThinkPad 13"
          ],
          [
           "ThinkPad Yoga"
          ],
          [
           "Thinkpad X270"
          ],
          [
           "IdeaPad 320-15IAP"
          ],
          [
           "Yoga 900-13ISK"
          ],
          [
           "Yoga 700-11ISK"
          ],
          [
           "IdeaPad Y700-15ACZ"
          ],
          [
           "IdeaPad 310-15IKB"
          ],
          [
           "Thinkpad T460"
          ],
          [
           "ThinkPad X270"
          ],
          [
           "IdeaPad 310-15IKB"
          ],
          [
           "ThinkPad T460"
          ],
          [
           "IdeaPad 320-15ABR"
          ],
          [
           "Legion Y520-15IKBN"
          ],
          [
           "V110-15IAP (N3350/4GB/128GB/No"
          ],
          [
           "ThinkPad T560"
          ],
          [
           "ThinkPad P70"
          ],
          [
           "Yoga 500-15ISK"
          ],
          [
           "Thinkpad L560"
          ],
          [
           "IdeaPad Y900-17ISK"
          ],
          [
           "ThinkPad X1"
          ],
          [
           "ThinkPad Yoga"
          ],
          [
           "IdeaPad 300-17ISK"
          ],
          [
           "Ideapad 700-15ISK"
          ],
          [
           "V110-15ISK (i5-6200U/4GB/500GB/W10)"
          ],
          [
           "Yoga 900S-12ISK"
          ],
          [
           "IdeaPad Y900-17ISK"
          ],
          [
           "Yoga Book"
          ],
          [
           "ThinkPad T460"
          ],
          [
           "Legion Y520-15IKBN"
          ],
          [
           "Yoga 500-15ISK"
          ],
          [
           "V110-15ISK (i3-6006U/4GB/128GB/W10)"
          ],
          [
           "Yoga Book"
          ],
          [
           "IdeaPad Y900-17ISK"
          ],
          [
           "ThinkPad Yoga"
          ],
          [
           "Yoga Book"
          ],
          [
           "Legion Y520-15IKBN"
          ],
          [
           "ThinkPad P40"
          ],
          [
           "IdeaPad 500-15ISK"
          ],
          [
           "ThinkPad X1"
          ],
          [
           "ThinkPad X1"
          ],
          [
           "V110-15ISK (i3-6006U/4GB/1TB/No"
          ],
          [
           "B51-80 (i5-6200U/8GB/1TB/Radeon"
          ],
          [
           "ThinkPad T460s"
          ],
          [
           "B51-80 (i5-6200U/8GB/1008GB/Radeon"
          ],
          [
           "ThinkPad T460"
          ],
          [
           "IdeaPad 310-15ISK"
          ],
          [
           "ThinkPad T570"
          ],
          [
           "320-15ISK (i3-6006U/4GB/1TB/GeForce"
          ],
          [
           "V110-15ISK (i5-6200U/4GB/500GB/No"
          ],
          [
           "IdeaPad 510-15IKB"
          ],
          [
           "B51-80 (i7-6500U/4GB/1008GB/FHD/W7)"
          ],
          [
           "IdeaPad Y700-15ISK"
          ],
          [
           "ThinkPad X1"
          ],
          [
           "IdeaPad 310-15IKB"
          ],
          [
           "Legion Y520-15IKBN"
          ],
          [
           "V110-15ISK (i3-6006U/4GB/1TB/Radeon"
          ],
          [
           "IdeaPad 310-15ISK"
          ],
          [
           "IdeaPad 320-15AST"
          ],
          [
           "IdeaPad 320-17IKB"
          ],
          [
           "IdeaPad Y700-15ISK"
          ],
          [
           "Thinkpad T560"
          ],
          [
           "IdeaPad Y700-15ISK"
          ],
          [
           "ThinkPad Yoga"
          ],
          [
           "ThinkPad 13"
          ],
          [
           "IdeaPad 320-15ABR"
          ],
          [
           "V510-15IKB (i5-7200U/8GB/256GB/FHD/No"
          ],
          [
           "IdeaPad 310-15ISK"
          ],
          [
           "ThinkPad L460"
          ],
          [
           "B51-80 (i7-6500U/8GB/1008GB/Radeon"
          ],
          [
           "Yoga 500-14IBD"
          ],
          [
           "IdeaPad Y700-15ISK"
          ],
          [
           "Yoga 500-14ISK"
          ],
          [
           "Yoga 900-13ISK"
          ],
          [
           "IdeaPad 100S-14IBR"
          ]
         ],
         "hovertemplate": "Company=%{x}<br>Price (Euro)=%{marker.size}<br>Product=%{customdata[0]}<extra></extra>",
         "legendgroup": "Lenovo",
         "marker": {
          "color": "#19d3f3",
          "size": [
           499,
           999,
           249,
           369,
           319,
           599,
           549,
           519,
           399,
           414.9,
           1480,
           1399,
           629,
           252.36,
           499,
           1116.02,
           869,
           498,
           629,
           1079,
           309,
           813,
           1849,
           779,
           2824,
           698,
           493,
           1749,
           1398,
           597,
           549,
           589,
           899,
           1499,
           589,
           1079,
           1849,
           1699,
           444,
           467,
           880,
           2499,
           489,
           849,
           859,
           829,
           579,
           1097,
           1179,
           659.01,
           739,
           1299,
           499,
           649,
           549,
           359.99,
           819,
           999,
           459.9,
           589,
           292,
           449,
           899,
           2099,
           1129,
           321.99,
           719,
           499,
           809,
           489,
           553,
           403.5,
           1099,
           2282,
           549,
           2509,
           1229.56,
           938,
           2625,
           306,
           1144.5,
           409,
           304.45,
           1925,
           1943,
           1215.38,
           1899,
           1010,
           599,
           2445,
           2449,
           2382,
           519,
           1429,
           349,
           1345,
           799,
           2090,
           1858,
           1364,
           565,
           1049,
           1798,
           1011.99,
           1099,
           898.9,
           949,
           911,
           1599,
           299,
           265,
           949,
           1149,
           1399,
           1340,
           799,
           459,
           859,
           785,
           462.35,
           1729,
           499,
           949,
           630,
           2999,
           344,
           990,
           830,
           685,
           2663,
           1673,
           609,
           949,
           529,
           459,
           2025,
           1474,
           564,
           1299,
           4899,
           1465,
           899,
           468,
           829,
           579,
           249,
           1757.42,
           1109,
           2450,
           274,
           1584,
           1196,
           419,
           535,
           817.95,
           1034,
           349,
           1499,
           318,
           699,
           2590,
           1749,
           399,
           429,
           621.45,
           450,
           1855,
           1191,
           1249,
           857.07,
           298,
           1686.64,
           1499,
           489.9,
           960,
           779,
           999,
           3299,
           475,
           1096,
           1199,
           1048,
           2370,
           329,
           2299,
           999,
           1970,
           959,
           2330,
           1349,
           609,
           1859,
           489.9,
           2499,
           1875,
           2099,
           1186,
           1650,
           325,
           1903,
           469,
           850.66,
           1017,
           1950,
           1055,
           479,
           735,
           669,
           379,
           1799,
           2049,
           1962.99,
           789,
           789,
           881,
           1825,
           1650,
           309,
           1799,
           1299,
           999,
           685,
           1488.99,
           1760,
           695,
           1002,
           549,
           1189,
           270.62,
           1349,
           2968,
           847,
           1049.6,
           2289.99,
           2620,
           1713.49,
           659,
           977,
           540,
           1399,
           3240,
           646.27,
           1199,
           1199,
           867,
           429,
           549,
           2749.99,
           1669,
           479,
           989,
           2050.38,
           1099,
           2440,
           2339,
           339,
           599,
           2299,
           788.49,
           1499,
           459,
           1390,
           468,
           398,
           709,
           825,
           1305,
           1637,
           831,
           819,
           368,
           629,
           299,
           539,
           1272,
           1529,
           1029,
           1650,
           1499,
           597.57,
           573,
           569,
           1072,
           895,
           833.01,
           899,
           638,
           1499,
           229
          ],
          "sizemode": "area",
          "sizeref": 15.2475,
          "symbol": "circle"
         },
         "mode": "markers",
         "name": "Lenovo",
         "showlegend": true,
         "type": "scattergl",
         "x": [
          "Lenovo",
          "Lenovo",
          "Lenovo",
          "Lenovo",
          "Lenovo",
          "Lenovo",
          "Lenovo",
          "Lenovo",
          "Lenovo",
          "Lenovo",
          "Lenovo",
          "Lenovo",
          "Lenovo",
          "Lenovo",
          "Lenovo",
          "Lenovo",
          "Lenovo",
          "Lenovo",
          "Lenovo",
          "Lenovo",
          "Lenovo",
          "Lenovo",
          "Lenovo",
          "Lenovo",
          "Lenovo",
          "Lenovo",
          "Lenovo",
          "Lenovo",
          "Lenovo",
          "Lenovo",
          "Lenovo",
          "Lenovo",
          "Lenovo",
          "Lenovo",
          "Lenovo",
          "Lenovo",
          "Lenovo",
          "Lenovo",
          "Lenovo",
          "Lenovo",
          "Lenovo",
          "Lenovo",
          "Lenovo",
          "Lenovo",
          "Lenovo",
          "Lenovo",
          "Lenovo",
          "Lenovo",
          "Lenovo",
          "Lenovo",
          "Lenovo",
          "Lenovo",
          "Lenovo",
          "Lenovo",
          "Lenovo",
          "Lenovo",
          "Lenovo",
          "Lenovo",
          "Lenovo",
          "Lenovo",
          "Lenovo",
          "Lenovo",
          "Lenovo",
          "Lenovo",
          "Lenovo",
          "Lenovo",
          "Lenovo",
          "Lenovo",
          "Lenovo",
          "Lenovo",
          "Lenovo",
          "Lenovo",
          "Lenovo",
          "Lenovo",
          "Lenovo",
          "Lenovo",
          "Lenovo",
          "Lenovo",
          "Lenovo",
          "Lenovo",
          "Lenovo",
          "Lenovo",
          "Lenovo",
          "Lenovo",
          "Lenovo",
          "Lenovo",
          "Lenovo",
          "Lenovo",
          "Lenovo",
          "Lenovo",
          "Lenovo",
          "Lenovo",
          "Lenovo",
          "Lenovo",
          "Lenovo",
          "Lenovo",
          "Lenovo",
          "Lenovo",
          "Lenovo",
          "Lenovo",
          "Lenovo",
          "Lenovo",
          "Lenovo",
          "Lenovo",
          "Lenovo",
          "Lenovo",
          "Lenovo",
          "Lenovo",
          "Lenovo",
          "Lenovo",
          "Lenovo",
          "Lenovo",
          "Lenovo",
          "Lenovo",
          "Lenovo",
          "Lenovo",
          "Lenovo",
          "Lenovo",
          "Lenovo",
          "Lenovo",
          "Lenovo",
          "Lenovo",
          "Lenovo",
          "Lenovo",
          "Lenovo",
          "Lenovo",
          "Lenovo",
          "Lenovo",
          "Lenovo",
          "Lenovo",
          "Lenovo",
          "Lenovo",
          "Lenovo",
          "Lenovo",
          "Lenovo",
          "Lenovo",
          "Lenovo",
          "Lenovo",
          "Lenovo",
          "Lenovo",
          "Lenovo",
          "Lenovo",
          "Lenovo",
          "Lenovo",
          "Lenovo",
          "Lenovo",
          "Lenovo",
          "Lenovo",
          "Lenovo",
          "Lenovo",
          "Lenovo",
          "Lenovo",
          "Lenovo",
          "Lenovo",
          "Lenovo",
          "Lenovo",
          "Lenovo",
          "Lenovo",
          "Lenovo",
          "Lenovo",
          "Lenovo",
          "Lenovo",
          "Lenovo",
          "Lenovo",
          "Lenovo",
          "Lenovo",
          "Lenovo",
          "Lenovo",
          "Lenovo",
          "Lenovo",
          "Lenovo",
          "Lenovo",
          "Lenovo",
          "Lenovo",
          "Lenovo",
          "Lenovo",
          "Lenovo",
          "Lenovo",
          "Lenovo",
          "Lenovo",
          "Lenovo",
          "Lenovo",
          "Lenovo",
          "Lenovo",
          "Lenovo",
          "Lenovo",
          "Lenovo",
          "Lenovo",
          "Lenovo",
          "Lenovo",
          "Lenovo",
          "Lenovo",
          "Lenovo",
          "Lenovo",
          "Lenovo",
          "Lenovo",
          "Lenovo",
          "Lenovo",
          "Lenovo",
          "Lenovo",
          "Lenovo",
          "Lenovo",
          "Lenovo",
          "Lenovo",
          "Lenovo",
          "Lenovo",
          "Lenovo",
          "Lenovo",
          "Lenovo",
          "Lenovo",
          "Lenovo",
          "Lenovo",
          "Lenovo",
          "Lenovo",
          "Lenovo",
          "Lenovo",
          "Lenovo",
          "Lenovo",
          "Lenovo",
          "Lenovo",
          "Lenovo",
          "Lenovo",
          "Lenovo",
          "Lenovo",
          "Lenovo",
          "Lenovo",
          "Lenovo",
          "Lenovo",
          "Lenovo",
          "Lenovo",
          "Lenovo",
          "Lenovo",
          "Lenovo",
          "Lenovo",
          "Lenovo",
          "Lenovo",
          "Lenovo",
          "Lenovo",
          "Lenovo",
          "Lenovo",
          "Lenovo",
          "Lenovo",
          "Lenovo",
          "Lenovo",
          "Lenovo",
          "Lenovo",
          "Lenovo",
          "Lenovo",
          "Lenovo",
          "Lenovo",
          "Lenovo",
          "Lenovo",
          "Lenovo",
          "Lenovo",
          "Lenovo",
          "Lenovo",
          "Lenovo",
          "Lenovo",
          "Lenovo",
          "Lenovo",
          "Lenovo",
          "Lenovo",
          "Lenovo",
          "Lenovo",
          "Lenovo",
          "Lenovo",
          "Lenovo",
          "Lenovo",
          "Lenovo",
          "Lenovo",
          "Lenovo",
          "Lenovo",
          "Lenovo",
          "Lenovo",
          "Lenovo",
          "Lenovo",
          "Lenovo",
          "Lenovo",
          "Lenovo",
          "Lenovo",
          "Lenovo",
          "Lenovo",
          "Lenovo",
          "Lenovo",
          "Lenovo",
          "Lenovo",
          "Lenovo",
          "Lenovo",
          "Lenovo"
         ],
         "xaxis": "x",
         "y": [
          499,
          999,
          249,
          369,
          319,
          599,
          549,
          519,
          399,
          414.9,
          1480,
          1399,
          629,
          252.36,
          499,
          1116.02,
          869,
          498,
          629,
          1079,
          309,
          813,
          1849,
          779,
          2824,
          698,
          493,
          1749,
          1398,
          597,
          549,
          589,
          899,
          1499,
          589,
          1079,
          1849,
          1699,
          444,
          467,
          880,
          2499,
          489,
          849,
          859,
          829,
          579,
          1097,
          1179,
          659.01,
          739,
          1299,
          499,
          649,
          549,
          359.99,
          819,
          999,
          459.9,
          589,
          292,
          449,
          899,
          2099,
          1129,
          321.99,
          719,
          499,
          809,
          489,
          553,
          403.5,
          1099,
          2282,
          549,
          2509,
          1229.56,
          938,
          2625,
          306,
          1144.5,
          409,
          304.45,
          1925,
          1943,
          1215.38,
          1899,
          1010,
          599,
          2445,
          2449,
          2382,
          519,
          1429,
          349,
          1345,
          799,
          2090,
          1858,
          1364,
          565,
          1049,
          1798,
          1011.99,
          1099,
          898.9,
          949,
          911,
          1599,
          299,
          265,
          949,
          1149,
          1399,
          1340,
          799,
          459,
          859,
          785,
          462.35,
          1729,
          499,
          949,
          630,
          2999,
          344,
          990,
          830,
          685,
          2663,
          1673,
          609,
          949,
          529,
          459,
          2025,
          1474,
          564,
          1299,
          4899,
          1465,
          899,
          468,
          829,
          579,
          249,
          1757.42,
          1109,
          2450,
          274,
          1584,
          1196,
          419,
          535,
          817.95,
          1034,
          349,
          1499,
          318,
          699,
          2590,
          1749,
          399,
          429,
          621.45,
          450,
          1855,
          1191,
          1249,
          857.07,
          298,
          1686.64,
          1499,
          489.9,
          960,
          779,
          999,
          3299,
          475,
          1096,
          1199,
          1048,
          2370,
          329,
          2299,
          999,
          1970,
          959,
          2330,
          1349,
          609,
          1859,
          489.9,
          2499,
          1875,
          2099,
          1186,
          1650,
          325,
          1903,
          469,
          850.66,
          1017,
          1950,
          1055,
          479,
          735,
          669,
          379,
          1799,
          2049,
          1962.99,
          789,
          789,
          881,
          1825,
          1650,
          309,
          1799,
          1299,
          999,
          685,
          1488.99,
          1760,
          695,
          1002,
          549,
          1189,
          270.62,
          1349,
          2968,
          847,
          1049.6,
          2289.99,
          2620,
          1713.49,
          659,
          977,
          540,
          1399,
          3240,
          646.27,
          1199,
          1199,
          867,
          429,
          549,
          2749.99,
          1669,
          479,
          989,
          2050.38,
          1099,
          2440,
          2339,
          339,
          599,
          2299,
          788.49,
          1499,
          459,
          1390,
          468,
          398,
          709,
          825,
          1305,
          1637,
          831,
          819,
          368,
          629,
          299,
          539,
          1272,
          1529,
          1029,
          1650,
          1499,
          597.57,
          573,
          569,
          1072,
          895,
          833.01,
          899,
          638,
          1499,
          229
         ],
         "yaxis": "y"
        },
        {
         "customdata": [
          [
           "LapBook 15.6\""
          ],
          [
           "LapBook 12.3"
          ],
          [
           "Lapbook 15,6"
          ]
         ],
         "hovertemplate": "Company=%{x}<br>Price (Euro)=%{marker.size}<br>Product=%{customdata[0]}<extra></extra>",
         "legendgroup": "Chuwi",
         "marker": {
          "color": "#FF6692",
          "size": [
           244.99,
           449,
           248.9
          ],
          "sizemode": "area",
          "sizeref": 15.2475,
          "symbol": "circle"
         },
         "mode": "markers",
         "name": "Chuwi",
         "showlegend": true,
         "type": "scattergl",
         "x": [
          "Chuwi",
          "Chuwi",
          "Chuwi"
         ],
         "xaxis": "x",
         "y": [
          244.99,
          449,
          248.9
         ],
         "yaxis": "y"
        },
        {
         "customdata": [
          [
           "GS73VR 7RG"
          ],
          [
           "GL72M 7RDX"
          ],
          [
           "GP62M 7REX"
          ],
          [
           "GS63VR 7RG"
          ],
          [
           "GE72MVR 7RG"
          ],
          [
           "GE73VR 7RE"
          ],
          [
           "GE63VR 7RE"
          ],
          [
           "GT80S 6QF-074US"
          ],
          [
           "GT73EVR 7RE"
          ],
          [
           "GE63VR 7RF"
          ],
          [
           "GL72M 7REX"
          ],
          [
           "GP72MVR 7RFX"
          ],
          [
           "Leopard GP72M"
          ],
          [
           "GE73VR 7RF"
          ],
          [
           "GV62 7RD-1686NL"
          ],
          [
           "GT73VR Titan"
          ],
          [
           "GT80S 6QE"
          ],
          [
           "Laptop MSI"
          ],
          [
           "GS63VR 7RF"
          ],
          [
           "GT62VR 7RE"
          ],
          [
           "GL62M 7REX"
          ],
          [
           "GP72VR Leopard"
          ],
          [
           "GP62 7RDX"
          ],
          [
           "GV62M 7RD"
          ],
          [
           "GL72M 7REX"
          ],
          [
           "GS63VR 7RF"
          ],
          [
           "GS43VR 7RE"
          ],
          [
           "GL62M (i5-7300HQ/8GB/1TB"
          ],
          [
           "GE72MVR 7RG"
          ],
          [
           "GL62M 7RD"
          ],
          [
           "GS73VR Stealth"
          ],
          [
           "GE72VR 6RF"
          ],
          [
           "GL62M 7RD"
          ],
          [
           "GP62M Leopard"
          ],
          [
           "GL72M 7RDX"
          ],
          [
           "GT72S Dominator"
          ],
          [
           "GT62VR 6RD"
          ],
          [
           "GS63VR 6RF"
          ],
          [
           "GT72VR Dominator"
          ],
          [
           "GS70 Stealth"
          ],
          [
           "GE72 Apache"
          ],
          [
           "GT72S Dominator"
          ],
          [
           "GP62M 7RDX"
          ],
          [
           "GP72M 7REX"
          ],
          [
           "GS40 Phantom"
          ],
          [
           "PL60 7RD"
          ],
          [
           "GS60 Ghost"
          ],
          [
           "GS73VR 7RF"
          ],
          [
           "GS73VR Stealth"
          ],
          [
           "GP62MVR 6RF"
          ],
          [
           "GL62M 7RDX"
          ],
          [
           "GE72VR Apache"
          ],
          [
           "GL62 6QF"
          ],
          [
           "GE62 Apache"
          ]
         ],
         "hovertemplate": "Company=%{x}<br>Price (Euro)=%{marker.size}<br>Product=%{customdata[0]}<extra></extra>",
         "legendgroup": "MSI",
         "marker": {
          "color": "#B6E880",
          "size": [
           2449,
           1095,
           1299,
           2241.5,
           2029,
           1890,
           1799,
           2799,
           2499,
           2099,
           1199,
           1409,
           1349,
           2249,
           1027.74,
           2729,
           2349,
           2199,
           2299,
           2267.86,
           1191.8,
           1486.77,
           1294,
           997.9,
           1348.48,
           2094.48,
           1891,
           1089,
           2415,
           1199,
           2649,
           1599,
           1119.91,
           1199,
           1191.8,
           1545.64,
           1819,
           1929,
           2499,
           1599,
           1511.19,
           2399,
           1142.8,
           1492.8,
           1769,
           839,
           2153.37,
           2048.9,
           1948.99,
           1476.11,
           1149,
           1598,
           1169,
           1229
          ],
          "sizemode": "area",
          "sizeref": 15.2475,
          "symbol": "circle"
         },
         "mode": "markers",
         "name": "MSI",
         "showlegend": true,
         "type": "scattergl",
         "x": [
          "MSI",
          "MSI",
          "MSI",
          "MSI",
          "MSI",
          "MSI",
          "MSI",
          "MSI",
          "MSI",
          "MSI",
          "MSI",
          "MSI",
          "MSI",
          "MSI",
          "MSI",
          "MSI",
          "MSI",
          "MSI",
          "MSI",
          "MSI",
          "MSI",
          "MSI",
          "MSI",
          "MSI",
          "MSI",
          "MSI",
          "MSI",
          "MSI",
          "MSI",
          "MSI",
          "MSI",
          "MSI",
          "MSI",
          "MSI",
          "MSI",
          "MSI",
          "MSI",
          "MSI",
          "MSI",
          "MSI",
          "MSI",
          "MSI",
          "MSI",
          "MSI",
          "MSI",
          "MSI",
          "MSI",
          "MSI",
          "MSI",
          "MSI",
          "MSI",
          "MSI",
          "MSI",
          "MSI"
         ],
         "xaxis": "x",
         "y": [
          2449,
          1095,
          1299,
          2241.5,
          2029,
          1890,
          1799,
          2799,
          2499,
          2099,
          1199,
          1409,
          1349,
          2249,
          1027.74,
          2729,
          2349,
          2199,
          2299,
          2267.86,
          1191.8,
          1486.77,
          1294,
          997.9,
          1348.48,
          2094.48,
          1891,
          1089,
          2415,
          1199,
          2649,
          1599,
          1119.91,
          1199,
          1191.8,
          1545.64,
          1819,
          1929,
          2499,
          1599,
          1511.19,
          2399,
          1142.8,
          1492.8,
          1769,
          839,
          2153.37,
          2048.9,
          1948.99,
          1476.11,
          1149,
          1598,
          1169,
          1229
         ],
         "yaxis": "y"
        },
        {
         "customdata": [
          [
           "Surface Laptop"
          ],
          [
           "Surface Laptop"
          ],
          [
           "Surface Laptop"
          ],
          [
           "Surface Laptop"
          ],
          [
           "Surface Laptop"
          ],
          [
           "Surface Laptop"
          ]
         ],
         "hovertemplate": "Company=%{x}<br>Price (Euro)=%{marker.size}<br>Product=%{customdata[0]}<extra></extra>",
         "legendgroup": "Microsoft",
         "marker": {
          "color": "#FF97FF",
          "size": [
           1089,
           1340,
           2589,
           989,
           1799,
           1867.85
          ],
          "sizemode": "area",
          "sizeref": 15.2475,
          "symbol": "circle"
         },
         "mode": "markers",
         "name": "Microsoft",
         "showlegend": true,
         "type": "scattergl",
         "x": [
          "Microsoft",
          "Microsoft",
          "Microsoft",
          "Microsoft",
          "Microsoft",
          "Microsoft"
         ],
         "xaxis": "x",
         "y": [
          1089,
          1340,
          2589,
          989,
          1799,
          1867.85
         ],
         "yaxis": "y"
        },
        {
         "customdata": [
          [
           "Satellite Pro"
          ],
          [
           "Satellite Pro"
          ],
          [
           "Satellite Pro"
          ],
          [
           "Satellite Pro"
          ],
          [
           "Portege Z30-C-16L"
          ],
          [
           "Satellite Pro"
          ],
          [
           "Satellite Pro"
          ],
          [
           "Satellite Pro"
          ],
          [
           "Tecra A50-C-21G"
          ],
          [
           "Portege Z30-C-16P"
          ],
          [
           "Portege X30-D-10J"
          ],
          [
           "Portege X30-D-10L"
          ],
          [
           "Satellite Pro"
          ],
          [
           "Tecra X40-D-10H"
          ],
          [
           "Tecra Z50-C-144"
          ],
          [
           "Portege Z30-C-16J"
          ],
          [
           "Tecra A50-D-11M"
          ],
          [
           "Satellite Pro"
          ],
          [
           "Tecra Z50-D-10E"
          ],
          [
           "Satellite Pro"
          ],
          [
           "Portege Z30T-C-133"
          ],
          [
           "Tecra X40-D-10G"
          ],
          [
           "Tecra A40-C-1E5"
          ],
          [
           "Tecra Z40-C-161"
          ],
          [
           "Satellite Pro"
          ],
          [
           "Tecra X40-D-10Z"
          ],
          [
           "Satellite Pro"
          ],
          [
           "Satellite Pro"
          ],
          [
           "Portege X30-D-10X"
          ],
          [
           "Portégé Z30-C-188"
          ],
          [
           "Tecra A50-D-11D"
          ],
          [
           "Portege X30-D-10V"
          ],
          [
           "Tecra Z50-C-140"
          ],
          [
           "Tecra Z40-C-12X"
          ],
          [
           "Tecra A50-C-1ZV"
          ],
          [
           "Portege Z30-C-1CW"
          ],
          [
           "Portege Z30-C-16Z"
          ],
          [
           "Portege X20W-D-10V"
          ],
          [
           "Tecra A40-C-1DF"
          ],
          [
           "Portege Z30-C-1CV"
          ],
          [
           "Tecra A40-C-1KF"
          ],
          [
           "Portege Z30-C-16H"
          ],
          [
           "Portege A30-C-1CZ"
          ],
          [
           "Tecra Z40-C-12Z"
          ],
          [
           "Portégé Z30-C-16K"
          ],
          [
           "Tecra Z40-C-136"
          ],
          [
           "Tecra A50-C-218"
          ],
          [
           "Portege X30-D-10K"
          ]
         ],
         "hovertemplate": "Company=%{x}<br>Price (Euro)=%{marker.size}<br>Product=%{customdata[0]}<extra></extra>",
         "legendgroup": "Toshiba",
         "marker": {
          "color": "#FECB52",
          "size": [
           602,
           447,
           489,
           793,
           1363,
           812,
           1043,
           943,
           1403,
           1747,
           1672,
           2799,
           860,
           1865,
           1399,
           1213,
           1064,
           498,
           1258,
           973,
           1877,
           1535,
           1020,
           1764,
           780,
           1090,
           499,
           669,
           1285,
           1095,
           1388,
           1475,
           1975,
           1105,
           1119,
           1460,
           1535,
           1790,
           1180,
           1195,
           915,
           1195,
           1210,
           1490,
           1590,
           1725,
           1425,
           2226
          ],
          "sizemode": "area",
          "sizeref": 15.2475,
          "symbol": "circle"
         },
         "mode": "markers",
         "name": "Toshiba",
         "showlegend": true,
         "type": "scattergl",
         "x": [
          "Toshiba",
          "Toshiba",
          "Toshiba",
          "Toshiba",
          "Toshiba",
          "Toshiba",
          "Toshiba",
          "Toshiba",
          "Toshiba",
          "Toshiba",
          "Toshiba",
          "Toshiba",
          "Toshiba",
          "Toshiba",
          "Toshiba",
          "Toshiba",
          "Toshiba",
          "Toshiba",
          "Toshiba",
          "Toshiba",
          "Toshiba",
          "Toshiba",
          "Toshiba",
          "Toshiba",
          "Toshiba",
          "Toshiba",
          "Toshiba",
          "Toshiba",
          "Toshiba",
          "Toshiba",
          "Toshiba",
          "Toshiba",
          "Toshiba",
          "Toshiba",
          "Toshiba",
          "Toshiba",
          "Toshiba",
          "Toshiba",
          "Toshiba",
          "Toshiba",
          "Toshiba",
          "Toshiba",
          "Toshiba",
          "Toshiba",
          "Toshiba",
          "Toshiba",
          "Toshiba",
          "Toshiba"
         ],
         "xaxis": "x",
         "y": [
          602,
          447,
          489,
          793,
          1363,
          812,
          1043,
          943,
          1403,
          1747,
          1672,
          2799,
          860,
          1865,
          1399,
          1213,
          1064,
          498,
          1258,
          973,
          1877,
          1535,
          1020,
          1764,
          780,
          1090,
          499,
          669,
          1285,
          1095,
          1388,
          1475,
          1975,
          1105,
          1119,
          1460,
          1535,
          1790,
          1180,
          1195,
          915,
          1195,
          1210,
          1490,
          1590,
          1725,
          1425,
          2226
         ],
         "yaxis": "y"
        },
        {
         "customdata": [
          [
           "MateBook X"
          ],
          [
           "MateBook X"
          ]
         ],
         "hovertemplate": "Company=%{x}<br>Price (Euro)=%{marker.size}<br>Product=%{customdata[0]}<extra></extra>",
         "legendgroup": "Huawei",
         "marker": {
          "color": "#636efa",
          "size": [
           1349,
           1499
          ],
          "sizemode": "area",
          "sizeref": 15.2475,
          "symbol": "circle"
         },
         "mode": "markers",
         "name": "Huawei",
         "showlegend": true,
         "type": "scattergl",
         "x": [
          "Huawei",
          "Huawei"
         ],
         "xaxis": "x",
         "y": [
          1349,
          1499
         ],
         "yaxis": "y"
        },
        {
         "customdata": [
          [
           "Mi Notebook"
          ],
          [
           "Mi Notebook"
          ],
          [
           "Mi Notebook"
          ],
          [
           "Mi Notebook"
          ]
         ],
         "hovertemplate": "Company=%{x}<br>Price (Euro)=%{marker.size}<br>Product=%{customdata[0]}<extra></extra>",
         "legendgroup": "Xiaomi",
         "marker": {
          "color": "#EF553B",
          "size": [
           1199,
           999.9,
           1399.95,
           935
          ],
          "sizemode": "area",
          "sizeref": 15.2475,
          "symbol": "circle"
         },
         "mode": "markers",
         "name": "Xiaomi",
         "showlegend": true,
         "type": "scattergl",
         "x": [
          "Xiaomi",
          "Xiaomi",
          "Xiaomi",
          "Xiaomi"
         ],
         "xaxis": "x",
         "y": [
          1199,
          999.9,
          1399.95,
          935
         ],
         "yaxis": "y"
        },
        {
         "customdata": [
          [
           "K147 (N3350/4GB/32GB/FHD/W10)"
          ],
          [
           "K146 (N3350/4GB/32GB/W10)"
          ],
          [
           "V142 (X5-Z8350/2GB/32GB/W10)"
          ],
          [
           "V131 (X5-Z8350/4GB/32GB/FHD/W10)"
          ]
         ],
         "hovertemplate": "Company=%{x}<br>Price (Euro)=%{marker.size}<br>Product=%{customdata[0]}<extra></extra>",
         "legendgroup": "Vero",
         "marker": {
          "color": "#00cc96",
          "size": [
           260,
           202.9,
           210.8,
           196
          ],
          "sizemode": "area",
          "sizeref": 15.2475,
          "symbol": "circle"
         },
         "mode": "markers",
         "name": "Vero",
         "showlegend": true,
         "type": "scattergl",
         "x": [
          "Vero",
          "Vero",
          "Vero",
          "Vero"
         ],
         "xaxis": "x",
         "y": [
          260,
          202.9,
          210.8,
          196
         ],
         "yaxis": "y"
        },
        {
         "customdata": [
          [
           "Blade Pro"
          ],
          [
           "Blade Pro"
          ],
          [
           "Blade Pro"
          ],
          [
           "Blade Stealth"
          ],
          [
           "Blade Pro"
          ],
          [
           "Blade Stealth"
          ],
          [
           "Blade Pro"
          ]
         ],
         "hovertemplate": "Company=%{x}<br>Price (Euro)=%{marker.size}<br>Product=%{customdata[0]}<extra></extra>",
         "legendgroup": "Razer",
         "marker": {
          "color": "#ab63fa",
          "size": [
           6099,
           2599,
           2899,
           1799,
           5499,
           1029,
           3499
          ],
          "sizemode": "area",
          "sizeref": 15.2475,
          "symbol": "circle"
         },
         "mode": "markers",
         "name": "Razer",
         "showlegend": true,
         "type": "scattergl",
         "x": [
          "Razer",
          "Razer",
          "Razer",
          "Razer",
          "Razer",
          "Razer",
          "Razer"
         ],
         "xaxis": "x",
         "y": [
          6099,
          2599,
          2899,
          1799,
          5499,
          1029,
          3499
         ],
         "yaxis": "y"
        },
        {
         "customdata": [
          [
           "FlexBook Edge"
          ],
          [
           "SmartBook Edge"
          ],
          [
           "SmartBook 130"
          ],
          [
           "SmartBook 141"
          ],
          [
           "SmartBook Edge"
          ],
          [
           "SmartBook 140"
          ],
          [
           "Smartbook 142"
          ]
         ],
         "hovertemplate": "Company=%{x}<br>Price (Euro)=%{marker.size}<br>Product=%{customdata[0]}<extra></extra>",
         "legendgroup": "Mediacom",
         "marker": {
          "color": "#FFA15A",
          "size": [
           299,
           369,
           255,
           249,
           389,
           239,
           265
          ],
          "sizemode": "area",
          "sizeref": 15.2475,
          "symbol": "circle"
         },
         "mode": "markers",
         "name": "Mediacom",
         "showlegend": true,
         "type": "scattergl",
         "x": [
          "Mediacom",
          "Mediacom",
          "Mediacom",
          "Mediacom",
          "Mediacom",
          "Mediacom",
          "Mediacom"
         ],
         "xaxis": "x",
         "y": [
          299,
          369,
          255,
          249,
          389,
          239,
          265
         ],
         "yaxis": "y"
        },
        {
         "customdata": [
          [
           "Chromebook 3"
          ],
          [
           "Notebook Odyssey"
          ],
          [
           "Notebook 9"
          ],
          [
           "Notebook 9"
          ],
          [
           "Notebook 9"
          ],
          [
           "Notebook 9"
          ],
          [
           "Notebook 9"
          ],
          [
           "Notebook 9"
          ],
          [
           "Chromebook Plus"
          ]
         ],
         "hovertemplate": "Company=%{x}<br>Price (Euro)=%{marker.size}<br>Product=%{customdata[0]}<extra></extra>",
         "legendgroup": "Samsung",
         "marker": {
          "color": "#19d3f3",
          "size": [
           269,
           1699,
           1649,
           1599,
           1799,
           1499,
           1849,
           1699,
           659
          ],
          "sizemode": "area",
          "sizeref": 15.2475,
          "symbol": "circle"
         },
         "mode": "markers",
         "name": "Samsung",
         "showlegend": true,
         "type": "scattergl",
         "x": [
          "Samsung",
          "Samsung",
          "Samsung",
          "Samsung",
          "Samsung",
          "Samsung",
          "Samsung",
          "Samsung",
          "Samsung"
         ],
         "xaxis": "x",
         "y": [
          269,
          1699,
          1649,
          1599,
          1799,
          1499,
          1849,
          1699,
          659
         ],
         "yaxis": "y"
        },
        {
         "customdata": [
          [
           "Pixelbook (Core"
          ],
          [
           "Pixelbook (Core"
          ],
          [
           "Pixelbook (Core"
          ]
         ],
         "hovertemplate": "Company=%{x}<br>Price (Euro)=%{marker.size}<br>Product=%{customdata[0]}<extra></extra>",
         "legendgroup": "Google",
         "marker": {
          "color": "#FF6692",
          "size": [
           2199,
           1275,
           1559
          ],
          "sizemode": "area",
          "sizeref": 15.2475,
          "symbol": "circle"
         },
         "mode": "markers",
         "name": "Google",
         "showlegend": true,
         "type": "scattergl",
         "x": [
          "Google",
          "Google",
          "Google"
         ],
         "xaxis": "x",
         "y": [
          2199,
          1275,
          1559
         ],
         "yaxis": "y"
        },
        {
         "customdata": [
          [
           "Lifebook A557"
          ],
          [
           "LifeBook A557"
          ],
          [
           "LifeBook A556"
          ]
         ],
         "hovertemplate": "Company=%{x}<br>Price (Euro)=%{marker.size}<br>Product=%{customdata[0]}<extra></extra>",
         "legendgroup": "Fujitsu",
         "marker": {
          "color": "#B6E880",
          "size": [
           739,
           799,
           649
          ],
          "sizemode": "area",
          "sizeref": 15.2475,
          "symbol": "circle"
         },
         "mode": "markers",
         "name": "Fujitsu",
         "showlegend": true,
         "type": "scattergl",
         "x": [
          "Fujitsu",
          "Fujitsu",
          "Fujitsu"
         ],
         "xaxis": "x",
         "y": [
          739,
          799,
          649
         ],
         "yaxis": "y"
        },
        {
         "customdata": [
          [
           "Gram 15Z975"
          ],
          [
           "Gram 15Z970"
          ],
          [
           "Gram 14Z970"
          ]
         ],
         "hovertemplate": "Company=%{x}<br>Price (Euro)=%{marker.size}<br>Product=%{customdata[0]}<extra></extra>",
         "legendgroup": "LG",
         "marker": {
          "color": "#FF97FF",
          "size": [
           2299,
           2099,
           1899
          ],
          "sizemode": "area",
          "sizeref": 15.2475,
          "symbol": "circle"
         },
         "mode": "markers",
         "name": "LG",
         "showlegend": true,
         "type": "scattergl",
         "x": [
          "LG",
          "LG",
          "LG"
         ],
         "xaxis": "x",
         "y": [
          2299,
          2099,
          1899
         ],
         "yaxis": "y"
        }
       ],
       "layout": {
        "legend": {
         "itemsizing": "constant",
         "title": {
          "text": "Company"
         },
         "tracegroupgap": 0
        },
        "template": {
         "data": {
          "bar": [
           {
            "error_x": {
             "color": "#2a3f5f"
            },
            "error_y": {
             "color": "#2a3f5f"
            },
            "marker": {
             "line": {
              "color": "#E5ECF6",
              "width": 0.5
             },
             "pattern": {
              "fillmode": "overlay",
              "size": 10,
              "solidity": 0.2
             }
            },
            "type": "bar"
           }
          ],
          "barpolar": [
           {
            "marker": {
             "line": {
              "color": "#E5ECF6",
              "width": 0.5
             },
             "pattern": {
              "fillmode": "overlay",
              "size": 10,
              "solidity": 0.2
             }
            },
            "type": "barpolar"
           }
          ],
          "carpet": [
           {
            "aaxis": {
             "endlinecolor": "#2a3f5f",
             "gridcolor": "white",
             "linecolor": "white",
             "minorgridcolor": "white",
             "startlinecolor": "#2a3f5f"
            },
            "baxis": {
             "endlinecolor": "#2a3f5f",
             "gridcolor": "white",
             "linecolor": "white",
             "minorgridcolor": "white",
             "startlinecolor": "#2a3f5f"
            },
            "type": "carpet"
           }
          ],
          "choropleth": [
           {
            "colorbar": {
             "outlinewidth": 0,
             "ticks": ""
            },
            "type": "choropleth"
           }
          ],
          "contour": [
           {
            "colorbar": {
             "outlinewidth": 0,
             "ticks": ""
            },
            "colorscale": [
             [
              0,
              "#0d0887"
             ],
             [
              0.1111111111111111,
              "#46039f"
             ],
             [
              0.2222222222222222,
              "#7201a8"
             ],
             [
              0.3333333333333333,
              "#9c179e"
             ],
             [
              0.4444444444444444,
              "#bd3786"
             ],
             [
              0.5555555555555556,
              "#d8576b"
             ],
             [
              0.6666666666666666,
              "#ed7953"
             ],
             [
              0.7777777777777778,
              "#fb9f3a"
             ],
             [
              0.8888888888888888,
              "#fdca26"
             ],
             [
              1,
              "#f0f921"
             ]
            ],
            "type": "contour"
           }
          ],
          "contourcarpet": [
           {
            "colorbar": {
             "outlinewidth": 0,
             "ticks": ""
            },
            "type": "contourcarpet"
           }
          ],
          "heatmap": [
           {
            "colorbar": {
             "outlinewidth": 0,
             "ticks": ""
            },
            "colorscale": [
             [
              0,
              "#0d0887"
             ],
             [
              0.1111111111111111,
              "#46039f"
             ],
             [
              0.2222222222222222,
              "#7201a8"
             ],
             [
              0.3333333333333333,
              "#9c179e"
             ],
             [
              0.4444444444444444,
              "#bd3786"
             ],
             [
              0.5555555555555556,
              "#d8576b"
             ],
             [
              0.6666666666666666,
              "#ed7953"
             ],
             [
              0.7777777777777778,
              "#fb9f3a"
             ],
             [
              0.8888888888888888,
              "#fdca26"
             ],
             [
              1,
              "#f0f921"
             ]
            ],
            "type": "heatmap"
           }
          ],
          "heatmapgl": [
           {
            "colorbar": {
             "outlinewidth": 0,
             "ticks": ""
            },
            "colorscale": [
             [
              0,
              "#0d0887"
             ],
             [
              0.1111111111111111,
              "#46039f"
             ],
             [
              0.2222222222222222,
              "#7201a8"
             ],
             [
              0.3333333333333333,
              "#9c179e"
             ],
             [
              0.4444444444444444,
              "#bd3786"
             ],
             [
              0.5555555555555556,
              "#d8576b"
             ],
             [
              0.6666666666666666,
              "#ed7953"
             ],
             [
              0.7777777777777778,
              "#fb9f3a"
             ],
             [
              0.8888888888888888,
              "#fdca26"
             ],
             [
              1,
              "#f0f921"
             ]
            ],
            "type": "heatmapgl"
           }
          ],
          "histogram": [
           {
            "marker": {
             "pattern": {
              "fillmode": "overlay",
              "size": 10,
              "solidity": 0.2
             }
            },
            "type": "histogram"
           }
          ],
          "histogram2d": [
           {
            "colorbar": {
             "outlinewidth": 0,
             "ticks": ""
            },
            "colorscale": [
             [
              0,
              "#0d0887"
             ],
             [
              0.1111111111111111,
              "#46039f"
             ],
             [
              0.2222222222222222,
              "#7201a8"
             ],
             [
              0.3333333333333333,
              "#9c179e"
             ],
             [
              0.4444444444444444,
              "#bd3786"
             ],
             [
              0.5555555555555556,
              "#d8576b"
             ],
             [
              0.6666666666666666,
              "#ed7953"
             ],
             [
              0.7777777777777778,
              "#fb9f3a"
             ],
             [
              0.8888888888888888,
              "#fdca26"
             ],
             [
              1,
              "#f0f921"
             ]
            ],
            "type": "histogram2d"
           }
          ],
          "histogram2dcontour": [
           {
            "colorbar": {
             "outlinewidth": 0,
             "ticks": ""
            },
            "colorscale": [
             [
              0,
              "#0d0887"
             ],
             [
              0.1111111111111111,
              "#46039f"
             ],
             [
              0.2222222222222222,
              "#7201a8"
             ],
             [
              0.3333333333333333,
              "#9c179e"
             ],
             [
              0.4444444444444444,
              "#bd3786"
             ],
             [
              0.5555555555555556,
              "#d8576b"
             ],
             [
              0.6666666666666666,
              "#ed7953"
             ],
             [
              0.7777777777777778,
              "#fb9f3a"
             ],
             [
              0.8888888888888888,
              "#fdca26"
             ],
             [
              1,
              "#f0f921"
             ]
            ],
            "type": "histogram2dcontour"
           }
          ],
          "mesh3d": [
           {
            "colorbar": {
             "outlinewidth": 0,
             "ticks": ""
            },
            "type": "mesh3d"
           }
          ],
          "parcoords": [
           {
            "line": {
             "colorbar": {
              "outlinewidth": 0,
              "ticks": ""
             }
            },
            "type": "parcoords"
           }
          ],
          "pie": [
           {
            "automargin": true,
            "type": "pie"
           }
          ],
          "scatter": [
           {
            "fillpattern": {
             "fillmode": "overlay",
             "size": 10,
             "solidity": 0.2
            },
            "type": "scatter"
           }
          ],
          "scatter3d": [
           {
            "line": {
             "colorbar": {
              "outlinewidth": 0,
              "ticks": ""
             }
            },
            "marker": {
             "colorbar": {
              "outlinewidth": 0,
              "ticks": ""
             }
            },
            "type": "scatter3d"
           }
          ],
          "scattercarpet": [
           {
            "marker": {
             "colorbar": {
              "outlinewidth": 0,
              "ticks": ""
             }
            },
            "type": "scattercarpet"
           }
          ],
          "scattergeo": [
           {
            "marker": {
             "colorbar": {
              "outlinewidth": 0,
              "ticks": ""
             }
            },
            "type": "scattergeo"
           }
          ],
          "scattergl": [
           {
            "marker": {
             "colorbar": {
              "outlinewidth": 0,
              "ticks": ""
             }
            },
            "type": "scattergl"
           }
          ],
          "scattermapbox": [
           {
            "marker": {
             "colorbar": {
              "outlinewidth": 0,
              "ticks": ""
             }
            },
            "type": "scattermapbox"
           }
          ],
          "scatterpolar": [
           {
            "marker": {
             "colorbar": {
              "outlinewidth": 0,
              "ticks": ""
             }
            },
            "type": "scatterpolar"
           }
          ],
          "scatterpolargl": [
           {
            "marker": {
             "colorbar": {
              "outlinewidth": 0,
              "ticks": ""
             }
            },
            "type": "scatterpolargl"
           }
          ],
          "scatterternary": [
           {
            "marker": {
             "colorbar": {
              "outlinewidth": 0,
              "ticks": ""
             }
            },
            "type": "scatterternary"
           }
          ],
          "surface": [
           {
            "colorbar": {
             "outlinewidth": 0,
             "ticks": ""
            },
            "colorscale": [
             [
              0,
              "#0d0887"
             ],
             [
              0.1111111111111111,
              "#46039f"
             ],
             [
              0.2222222222222222,
              "#7201a8"
             ],
             [
              0.3333333333333333,
              "#9c179e"
             ],
             [
              0.4444444444444444,
              "#bd3786"
             ],
             [
              0.5555555555555556,
              "#d8576b"
             ],
             [
              0.6666666666666666,
              "#ed7953"
             ],
             [
              0.7777777777777778,
              "#fb9f3a"
             ],
             [
              0.8888888888888888,
              "#fdca26"
             ],
             [
              1,
              "#f0f921"
             ]
            ],
            "type": "surface"
           }
          ],
          "table": [
           {
            "cells": {
             "fill": {
              "color": "#EBF0F8"
             },
             "line": {
              "color": "white"
             }
            },
            "header": {
             "fill": {
              "color": "#C8D4E3"
             },
             "line": {
              "color": "white"
             }
            },
            "type": "table"
           }
          ]
         },
         "layout": {
          "annotationdefaults": {
           "arrowcolor": "#2a3f5f",
           "arrowhead": 0,
           "arrowwidth": 1
          },
          "autotypenumbers": "strict",
          "coloraxis": {
           "colorbar": {
            "outlinewidth": 0,
            "ticks": ""
           }
          },
          "colorscale": {
           "diverging": [
            [
             0,
             "#8e0152"
            ],
            [
             0.1,
             "#c51b7d"
            ],
            [
             0.2,
             "#de77ae"
            ],
            [
             0.3,
             "#f1b6da"
            ],
            [
             0.4,
             "#fde0ef"
            ],
            [
             0.5,
             "#f7f7f7"
            ],
            [
             0.6,
             "#e6f5d0"
            ],
            [
             0.7,
             "#b8e186"
            ],
            [
             0.8,
             "#7fbc41"
            ],
            [
             0.9,
             "#4d9221"
            ],
            [
             1,
             "#276419"
            ]
           ],
           "sequential": [
            [
             0,
             "#0d0887"
            ],
            [
             0.1111111111111111,
             "#46039f"
            ],
            [
             0.2222222222222222,
             "#7201a8"
            ],
            [
             0.3333333333333333,
             "#9c179e"
            ],
            [
             0.4444444444444444,
             "#bd3786"
            ],
            [
             0.5555555555555556,
             "#d8576b"
            ],
            [
             0.6666666666666666,
             "#ed7953"
            ],
            [
             0.7777777777777778,
             "#fb9f3a"
            ],
            [
             0.8888888888888888,
             "#fdca26"
            ],
            [
             1,
             "#f0f921"
            ]
           ],
           "sequentialminus": [
            [
             0,
             "#0d0887"
            ],
            [
             0.1111111111111111,
             "#46039f"
            ],
            [
             0.2222222222222222,
             "#7201a8"
            ],
            [
             0.3333333333333333,
             "#9c179e"
            ],
            [
             0.4444444444444444,
             "#bd3786"
            ],
            [
             0.5555555555555556,
             "#d8576b"
            ],
            [
             0.6666666666666666,
             "#ed7953"
            ],
            [
             0.7777777777777778,
             "#fb9f3a"
            ],
            [
             0.8888888888888888,
             "#fdca26"
            ],
            [
             1,
             "#f0f921"
            ]
           ]
          },
          "colorway": [
           "#636efa",
           "#EF553B",
           "#00cc96",
           "#ab63fa",
           "#FFA15A",
           "#19d3f3",
           "#FF6692",
           "#B6E880",
           "#FF97FF",
           "#FECB52"
          ],
          "font": {
           "color": "#2a3f5f"
          },
          "geo": {
           "bgcolor": "white",
           "lakecolor": "white",
           "landcolor": "#E5ECF6",
           "showlakes": true,
           "showland": true,
           "subunitcolor": "white"
          },
          "hoverlabel": {
           "align": "left"
          },
          "hovermode": "closest",
          "mapbox": {
           "style": "light"
          },
          "paper_bgcolor": "white",
          "plot_bgcolor": "#E5ECF6",
          "polar": {
           "angularaxis": {
            "gridcolor": "white",
            "linecolor": "white",
            "ticks": ""
           },
           "bgcolor": "#E5ECF6",
           "radialaxis": {
            "gridcolor": "white",
            "linecolor": "white",
            "ticks": ""
           }
          },
          "scene": {
           "xaxis": {
            "backgroundcolor": "#E5ECF6",
            "gridcolor": "white",
            "gridwidth": 2,
            "linecolor": "white",
            "showbackground": true,
            "ticks": "",
            "zerolinecolor": "white"
           },
           "yaxis": {
            "backgroundcolor": "#E5ECF6",
            "gridcolor": "white",
            "gridwidth": 2,
            "linecolor": "white",
            "showbackground": true,
            "ticks": "",
            "zerolinecolor": "white"
           },
           "zaxis": {
            "backgroundcolor": "#E5ECF6",
            "gridcolor": "white",
            "gridwidth": 2,
            "linecolor": "white",
            "showbackground": true,
            "ticks": "",
            "zerolinecolor": "white"
           }
          },
          "shapedefaults": {
           "line": {
            "color": "#2a3f5f"
           }
          },
          "ternary": {
           "aaxis": {
            "gridcolor": "white",
            "linecolor": "white",
            "ticks": ""
           },
           "baxis": {
            "gridcolor": "white",
            "linecolor": "white",
            "ticks": ""
           },
           "bgcolor": "#E5ECF6",
           "caxis": {
            "gridcolor": "white",
            "linecolor": "white",
            "ticks": ""
           }
          },
          "title": {
           "x": 0.05
          },
          "xaxis": {
           "automargin": true,
           "gridcolor": "white",
           "linecolor": "white",
           "ticks": "",
           "title": {
            "standoff": 15
           },
           "zerolinecolor": "white",
           "zerolinewidth": 2
          },
          "yaxis": {
           "automargin": true,
           "gridcolor": "white",
           "linecolor": "white",
           "ticks": "",
           "title": {
            "standoff": 15
           },
           "zerolinecolor": "white",
           "zerolinewidth": 2
          }
         }
        },
        "title": {
         "text": "Scatter Plot of individual product prices by producer"
        },
        "xaxis": {
         "anchor": "y",
         "categoryarray": [
          "Apple",
          "HP",
          "Acer",
          "Asus",
          "Dell",
          "Lenovo",
          "Chuwi",
          "MSI",
          "Microsoft",
          "Toshiba",
          "Huawei",
          "Xiaomi",
          "Vero",
          "Razer",
          "Mediacom",
          "Samsung",
          "Google",
          "Fujitsu",
          "LG"
         ],
         "categoryorder": "array",
         "domain": [
          0,
          1
         ],
         "title": {
          "text": "Company"
         }
        },
        "yaxis": {
         "anchor": "x",
         "domain": [
          0,
          1
         ],
         "title": {
          "text": "Price (Euro)"
         }
        }
       }
      }
     },
     "metadata": {},
     "output_type": "display_data"
    }
   ],
   "source": [
    "fig = px.scatter(laptops, x='Company', y='Price (Euro)', color='Company',\n",
    "                 size='Price (Euro)', hover_data=['Product', 'Price (Euro)'],\n",
    "                 title='Scatter Plot of individual product prices by producer')\n",
    "\n",
    "fig.show()"
   ]
  },
  {
   "cell_type": "markdown",
   "metadata": {},
   "source": [
    "• Which company has on average the most expensive laptop? What is the average\n",
    "laptop price for each company?"
   ]
  },
  {
   "cell_type": "code",
   "execution_count": 59,
   "metadata": {},
   "outputs": [
    {
     "data": {
      "text/html": [
       "<div>\n",
       "<style scoped>\n",
       "    .dataframe tbody tr th:only-of-type {\n",
       "        vertical-align: middle;\n",
       "    }\n",
       "\n",
       "    .dataframe tbody tr th {\n",
       "        vertical-align: top;\n",
       "    }\n",
       "\n",
       "    .dataframe thead th {\n",
       "        text-align: right;\n",
       "    }\n",
       "</style>\n",
       "<table border=\"1\" class=\"dataframe\">\n",
       "  <thead>\n",
       "    <tr style=\"text-align: right;\">\n",
       "      <th></th>\n",
       "      <th>Company</th>\n",
       "      <th>Average Price</th>\n",
       "    </tr>\n",
       "  </thead>\n",
       "  <tbody>\n",
       "    <tr>\n",
       "      <th>0</th>\n",
       "      <td>Acer</td>\n",
       "      <td>633.464455</td>\n",
       "    </tr>\n",
       "    <tr>\n",
       "      <th>1</th>\n",
       "      <td>Apple</td>\n",
       "      <td>1564.198571</td>\n",
       "    </tr>\n",
       "    <tr>\n",
       "      <th>2</th>\n",
       "      <td>Asus</td>\n",
       "      <td>1123.829737</td>\n",
       "    </tr>\n",
       "    <tr>\n",
       "      <th>3</th>\n",
       "      <td>Chuwi</td>\n",
       "      <td>314.296667</td>\n",
       "    </tr>\n",
       "    <tr>\n",
       "      <th>4</th>\n",
       "      <td>Dell</td>\n",
       "      <td>1199.225120</td>\n",
       "    </tr>\n",
       "    <tr>\n",
       "      <th>5</th>\n",
       "      <td>Fujitsu</td>\n",
       "      <td>729.000000</td>\n",
       "    </tr>\n",
       "    <tr>\n",
       "      <th>6</th>\n",
       "      <td>Google</td>\n",
       "      <td>1677.666667</td>\n",
       "    </tr>\n",
       "    <tr>\n",
       "      <th>7</th>\n",
       "      <td>HP</td>\n",
       "      <td>1080.314664</td>\n",
       "    </tr>\n",
       "    <tr>\n",
       "      <th>8</th>\n",
       "      <td>Huawei</td>\n",
       "      <td>1424.000000</td>\n",
       "    </tr>\n",
       "    <tr>\n",
       "      <th>9</th>\n",
       "      <td>LG</td>\n",
       "      <td>2099.000000</td>\n",
       "    </tr>\n",
       "    <tr>\n",
       "      <th>10</th>\n",
       "      <td>Lenovo</td>\n",
       "      <td>1093.862215</td>\n",
       "    </tr>\n",
       "    <tr>\n",
       "      <th>11</th>\n",
       "      <td>MSI</td>\n",
       "      <td>1728.908148</td>\n",
       "    </tr>\n",
       "    <tr>\n",
       "      <th>12</th>\n",
       "      <td>Mediacom</td>\n",
       "      <td>295.000000</td>\n",
       "    </tr>\n",
       "    <tr>\n",
       "      <th>13</th>\n",
       "      <td>Microsoft</td>\n",
       "      <td>1612.308333</td>\n",
       "    </tr>\n",
       "    <tr>\n",
       "      <th>14</th>\n",
       "      <td>Razer</td>\n",
       "      <td>3346.142857</td>\n",
       "    </tr>\n",
       "    <tr>\n",
       "      <th>15</th>\n",
       "      <td>Samsung</td>\n",
       "      <td>1413.444444</td>\n",
       "    </tr>\n",
       "    <tr>\n",
       "      <th>16</th>\n",
       "      <td>Toshiba</td>\n",
       "      <td>1267.812500</td>\n",
       "    </tr>\n",
       "    <tr>\n",
       "      <th>17</th>\n",
       "      <td>Vero</td>\n",
       "      <td>217.425000</td>\n",
       "    </tr>\n",
       "    <tr>\n",
       "      <th>18</th>\n",
       "      <td>Xiaomi</td>\n",
       "      <td>1133.462500</td>\n",
       "    </tr>\n",
       "  </tbody>\n",
       "</table>\n",
       "</div>"
      ],
      "text/plain": [
       "      Company  Average Price\n",
       "0        Acer     633.464455\n",
       "1       Apple    1564.198571\n",
       "2        Asus    1123.829737\n",
       "3       Chuwi     314.296667\n",
       "4        Dell    1199.225120\n",
       "5     Fujitsu     729.000000\n",
       "6      Google    1677.666667\n",
       "7          HP    1080.314664\n",
       "8      Huawei    1424.000000\n",
       "9          LG    2099.000000\n",
       "10     Lenovo    1093.862215\n",
       "11        MSI    1728.908148\n",
       "12   Mediacom     295.000000\n",
       "13  Microsoft    1612.308333\n",
       "14      Razer    3346.142857\n",
       "15    Samsung    1413.444444\n",
       "16    Toshiba    1267.812500\n",
       "17       Vero     217.425000\n",
       "18     Xiaomi    1133.462500"
      ]
     },
     "execution_count": 59,
     "metadata": {},
     "output_type": "execute_result"
    }
   ],
   "source": [
    "# Getting a dataframe consisting of names of the companies and average prices of their products\n",
    "average_prices = laptops.groupby(\"Company\", as_index=False)['Price (Euro)'].mean()\n",
    "average_prices.rename(columns={'Price (Euro)': 'Average Price'}, inplace=True)\n",
    "\n"
   ]
  },
  {
   "cell_type": "code",
   "execution_count": 89,
   "metadata": {},
   "outputs": [
    {
     "data": {
      "application/vnd.plotly.v1+json": {
       "config": {
        "plotlyServerURL": "https://plot.ly"
       },
       "data": [
        {
         "alignmentgroup": "True",
         "hovertemplate": "Company=%{x}<br>Average Price=%{y}<extra></extra>",
         "legendgroup": "Acer",
         "marker": {
          "color": "#636efa",
          "pattern": {
           "shape": ""
          }
         },
         "name": "Acer",
         "offsetgroup": "Acer",
         "orientation": "v",
         "showlegend": true,
         "textposition": "auto",
         "type": "bar",
         "x": [
          "Acer"
         ],
         "xaxis": "x",
         "y": [
          633.4644554455446
         ],
         "yaxis": "y"
        },
        {
         "alignmentgroup": "True",
         "hovertemplate": "Company=%{x}<br>Average Price=%{y}<extra></extra>",
         "legendgroup": "Apple",
         "marker": {
          "color": "#EF553B",
          "pattern": {
           "shape": ""
          }
         },
         "name": "Apple",
         "offsetgroup": "Apple",
         "orientation": "v",
         "showlegend": true,
         "textposition": "auto",
         "type": "bar",
         "x": [
          "Apple"
         ],
         "xaxis": "x",
         "y": [
          1564.1985714285713
         ],
         "yaxis": "y"
        },
        {
         "alignmentgroup": "True",
         "hovertemplate": "Company=%{x}<br>Average Price=%{y}<extra></extra>",
         "legendgroup": "Asus",
         "marker": {
          "color": "#00cc96",
          "pattern": {
           "shape": ""
          }
         },
         "name": "Asus",
         "offsetgroup": "Asus",
         "orientation": "v",
         "showlegend": true,
         "textposition": "auto",
         "type": "bar",
         "x": [
          "Asus"
         ],
         "xaxis": "x",
         "y": [
          1123.8297368421051
         ],
         "yaxis": "y"
        },
        {
         "alignmentgroup": "True",
         "hovertemplate": "Company=%{x}<br>Average Price=%{y}<extra></extra>",
         "legendgroup": "Chuwi",
         "marker": {
          "color": "#ab63fa",
          "pattern": {
           "shape": ""
          }
         },
         "name": "Chuwi",
         "offsetgroup": "Chuwi",
         "orientation": "v",
         "showlegend": true,
         "textposition": "auto",
         "type": "bar",
         "x": [
          "Chuwi"
         ],
         "xaxis": "x",
         "y": [
          314.2966666666667
         ],
         "yaxis": "y"
        },
        {
         "alignmentgroup": "True",
         "hovertemplate": "Company=%{x}<br>Average Price=%{y}<extra></extra>",
         "legendgroup": "Dell",
         "marker": {
          "color": "#FFA15A",
          "pattern": {
           "shape": ""
          }
         },
         "name": "Dell",
         "offsetgroup": "Dell",
         "orientation": "v",
         "showlegend": true,
         "textposition": "auto",
         "type": "bar",
         "x": [
          "Dell"
         ],
         "xaxis": "x",
         "y": [
          1199.2251202749142
         ],
         "yaxis": "y"
        },
        {
         "alignmentgroup": "True",
         "hovertemplate": "Company=%{x}<br>Average Price=%{y}<extra></extra>",
         "legendgroup": "Fujitsu",
         "marker": {
          "color": "#19d3f3",
          "pattern": {
           "shape": ""
          }
         },
         "name": "Fujitsu",
         "offsetgroup": "Fujitsu",
         "orientation": "v",
         "showlegend": true,
         "textposition": "auto",
         "type": "bar",
         "x": [
          "Fujitsu"
         ],
         "xaxis": "x",
         "y": [
          729
         ],
         "yaxis": "y"
        },
        {
         "alignmentgroup": "True",
         "hovertemplate": "Company=%{x}<br>Average Price=%{y}<extra></extra>",
         "legendgroup": "Google",
         "marker": {
          "color": "#FF6692",
          "pattern": {
           "shape": ""
          }
         },
         "name": "Google",
         "offsetgroup": "Google",
         "orientation": "v",
         "showlegend": true,
         "textposition": "auto",
         "type": "bar",
         "x": [
          "Google"
         ],
         "xaxis": "x",
         "y": [
          1677.6666666666667
         ],
         "yaxis": "y"
        },
        {
         "alignmentgroup": "True",
         "hovertemplate": "Company=%{x}<br>Average Price=%{y}<extra></extra>",
         "legendgroup": "HP",
         "marker": {
          "color": "#B6E880",
          "pattern": {
           "shape": ""
          }
         },
         "name": "HP",
         "offsetgroup": "HP",
         "orientation": "v",
         "showlegend": true,
         "textposition": "auto",
         "type": "bar",
         "x": [
          "HP"
         ],
         "xaxis": "x",
         "y": [
          1080.3146641791045
         ],
         "yaxis": "y"
        },
        {
         "alignmentgroup": "True",
         "hovertemplate": "Company=%{x}<br>Average Price=%{y}<extra></extra>",
         "legendgroup": "Huawei",
         "marker": {
          "color": "#FF97FF",
          "pattern": {
           "shape": ""
          }
         },
         "name": "Huawei",
         "offsetgroup": "Huawei",
         "orientation": "v",
         "showlegend": true,
         "textposition": "auto",
         "type": "bar",
         "x": [
          "Huawei"
         ],
         "xaxis": "x",
         "y": [
          1424
         ],
         "yaxis": "y"
        },
        {
         "alignmentgroup": "True",
         "hovertemplate": "Company=%{x}<br>Average Price=%{y}<extra></extra>",
         "legendgroup": "LG",
         "marker": {
          "color": "#FECB52",
          "pattern": {
           "shape": ""
          }
         },
         "name": "LG",
         "offsetgroup": "LG",
         "orientation": "v",
         "showlegend": true,
         "textposition": "auto",
         "type": "bar",
         "x": [
          "LG"
         ],
         "xaxis": "x",
         "y": [
          2099
         ],
         "yaxis": "y"
        },
        {
         "alignmentgroup": "True",
         "hovertemplate": "Company=%{x}<br>Average Price=%{y}<extra></extra>",
         "legendgroup": "Lenovo",
         "marker": {
          "color": "#636efa",
          "pattern": {
           "shape": ""
          }
         },
         "name": "Lenovo",
         "offsetgroup": "Lenovo",
         "orientation": "v",
         "showlegend": true,
         "textposition": "auto",
         "type": "bar",
         "x": [
          "Lenovo"
         ],
         "xaxis": "x",
         "y": [
          1093.862214532872
         ],
         "yaxis": "y"
        },
        {
         "alignmentgroup": "True",
         "hovertemplate": "Company=%{x}<br>Average Price=%{y}<extra></extra>",
         "legendgroup": "MSI",
         "marker": {
          "color": "#EF553B",
          "pattern": {
           "shape": ""
          }
         },
         "name": "MSI",
         "offsetgroup": "MSI",
         "orientation": "v",
         "showlegend": true,
         "textposition": "auto",
         "type": "bar",
         "x": [
          "MSI"
         ],
         "xaxis": "x",
         "y": [
          1728.908148148148
         ],
         "yaxis": "y"
        },
        {
         "alignmentgroup": "True",
         "hovertemplate": "Company=%{x}<br>Average Price=%{y}<extra></extra>",
         "legendgroup": "Mediacom",
         "marker": {
          "color": "#00cc96",
          "pattern": {
           "shape": ""
          }
         },
         "name": "Mediacom",
         "offsetgroup": "Mediacom",
         "orientation": "v",
         "showlegend": true,
         "textposition": "auto",
         "type": "bar",
         "x": [
          "Mediacom"
         ],
         "xaxis": "x",
         "y": [
          295
         ],
         "yaxis": "y"
        },
        {
         "alignmentgroup": "True",
         "hovertemplate": "Company=%{x}<br>Average Price=%{y}<extra></extra>",
         "legendgroup": "Microsoft",
         "marker": {
          "color": "#ab63fa",
          "pattern": {
           "shape": ""
          }
         },
         "name": "Microsoft",
         "offsetgroup": "Microsoft",
         "orientation": "v",
         "showlegend": true,
         "textposition": "auto",
         "type": "bar",
         "x": [
          "Microsoft"
         ],
         "xaxis": "x",
         "y": [
          1612.3083333333334
         ],
         "yaxis": "y"
        },
        {
         "alignmentgroup": "True",
         "hovertemplate": "Company=%{x}<br>Average Price=%{y}<extra></extra>",
         "legendgroup": "Razer",
         "marker": {
          "color": "#FFA15A",
          "pattern": {
           "shape": ""
          }
         },
         "name": "Razer",
         "offsetgroup": "Razer",
         "orientation": "v",
         "showlegend": true,
         "textposition": "auto",
         "type": "bar",
         "x": [
          "Razer"
         ],
         "xaxis": "x",
         "y": [
          3346.1428571428573
         ],
         "yaxis": "y"
        },
        {
         "alignmentgroup": "True",
         "hovertemplate": "Company=%{x}<br>Average Price=%{y}<extra></extra>",
         "legendgroup": "Samsung",
         "marker": {
          "color": "#19d3f3",
          "pattern": {
           "shape": ""
          }
         },
         "name": "Samsung",
         "offsetgroup": "Samsung",
         "orientation": "v",
         "showlegend": true,
         "textposition": "auto",
         "type": "bar",
         "x": [
          "Samsung"
         ],
         "xaxis": "x",
         "y": [
          1413.4444444444443
         ],
         "yaxis": "y"
        },
        {
         "alignmentgroup": "True",
         "hovertemplate": "Company=%{x}<br>Average Price=%{y}<extra></extra>",
         "legendgroup": "Toshiba",
         "marker": {
          "color": "#FF6692",
          "pattern": {
           "shape": ""
          }
         },
         "name": "Toshiba",
         "offsetgroup": "Toshiba",
         "orientation": "v",
         "showlegend": true,
         "textposition": "auto",
         "type": "bar",
         "x": [
          "Toshiba"
         ],
         "xaxis": "x",
         "y": [
          1267.8125
         ],
         "yaxis": "y"
        },
        {
         "alignmentgroup": "True",
         "hovertemplate": "Company=%{x}<br>Average Price=%{y}<extra></extra>",
         "legendgroup": "Vero",
         "marker": {
          "color": "#B6E880",
          "pattern": {
           "shape": ""
          }
         },
         "name": "Vero",
         "offsetgroup": "Vero",
         "orientation": "v",
         "showlegend": true,
         "textposition": "auto",
         "type": "bar",
         "x": [
          "Vero"
         ],
         "xaxis": "x",
         "y": [
          217.425
         ],
         "yaxis": "y"
        },
        {
         "alignmentgroup": "True",
         "hovertemplate": "Company=%{x}<br>Average Price=%{y}<extra></extra>",
         "legendgroup": "Xiaomi",
         "marker": {
          "color": "#FF97FF",
          "pattern": {
           "shape": ""
          }
         },
         "name": "Xiaomi",
         "offsetgroup": "Xiaomi",
         "orientation": "v",
         "showlegend": true,
         "textposition": "auto",
         "type": "bar",
         "x": [
          "Xiaomi"
         ],
         "xaxis": "x",
         "y": [
          1133.4625
         ],
         "yaxis": "y"
        }
       ],
       "layout": {
        "barmode": "relative",
        "legend": {
         "title": {
          "text": "Company"
         },
         "tracegroupgap": 0
        },
        "template": {
         "data": {
          "bar": [
           {
            "error_x": {
             "color": "#2a3f5f"
            },
            "error_y": {
             "color": "#2a3f5f"
            },
            "marker": {
             "line": {
              "color": "#E5ECF6",
              "width": 0.5
             },
             "pattern": {
              "fillmode": "overlay",
              "size": 10,
              "solidity": 0.2
             }
            },
            "type": "bar"
           }
          ],
          "barpolar": [
           {
            "marker": {
             "line": {
              "color": "#E5ECF6",
              "width": 0.5
             },
             "pattern": {
              "fillmode": "overlay",
              "size": 10,
              "solidity": 0.2
             }
            },
            "type": "barpolar"
           }
          ],
          "carpet": [
           {
            "aaxis": {
             "endlinecolor": "#2a3f5f",
             "gridcolor": "white",
             "linecolor": "white",
             "minorgridcolor": "white",
             "startlinecolor": "#2a3f5f"
            },
            "baxis": {
             "endlinecolor": "#2a3f5f",
             "gridcolor": "white",
             "linecolor": "white",
             "minorgridcolor": "white",
             "startlinecolor": "#2a3f5f"
            },
            "type": "carpet"
           }
          ],
          "choropleth": [
           {
            "colorbar": {
             "outlinewidth": 0,
             "ticks": ""
            },
            "type": "choropleth"
           }
          ],
          "contour": [
           {
            "colorbar": {
             "outlinewidth": 0,
             "ticks": ""
            },
            "colorscale": [
             [
              0,
              "#0d0887"
             ],
             [
              0.1111111111111111,
              "#46039f"
             ],
             [
              0.2222222222222222,
              "#7201a8"
             ],
             [
              0.3333333333333333,
              "#9c179e"
             ],
             [
              0.4444444444444444,
              "#bd3786"
             ],
             [
              0.5555555555555556,
              "#d8576b"
             ],
             [
              0.6666666666666666,
              "#ed7953"
             ],
             [
              0.7777777777777778,
              "#fb9f3a"
             ],
             [
              0.8888888888888888,
              "#fdca26"
             ],
             [
              1,
              "#f0f921"
             ]
            ],
            "type": "contour"
           }
          ],
          "contourcarpet": [
           {
            "colorbar": {
             "outlinewidth": 0,
             "ticks": ""
            },
            "type": "contourcarpet"
           }
          ],
          "heatmap": [
           {
            "colorbar": {
             "outlinewidth": 0,
             "ticks": ""
            },
            "colorscale": [
             [
              0,
              "#0d0887"
             ],
             [
              0.1111111111111111,
              "#46039f"
             ],
             [
              0.2222222222222222,
              "#7201a8"
             ],
             [
              0.3333333333333333,
              "#9c179e"
             ],
             [
              0.4444444444444444,
              "#bd3786"
             ],
             [
              0.5555555555555556,
              "#d8576b"
             ],
             [
              0.6666666666666666,
              "#ed7953"
             ],
             [
              0.7777777777777778,
              "#fb9f3a"
             ],
             [
              0.8888888888888888,
              "#fdca26"
             ],
             [
              1,
              "#f0f921"
             ]
            ],
            "type": "heatmap"
           }
          ],
          "heatmapgl": [
           {
            "colorbar": {
             "outlinewidth": 0,
             "ticks": ""
            },
            "colorscale": [
             [
              0,
              "#0d0887"
             ],
             [
              0.1111111111111111,
              "#46039f"
             ],
             [
              0.2222222222222222,
              "#7201a8"
             ],
             [
              0.3333333333333333,
              "#9c179e"
             ],
             [
              0.4444444444444444,
              "#bd3786"
             ],
             [
              0.5555555555555556,
              "#d8576b"
             ],
             [
              0.6666666666666666,
              "#ed7953"
             ],
             [
              0.7777777777777778,
              "#fb9f3a"
             ],
             [
              0.8888888888888888,
              "#fdca26"
             ],
             [
              1,
              "#f0f921"
             ]
            ],
            "type": "heatmapgl"
           }
          ],
          "histogram": [
           {
            "marker": {
             "pattern": {
              "fillmode": "overlay",
              "size": 10,
              "solidity": 0.2
             }
            },
            "type": "histogram"
           }
          ],
          "histogram2d": [
           {
            "colorbar": {
             "outlinewidth": 0,
             "ticks": ""
            },
            "colorscale": [
             [
              0,
              "#0d0887"
             ],
             [
              0.1111111111111111,
              "#46039f"
             ],
             [
              0.2222222222222222,
              "#7201a8"
             ],
             [
              0.3333333333333333,
              "#9c179e"
             ],
             [
              0.4444444444444444,
              "#bd3786"
             ],
             [
              0.5555555555555556,
              "#d8576b"
             ],
             [
              0.6666666666666666,
              "#ed7953"
             ],
             [
              0.7777777777777778,
              "#fb9f3a"
             ],
             [
              0.8888888888888888,
              "#fdca26"
             ],
             [
              1,
              "#f0f921"
             ]
            ],
            "type": "histogram2d"
           }
          ],
          "histogram2dcontour": [
           {
            "colorbar": {
             "outlinewidth": 0,
             "ticks": ""
            },
            "colorscale": [
             [
              0,
              "#0d0887"
             ],
             [
              0.1111111111111111,
              "#46039f"
             ],
             [
              0.2222222222222222,
              "#7201a8"
             ],
             [
              0.3333333333333333,
              "#9c179e"
             ],
             [
              0.4444444444444444,
              "#bd3786"
             ],
             [
              0.5555555555555556,
              "#d8576b"
             ],
             [
              0.6666666666666666,
              "#ed7953"
             ],
             [
              0.7777777777777778,
              "#fb9f3a"
             ],
             [
              0.8888888888888888,
              "#fdca26"
             ],
             [
              1,
              "#f0f921"
             ]
            ],
            "type": "histogram2dcontour"
           }
          ],
          "mesh3d": [
           {
            "colorbar": {
             "outlinewidth": 0,
             "ticks": ""
            },
            "type": "mesh3d"
           }
          ],
          "parcoords": [
           {
            "line": {
             "colorbar": {
              "outlinewidth": 0,
              "ticks": ""
             }
            },
            "type": "parcoords"
           }
          ],
          "pie": [
           {
            "automargin": true,
            "type": "pie"
           }
          ],
          "scatter": [
           {
            "fillpattern": {
             "fillmode": "overlay",
             "size": 10,
             "solidity": 0.2
            },
            "type": "scatter"
           }
          ],
          "scatter3d": [
           {
            "line": {
             "colorbar": {
              "outlinewidth": 0,
              "ticks": ""
             }
            },
            "marker": {
             "colorbar": {
              "outlinewidth": 0,
              "ticks": ""
             }
            },
            "type": "scatter3d"
           }
          ],
          "scattercarpet": [
           {
            "marker": {
             "colorbar": {
              "outlinewidth": 0,
              "ticks": ""
             }
            },
            "type": "scattercarpet"
           }
          ],
          "scattergeo": [
           {
            "marker": {
             "colorbar": {
              "outlinewidth": 0,
              "ticks": ""
             }
            },
            "type": "scattergeo"
           }
          ],
          "scattergl": [
           {
            "marker": {
             "colorbar": {
              "outlinewidth": 0,
              "ticks": ""
             }
            },
            "type": "scattergl"
           }
          ],
          "scattermapbox": [
           {
            "marker": {
             "colorbar": {
              "outlinewidth": 0,
              "ticks": ""
             }
            },
            "type": "scattermapbox"
           }
          ],
          "scatterpolar": [
           {
            "marker": {
             "colorbar": {
              "outlinewidth": 0,
              "ticks": ""
             }
            },
            "type": "scatterpolar"
           }
          ],
          "scatterpolargl": [
           {
            "marker": {
             "colorbar": {
              "outlinewidth": 0,
              "ticks": ""
             }
            },
            "type": "scatterpolargl"
           }
          ],
          "scatterternary": [
           {
            "marker": {
             "colorbar": {
              "outlinewidth": 0,
              "ticks": ""
             }
            },
            "type": "scatterternary"
           }
          ],
          "surface": [
           {
            "colorbar": {
             "outlinewidth": 0,
             "ticks": ""
            },
            "colorscale": [
             [
              0,
              "#0d0887"
             ],
             [
              0.1111111111111111,
              "#46039f"
             ],
             [
              0.2222222222222222,
              "#7201a8"
             ],
             [
              0.3333333333333333,
              "#9c179e"
             ],
             [
              0.4444444444444444,
              "#bd3786"
             ],
             [
              0.5555555555555556,
              "#d8576b"
             ],
             [
              0.6666666666666666,
              "#ed7953"
             ],
             [
              0.7777777777777778,
              "#fb9f3a"
             ],
             [
              0.8888888888888888,
              "#fdca26"
             ],
             [
              1,
              "#f0f921"
             ]
            ],
            "type": "surface"
           }
          ],
          "table": [
           {
            "cells": {
             "fill": {
              "color": "#EBF0F8"
             },
             "line": {
              "color": "white"
             }
            },
            "header": {
             "fill": {
              "color": "#C8D4E3"
             },
             "line": {
              "color": "white"
             }
            },
            "type": "table"
           }
          ]
         },
         "layout": {
          "annotationdefaults": {
           "arrowcolor": "#2a3f5f",
           "arrowhead": 0,
           "arrowwidth": 1
          },
          "autotypenumbers": "strict",
          "coloraxis": {
           "colorbar": {
            "outlinewidth": 0,
            "ticks": ""
           }
          },
          "colorscale": {
           "diverging": [
            [
             0,
             "#8e0152"
            ],
            [
             0.1,
             "#c51b7d"
            ],
            [
             0.2,
             "#de77ae"
            ],
            [
             0.3,
             "#f1b6da"
            ],
            [
             0.4,
             "#fde0ef"
            ],
            [
             0.5,
             "#f7f7f7"
            ],
            [
             0.6,
             "#e6f5d0"
            ],
            [
             0.7,
             "#b8e186"
            ],
            [
             0.8,
             "#7fbc41"
            ],
            [
             0.9,
             "#4d9221"
            ],
            [
             1,
             "#276419"
            ]
           ],
           "sequential": [
            [
             0,
             "#0d0887"
            ],
            [
             0.1111111111111111,
             "#46039f"
            ],
            [
             0.2222222222222222,
             "#7201a8"
            ],
            [
             0.3333333333333333,
             "#9c179e"
            ],
            [
             0.4444444444444444,
             "#bd3786"
            ],
            [
             0.5555555555555556,
             "#d8576b"
            ],
            [
             0.6666666666666666,
             "#ed7953"
            ],
            [
             0.7777777777777778,
             "#fb9f3a"
            ],
            [
             0.8888888888888888,
             "#fdca26"
            ],
            [
             1,
             "#f0f921"
            ]
           ],
           "sequentialminus": [
            [
             0,
             "#0d0887"
            ],
            [
             0.1111111111111111,
             "#46039f"
            ],
            [
             0.2222222222222222,
             "#7201a8"
            ],
            [
             0.3333333333333333,
             "#9c179e"
            ],
            [
             0.4444444444444444,
             "#bd3786"
            ],
            [
             0.5555555555555556,
             "#d8576b"
            ],
            [
             0.6666666666666666,
             "#ed7953"
            ],
            [
             0.7777777777777778,
             "#fb9f3a"
            ],
            [
             0.8888888888888888,
             "#fdca26"
            ],
            [
             1,
             "#f0f921"
            ]
           ]
          },
          "colorway": [
           "#636efa",
           "#EF553B",
           "#00cc96",
           "#ab63fa",
           "#FFA15A",
           "#19d3f3",
           "#FF6692",
           "#B6E880",
           "#FF97FF",
           "#FECB52"
          ],
          "font": {
           "color": "#2a3f5f"
          },
          "geo": {
           "bgcolor": "white",
           "lakecolor": "white",
           "landcolor": "#E5ECF6",
           "showlakes": true,
           "showland": true,
           "subunitcolor": "white"
          },
          "hoverlabel": {
           "align": "left"
          },
          "hovermode": "closest",
          "mapbox": {
           "style": "light"
          },
          "paper_bgcolor": "white",
          "plot_bgcolor": "#E5ECF6",
          "polar": {
           "angularaxis": {
            "gridcolor": "white",
            "linecolor": "white",
            "ticks": ""
           },
           "bgcolor": "#E5ECF6",
           "radialaxis": {
            "gridcolor": "white",
            "linecolor": "white",
            "ticks": ""
           }
          },
          "scene": {
           "xaxis": {
            "backgroundcolor": "#E5ECF6",
            "gridcolor": "white",
            "gridwidth": 2,
            "linecolor": "white",
            "showbackground": true,
            "ticks": "",
            "zerolinecolor": "white"
           },
           "yaxis": {
            "backgroundcolor": "#E5ECF6",
            "gridcolor": "white",
            "gridwidth": 2,
            "linecolor": "white",
            "showbackground": true,
            "ticks": "",
            "zerolinecolor": "white"
           },
           "zaxis": {
            "backgroundcolor": "#E5ECF6",
            "gridcolor": "white",
            "gridwidth": 2,
            "linecolor": "white",
            "showbackground": true,
            "ticks": "",
            "zerolinecolor": "white"
           }
          },
          "shapedefaults": {
           "line": {
            "color": "#2a3f5f"
           }
          },
          "ternary": {
           "aaxis": {
            "gridcolor": "white",
            "linecolor": "white",
            "ticks": ""
           },
           "baxis": {
            "gridcolor": "white",
            "linecolor": "white",
            "ticks": ""
           },
           "bgcolor": "#E5ECF6",
           "caxis": {
            "gridcolor": "white",
            "linecolor": "white",
            "ticks": ""
           }
          },
          "title": {
           "x": 0.05
          },
          "xaxis": {
           "automargin": true,
           "gridcolor": "white",
           "linecolor": "white",
           "ticks": "",
           "title": {
            "standoff": 15
           },
           "zerolinecolor": "white",
           "zerolinewidth": 2
          },
          "yaxis": {
           "automargin": true,
           "gridcolor": "white",
           "linecolor": "white",
           "ticks": "",
           "title": {
            "standoff": 15
           },
           "zerolinecolor": "white",
           "zerolinewidth": 2
          }
         }
        },
        "title": {
         "text": "Average product price by producer"
        },
        "xaxis": {
         "anchor": "y",
         "categoryarray": [
          "Acer",
          "Apple",
          "Asus",
          "Chuwi",
          "Dell",
          "Fujitsu",
          "Google",
          "HP",
          "Huawei",
          "LG",
          "Lenovo",
          "MSI",
          "Mediacom",
          "Microsoft",
          "Razer",
          "Samsung",
          "Toshiba",
          "Vero",
          "Xiaomi"
         ],
         "categoryorder": "total ascending",
         "domain": [
          0,
          1
         ],
         "title": {
          "text": "Company"
         }
        },
        "yaxis": {
         "anchor": "x",
         "domain": [
          0,
          1
         ],
         "title": {
          "text": "Average Price"
         }
        }
       }
      }
     },
     "metadata": {},
     "output_type": "display_data"
    }
   ],
   "source": [
    "fig = px.bar(average_prices, x=\"Company\", y=\"Average Price\", color=\"Company\", title=\"Average product price by producer\")\n",
    "fig.update_layout(xaxis = {\"categoryorder\":\"total ascending\"})\n",
    "fig.show()"
   ]
  },
  {
   "cell_type": "markdown",
   "metadata": {},
   "source": [
    "• Find the different types of Operating systems present in the data - under the column\n",
    "name \"OpSys\".\n",
    "\n",
    "o Please note - there are operating systems that are the same systems and just\n",
    "written differently in the column - please fix them to be uniform."
   ]
  },
  {
   "cell_type": "code",
   "execution_count": 45,
   "metadata": {},
   "outputs": [
    {
     "data": {
      "text/plain": [
       "array(['macOS', 'No OS', 'Windows 10', 'Mac OS X', 'Linux', 'Android',\n",
       "       'Windows 10 S', 'Chrome OS', 'Windows 7'], dtype=object)"
      ]
     },
     "execution_count": 45,
     "metadata": {},
     "output_type": "execute_result"
    }
   ],
   "source": [
    "# Checking unique names of operating systems in the dataset\n",
    "laptops[\"OpSys\"].unique()"
   ]
  },
  {
   "cell_type": "code",
   "execution_count": 50,
   "metadata": {},
   "outputs": [],
   "source": [
    "# Standardizing OS names\n",
    "def categorize_os(system):\n",
    "    system = system.lower()\n",
    "    if 'windows' in system:\n",
    "        return 'Windows'\n",
    "    elif 'mac' in system or 'os x' in system:\n",
    "        return 'Mac'\n",
    "    elif 'linux' in system:\n",
    "        return 'Linux'\n",
    "    elif 'chrome' in system:\n",
    "        return 'Chrome OS'\n",
    "    elif 'android' in system:\n",
    "        return 'Android'\n",
    "    else:\n",
    "        return 'Other'\n",
    "    \n",
    "laptops[\"OpSys\"] = laptops[\"OpSys\"].apply(categorize_os)"
   ]
  },
  {
   "cell_type": "code",
   "execution_count": 58,
   "metadata": {},
   "outputs": [
    {
     "data": {
      "text/plain": [
       "array(['Mac', 'Other', 'Windows', 'Linux', 'Android', 'Chrome OS'],\n",
       "      dtype=object)"
      ]
     },
     "execution_count": 58,
     "metadata": {},
     "output_type": "execute_result"
    }
   ],
   "source": [
    "# Confirming standarization effectiveness\n",
    "laptops[\"OpSys\"].unique()"
   ]
  },
  {
   "cell_type": "markdown",
   "metadata": {},
   "source": [
    "• Plot for each of the operating system types the distribution of the prices, so that the\n",
    "number of plots equals to the number of unique operating systems."
   ]
  },
  {
   "cell_type": "code",
   "execution_count": null,
   "metadata": {},
   "outputs": [
    {
     "data": {
      "image/png": "[encoded data removed]",
      "text/plain": [
       "<Figure size 1500x1000 with 6 Axes>"
      ]
     },
     "metadata": {},
     "output_type": "display_data"
    }
   ],
   "source": [
    "plt.figure(figsize=(15, 10))\n",
    "for i, os in enumerate(laptops[\"OpSys\"].unique(), start=1):\n",
    "    plt.subplot(2, (len(laptops[\"OpSys\"].unique()) + 1) // 2, i)  # Adjust layout for readability\n",
    "    sns.histplot(laptops[laptops[\"OpSys\"] == os][\"Price (Euro)\"], kde=True, bins=20)\n",
    "    plt.title(f\"Price Distribution for {os}\")\n",
    "    plt.xlabel(\"Price (Euro)\")\n",
    "    plt.ylabel(\"Count\")\n",
    "\n",
    "\n",
    "plt.tight_layout()\n",
    "plt.show()"
   ]
  },
  {
   "cell_type": "markdown",
   "metadata": {},
   "source": [
    "• What is the relationship between RAM and computer price? add an adequate plot to\n",
    "support your findings."
   ]
  },
  {
   "cell_type": "code",
   "execution_count": 77,
   "metadata": {},
   "outputs": [
    {
     "data": {
      "text/html": [
       "<div>\n",
       "<style scoped>\n",
       "    .dataframe tbody tr th:only-of-type {\n",
       "        vertical-align: middle;\n",
       "    }\n",
       "\n",
       "    .dataframe tbody tr th {\n",
       "        vertical-align: top;\n",
       "    }\n",
       "\n",
       "    .dataframe thead th {\n",
       "        text-align: right;\n",
       "    }\n",
       "</style>\n",
       "<table border=\"1\" class=\"dataframe\">\n",
       "  <thead>\n",
       "    <tr style=\"text-align: right;\">\n",
       "      <th></th>\n",
       "      <th>RAM (GB)</th>\n",
       "      <th>Price (Euro)</th>\n",
       "    </tr>\n",
       "  </thead>\n",
       "  <tbody>\n",
       "    <tr>\n",
       "      <th>0</th>\n",
       "      <td>2</td>\n",
       "      <td>247.634375</td>\n",
       "    </tr>\n",
       "    <tr>\n",
       "      <th>1</th>\n",
       "      <td>4</td>\n",
       "      <td>576.109101</td>\n",
       "    </tr>\n",
       "    <tr>\n",
       "      <th>2</th>\n",
       "      <td>6</td>\n",
       "      <td>619.356571</td>\n",
       "    </tr>\n",
       "    <tr>\n",
       "      <th>3</th>\n",
       "      <td>8</td>\n",
       "      <td>1184.429413</td>\n",
       "    </tr>\n",
       "    <tr>\n",
       "      <th>4</th>\n",
       "      <td>12</td>\n",
       "      <td>1239.438400</td>\n",
       "    </tr>\n",
       "    <tr>\n",
       "      <th>5</th>\n",
       "      <td>16</td>\n",
       "      <td>1941.193081</td>\n",
       "    </tr>\n",
       "    <tr>\n",
       "      <th>6</th>\n",
       "      <td>24</td>\n",
       "      <td>2206.333333</td>\n",
       "    </tr>\n",
       "    <tr>\n",
       "      <th>7</th>\n",
       "      <td>32</td>\n",
       "      <td>3413.085882</td>\n",
       "    </tr>\n",
       "    <tr>\n",
       "      <th>8</th>\n",
       "      <td>64</td>\n",
       "      <td>3975.000000</td>\n",
       "    </tr>\n",
       "  </tbody>\n",
       "</table>\n",
       "</div>"
      ],
      "text/plain": [
       "   RAM (GB)  Price (Euro)\n",
       "0         2    247.634375\n",
       "1         4    576.109101\n",
       "2         6    619.356571\n",
       "3         8   1184.429413\n",
       "4        12   1239.438400\n",
       "5        16   1941.193081\n",
       "6        24   2206.333333\n",
       "7        32   3413.085882\n",
       "8        64   3975.000000"
      ]
     },
     "execution_count": 77,
     "metadata": {},
     "output_type": "execute_result"
    }
   ],
   "source": [
    "# Getting a dataframe consisting of names of the RAM ammounts and associated average price\n",
    "average_prices_by_ram = laptops.groupby('RAM (GB)')['Price (Euro)'].mean().reset_index()\n",
    "\n",
    "average_prices_by_ram"
   ]
  },
  {
   "cell_type": "code",
   "execution_count": 94,
   "metadata": {},
   "outputs": [
    {
     "data": {
      "image/png": "[encoded data removed]",
      "text/plain": [
       "<Figure size 640x480 with 1 Axes>"
      ]
     },
     "metadata": {},
     "output_type": "display_data"
    }
   ],
   "source": [
    "# Plotting relationship between the amount of RAM and price\n",
    "plt.figure()\n",
    "sns.lineplot(data=average_prices_by_ram, x='RAM (GB)', y='Price (Euro)')\n",
    "plt.title('Average Price by RAM')\n",
    "plt.xlabel('Amount of RAM (GB)')\n",
    "plt.ylabel('Average Price (Euro)')\n",
    "plt.grid(True)\n",
    "plt.show()"
   ]
  },
  {
   "cell_type": "markdown",
   "metadata": {},
   "source": [
    "• Create a new column for the dataframe called \"Storage type\" that extracts the\n",
    "storage type from the column \"Memory\".\n",
    "\n",
    "o For example, in the first row in the column \"Memory\" it states \"128GB SSD\",\n",
    "the new column will have just \"SSD\" in its first row."
   ]
  },
  {
   "cell_type": "code",
   "execution_count": 83,
   "metadata": {},
   "outputs": [],
   "source": [
    "# Creating a list for entries\n",
    "storage_type = []\n",
    "\n",
    "# Assigning values based on the contents of the \"Memory\" column\n",
    "for storage in laptops[\"Memory\"]:\n",
    "    storage = storage.lower()\n",
    "    if 'hdd' in storage and 'ssd' in storage:\n",
    "        storage_type.append(\"HDD & SSD\")\n",
    "    elif 'ssd' in storage:\n",
    "        storage_type.append(\"SSD\")\n",
    "    elif 'hdd' in storage:\n",
    "        storage_type.append(\"HDD\")\n",
    "    elif 'flash' in storage:\n",
    "        storage_type.append(\"Flash storage\")\n",
    "    else:\n",
    "        storage_type.append(\"Other\")\n",
    "\n",
    "# Initializing new column with values from the list\n",
    "laptops[\"Storage type\"] = storage_type"
   ]
  },
  {
   "cell_type": "code",
   "execution_count": 86,
   "metadata": {},
   "outputs": [
    {
     "data": {
      "text/html": [
       "<div>\n",
       "<style scoped>\n",
       "    .dataframe tbody tr th:only-of-type {\n",
       "        vertical-align: middle;\n",
       "    }\n",
       "\n",
       "    .dataframe tbody tr th {\n",
       "        vertical-align: top;\n",
       "    }\n",
       "\n",
       "    .dataframe thead th {\n",
       "        text-align: right;\n",
       "    }\n",
       "</style>\n",
       "<table border=\"1\" class=\"dataframe\">\n",
       "  <thead>\n",
       "    <tr style=\"text-align: right;\">\n",
       "      <th></th>\n",
       "      <th>Company</th>\n",
       "      <th>Product</th>\n",
       "      <th>TypeName</th>\n",
       "      <th>Inches</th>\n",
       "      <th>ScreenResolution</th>\n",
       "      <th>CPU_Company</th>\n",
       "      <th>CPU_Type</th>\n",
       "      <th>CPU_Frequency (GHz)</th>\n",
       "      <th>RAM (GB)</th>\n",
       "      <th>Memory</th>\n",
       "      <th>GPU_Company</th>\n",
       "      <th>GPU_Type</th>\n",
       "      <th>OpSys</th>\n",
       "      <th>Weight (kg)</th>\n",
       "      <th>Price (Euro)</th>\n",
       "      <th>Storage type</th>\n",
       "    </tr>\n",
       "  </thead>\n",
       "  <tbody>\n",
       "    <tr>\n",
       "      <th>0</th>\n",
       "      <td>Apple</td>\n",
       "      <td>MacBook Pro</td>\n",
       "      <td>Ultrabook</td>\n",
       "      <td>13.3</td>\n",
       "      <td>IPS Panel Retina Display 2560x1600</td>\n",
       "      <td>Intel</td>\n",
       "      <td>Core i5</td>\n",
       "      <td>2.3</td>\n",
       "      <td>8</td>\n",
       "      <td>128GB SSD</td>\n",
       "      <td>Intel</td>\n",
       "      <td>Iris Plus Graphics 640</td>\n",
       "      <td>Mac</td>\n",
       "      <td>1.37</td>\n",
       "      <td>1339.69</td>\n",
       "      <td>SSD</td>\n",
       "    </tr>\n",
       "    <tr>\n",
       "      <th>1</th>\n",
       "      <td>Apple</td>\n",
       "      <td>Macbook Air</td>\n",
       "      <td>Ultrabook</td>\n",
       "      <td>13.3</td>\n",
       "      <td>1440x900</td>\n",
       "      <td>Intel</td>\n",
       "      <td>Core i5</td>\n",
       "      <td>1.8</td>\n",
       "      <td>8</td>\n",
       "      <td>128GB Flash Storage</td>\n",
       "      <td>Intel</td>\n",
       "      <td>HD Graphics 6000</td>\n",
       "      <td>Mac</td>\n",
       "      <td>1.34</td>\n",
       "      <td>898.94</td>\n",
       "      <td>Flash storage</td>\n",
       "    </tr>\n",
       "    <tr>\n",
       "      <th>2</th>\n",
       "      <td>HP</td>\n",
       "      <td>250 G6</td>\n",
       "      <td>Notebook</td>\n",
       "      <td>15.6</td>\n",
       "      <td>Full HD 1920x1080</td>\n",
       "      <td>Intel</td>\n",
       "      <td>Core i5 7200U</td>\n",
       "      <td>2.5</td>\n",
       "      <td>8</td>\n",
       "      <td>256GB SSD</td>\n",
       "      <td>Intel</td>\n",
       "      <td>HD Graphics 620</td>\n",
       "      <td>Other</td>\n",
       "      <td>1.86</td>\n",
       "      <td>575.00</td>\n",
       "      <td>SSD</td>\n",
       "    </tr>\n",
       "    <tr>\n",
       "      <th>3</th>\n",
       "      <td>Apple</td>\n",
       "      <td>MacBook Pro</td>\n",
       "      <td>Ultrabook</td>\n",
       "      <td>15.4</td>\n",
       "      <td>IPS Panel Retina Display 2880x1800</td>\n",
       "      <td>Intel</td>\n",
       "      <td>Core i7</td>\n",
       "      <td>2.7</td>\n",
       "      <td>16</td>\n",
       "      <td>512GB SSD</td>\n",
       "      <td>AMD</td>\n",
       "      <td>Radeon Pro 455</td>\n",
       "      <td>Mac</td>\n",
       "      <td>1.83</td>\n",
       "      <td>2537.45</td>\n",
       "      <td>SSD</td>\n",
       "    </tr>\n",
       "    <tr>\n",
       "      <th>4</th>\n",
       "      <td>Apple</td>\n",
       "      <td>MacBook Pro</td>\n",
       "      <td>Ultrabook</td>\n",
       "      <td>13.3</td>\n",
       "      <td>IPS Panel Retina Display 2560x1600</td>\n",
       "      <td>Intel</td>\n",
       "      <td>Core i5</td>\n",
       "      <td>3.1</td>\n",
       "      <td>8</td>\n",
       "      <td>256GB SSD</td>\n",
       "      <td>Intel</td>\n",
       "      <td>Iris Plus Graphics 650</td>\n",
       "      <td>Mac</td>\n",
       "      <td>1.37</td>\n",
       "      <td>1803.60</td>\n",
       "      <td>SSD</td>\n",
       "    </tr>\n",
       "    <tr>\n",
       "      <th>5</th>\n",
       "      <td>Acer</td>\n",
       "      <td>Aspire 3</td>\n",
       "      <td>Notebook</td>\n",
       "      <td>15.6</td>\n",
       "      <td>1366x768</td>\n",
       "      <td>AMD</td>\n",
       "      <td>A9-Series 9420</td>\n",
       "      <td>3.0</td>\n",
       "      <td>4</td>\n",
       "      <td>500GB HDD</td>\n",
       "      <td>AMD</td>\n",
       "      <td>Radeon R5</td>\n",
       "      <td>Windows</td>\n",
       "      <td>2.10</td>\n",
       "      <td>400.00</td>\n",
       "      <td>HDD</td>\n",
       "    </tr>\n",
       "    <tr>\n",
       "      <th>6</th>\n",
       "      <td>Apple</td>\n",
       "      <td>MacBook Pro</td>\n",
       "      <td>Ultrabook</td>\n",
       "      <td>15.4</td>\n",
       "      <td>IPS Panel Retina Display 2880x1800</td>\n",
       "      <td>Intel</td>\n",
       "      <td>Core i7</td>\n",
       "      <td>2.2</td>\n",
       "      <td>16</td>\n",
       "      <td>256GB Flash Storage</td>\n",
       "      <td>Intel</td>\n",
       "      <td>Iris Pro Graphics</td>\n",
       "      <td>Mac</td>\n",
       "      <td>2.04</td>\n",
       "      <td>2139.97</td>\n",
       "      <td>Flash storage</td>\n",
       "    </tr>\n",
       "    <tr>\n",
       "      <th>7</th>\n",
       "      <td>Apple</td>\n",
       "      <td>Macbook Air</td>\n",
       "      <td>Ultrabook</td>\n",
       "      <td>13.3</td>\n",
       "      <td>1440x900</td>\n",
       "      <td>Intel</td>\n",
       "      <td>Core i5</td>\n",
       "      <td>1.8</td>\n",
       "      <td>8</td>\n",
       "      <td>256GB Flash Storage</td>\n",
       "      <td>Intel</td>\n",
       "      <td>HD Graphics 6000</td>\n",
       "      <td>Mac</td>\n",
       "      <td>1.34</td>\n",
       "      <td>1158.70</td>\n",
       "      <td>Flash storage</td>\n",
       "    </tr>\n",
       "    <tr>\n",
       "      <th>8</th>\n",
       "      <td>Asus</td>\n",
       "      <td>ZenBook UX430UN</td>\n",
       "      <td>Ultrabook</td>\n",
       "      <td>14.0</td>\n",
       "      <td>Full HD 1920x1080</td>\n",
       "      <td>Intel</td>\n",
       "      <td>Core i7 8550U</td>\n",
       "      <td>1.8</td>\n",
       "      <td>16</td>\n",
       "      <td>512GB SSD</td>\n",
       "      <td>Nvidia</td>\n",
       "      <td>GeForce MX150</td>\n",
       "      <td>Windows</td>\n",
       "      <td>1.30</td>\n",
       "      <td>1495.00</td>\n",
       "      <td>SSD</td>\n",
       "    </tr>\n",
       "    <tr>\n",
       "      <th>9</th>\n",
       "      <td>Acer</td>\n",
       "      <td>Swift 3</td>\n",
       "      <td>Ultrabook</td>\n",
       "      <td>14.0</td>\n",
       "      <td>IPS Panel Full HD 1920x1080</td>\n",
       "      <td>Intel</td>\n",
       "      <td>Core i5 8250U</td>\n",
       "      <td>1.6</td>\n",
       "      <td>8</td>\n",
       "      <td>256GB SSD</td>\n",
       "      <td>Intel</td>\n",
       "      <td>UHD Graphics 620</td>\n",
       "      <td>Windows</td>\n",
       "      <td>1.60</td>\n",
       "      <td>770.00</td>\n",
       "      <td>SSD</td>\n",
       "    </tr>\n",
       "  </tbody>\n",
       "</table>\n",
       "</div>"
      ],
      "text/plain": [
       "  Company          Product   TypeName  Inches  \\\n",
       "0   Apple      MacBook Pro  Ultrabook    13.3   \n",
       "1   Apple      Macbook Air  Ultrabook    13.3   \n",
       "2      HP           250 G6   Notebook    15.6   \n",
       "3   Apple      MacBook Pro  Ultrabook    15.4   \n",
       "4   Apple      MacBook Pro  Ultrabook    13.3   \n",
       "5    Acer         Aspire 3   Notebook    15.6   \n",
       "6   Apple      MacBook Pro  Ultrabook    15.4   \n",
       "7   Apple      Macbook Air  Ultrabook    13.3   \n",
       "8    Asus  ZenBook UX430UN  Ultrabook    14.0   \n",
       "9    Acer          Swift 3  Ultrabook    14.0   \n",
       "\n",
       "                     ScreenResolution CPU_Company        CPU_Type  \\\n",
       "0  IPS Panel Retina Display 2560x1600       Intel         Core i5   \n",
       "1                            1440x900       Intel         Core i5   \n",
       "2                   Full HD 1920x1080       Intel   Core i5 7200U   \n",
       "3  IPS Panel Retina Display 2880x1800       Intel         Core i7   \n",
       "4  IPS Panel Retina Display 2560x1600       Intel         Core i5   \n",
       "5                            1366x768         AMD  A9-Series 9420   \n",
       "6  IPS Panel Retina Display 2880x1800       Intel         Core i7   \n",
       "7                            1440x900       Intel         Core i5   \n",
       "8                   Full HD 1920x1080       Intel   Core i7 8550U   \n",
       "9         IPS Panel Full HD 1920x1080       Intel   Core i5 8250U   \n",
       "\n",
       "   CPU_Frequency (GHz)  RAM (GB)               Memory GPU_Company  \\\n",
       "0                  2.3         8            128GB SSD       Intel   \n",
       "1                  1.8         8  128GB Flash Storage       Intel   \n",
       "2                  2.5         8            256GB SSD       Intel   \n",
       "3                  2.7        16            512GB SSD         AMD   \n",
       "4                  3.1         8            256GB SSD       Intel   \n",
       "5                  3.0         4            500GB HDD         AMD   \n",
       "6                  2.2        16  256GB Flash Storage       Intel   \n",
       "7                  1.8         8  256GB Flash Storage       Intel   \n",
       "8                  1.8        16            512GB SSD      Nvidia   \n",
       "9                  1.6         8            256GB SSD       Intel   \n",
       "\n",
       "                 GPU_Type    OpSys  Weight (kg)  Price (Euro)   Storage type  \n",
       "0  Iris Plus Graphics 640      Mac         1.37       1339.69            SSD  \n",
       "1        HD Graphics 6000      Mac         1.34        898.94  Flash storage  \n",
       "2         HD Graphics 620    Other         1.86        575.00            SSD  \n",
       "3          Radeon Pro 455      Mac         1.83       2537.45            SSD  \n",
       "4  Iris Plus Graphics 650      Mac         1.37       1803.60            SSD  \n",
       "5               Radeon R5  Windows         2.10        400.00            HDD  \n",
       "6       Iris Pro Graphics      Mac         2.04       2139.97  Flash storage  \n",
       "7        HD Graphics 6000      Mac         1.34       1158.70  Flash storage  \n",
       "8           GeForce MX150  Windows         1.30       1495.00            SSD  \n",
       "9        UHD Graphics 620  Windows         1.60        770.00            SSD  "
      ]
     },
     "execution_count": 86,
     "metadata": {},
     "output_type": "execute_result"
    }
   ],
   "source": [
    "# Checking implementation\n",
    "laptops.head(10)"
   ]
  },
  {
   "cell_type": "markdown",
   "metadata": {},
   "source": [
    "# Q3 (15pts): Think of additional questions related to this data. \n",
    "\n",
    "What types of analyses and visualizations would you use to address them? Select two questions from your list and\n",
    "implement. Submit your list of questions, suggested analyses and visualizations and the\n",
    "implementation."
   ]
  },
  {
   "cell_type": "markdown",
   "metadata": {},
   "source": [
    "Exemplary questions:\n",
    "\n",
    "    - what is the popularity of each type of laptop (among the producers)?\n",
    "    - what is the average amount of RAM for each type of laptop?\n",
    "    - is there correlation between numerical desriptors of the laptops?"
   ]
  },
  {
   "cell_type": "markdown",
   "metadata": {},
   "source": [
    "What is the average amount of RAM for each type of laptop?"
   ]
  },
  {
   "cell_type": "code",
   "execution_count": 90,
   "metadata": {},
   "outputs": [
    {
     "data": {
      "text/html": [
       "<div>\n",
       "<style scoped>\n",
       "    .dataframe tbody tr th:only-of-type {\n",
       "        vertical-align: middle;\n",
       "    }\n",
       "\n",
       "    .dataframe tbody tr th {\n",
       "        vertical-align: top;\n",
       "    }\n",
       "\n",
       "    .dataframe thead th {\n",
       "        text-align: right;\n",
       "    }\n",
       "</style>\n",
       "<table border=\"1\" class=\"dataframe\">\n",
       "  <thead>\n",
       "    <tr style=\"text-align: right;\">\n",
       "      <th></th>\n",
       "      <th>TypeName</th>\n",
       "      <th>Average RAM</th>\n",
       "    </tr>\n",
       "  </thead>\n",
       "  <tbody>\n",
       "    <tr>\n",
       "      <th>0</th>\n",
       "      <td>2 in 1 Convertible</td>\n",
       "      <td>8.615385</td>\n",
       "    </tr>\n",
       "    <tr>\n",
       "      <th>1</th>\n",
       "      <td>Gaming</td>\n",
       "      <td>14.048780</td>\n",
       "    </tr>\n",
       "    <tr>\n",
       "      <th>2</th>\n",
       "      <td>Netbook</td>\n",
       "      <td>4.869565</td>\n",
       "    </tr>\n",
       "    <tr>\n",
       "      <th>3</th>\n",
       "      <td>Notebook</td>\n",
       "      <td>6.540311</td>\n",
       "    </tr>\n",
       "    <tr>\n",
       "      <th>4</th>\n",
       "      <td>Ultrabook</td>\n",
       "      <td>9.453608</td>\n",
       "    </tr>\n",
       "    <tr>\n",
       "      <th>5</th>\n",
       "      <td>Workstation</td>\n",
       "      <td>10.482759</td>\n",
       "    </tr>\n",
       "  </tbody>\n",
       "</table>\n",
       "</div>"
      ],
      "text/plain": [
       "             TypeName  Average RAM\n",
       "0  2 in 1 Convertible     8.615385\n",
       "1              Gaming    14.048780\n",
       "2             Netbook     4.869565\n",
       "3            Notebook     6.540311\n",
       "4           Ultrabook     9.453608\n",
       "5         Workstation    10.482759"
      ]
     },
     "execution_count": 90,
     "metadata": {},
     "output_type": "execute_result"
    }
   ],
   "source": [
    "# Getting a dataframe consisting of types of devices and their average amount of RAM\n",
    "average_ram = laptops.groupby(\"TypeName\", as_index=False)['RAM (GB)'].mean()\n",
    "average_ram.rename(columns={'RAM (GB)': 'Average RAM'}, inplace=True)\n",
    "\n",
    "average_ram"
   ]
  },
  {
   "cell_type": "code",
   "execution_count": 91,
   "metadata": {},
   "outputs": [
    {
     "data": {
      "application/vnd.plotly.v1+json": {
       "config": {
        "plotlyServerURL": "https://plot.ly"
       },
       "data": [
        {
         "alignmentgroup": "True",
         "hovertemplate": "TypeName=%{x}<br>Average RAM=%{y}<extra></extra>",
         "legendgroup": "2 in 1 Convertible",
         "marker": {
          "color": "#636efa",
          "pattern": {
           "shape": ""
          }
         },
         "name": "2 in 1 Convertible",
         "offsetgroup": "2 in 1 Convertible",
         "orientation": "v",
         "showlegend": true,
         "textposition": "auto",
         "type": "bar",
         "x": [
          "2 in 1 Convertible"
         ],
         "xaxis": "x",
         "y": [
          8.615384615384615
         ],
         "yaxis": "y"
        },
        {
         "alignmentgroup": "True",
         "hovertemplate": "TypeName=%{x}<br>Average RAM=%{y}<extra></extra>",
         "legendgroup": "Gaming",
         "marker": {
          "color": "#EF553B",
          "pattern": {
           "shape": ""
          }
         },
         "name": "Gaming",
         "offsetgroup": "Gaming",
         "orientation": "v",
         "showlegend": true,
         "textposition": "auto",
         "type": "bar",
         "x": [
          "Gaming"
         ],
         "xaxis": "x",
         "y": [
          14.048780487804878
         ],
         "yaxis": "y"
        },
        {
         "alignmentgroup": "True",
         "hovertemplate": "TypeName=%{x}<br>Average RAM=%{y}<extra></extra>",
         "legendgroup": "Netbook",
         "marker": {
          "color": "#00cc96",
          "pattern": {
           "shape": ""
          }
         },
         "name": "Netbook",
         "offsetgroup": "Netbook",
         "orientation": "v",
         "showlegend": true,
         "textposition": "auto",
         "type": "bar",
         "x": [
          "Netbook"
         ],
         "xaxis": "x",
         "y": [
          4.869565217391305
         ],
         "yaxis": "y"
        },
        {
         "alignmentgroup": "True",
         "hovertemplate": "TypeName=%{x}<br>Average RAM=%{y}<extra></extra>",
         "legendgroup": "Notebook",
         "marker": {
          "color": "#ab63fa",
          "pattern": {
           "shape": ""
          }
         },
         "name": "Notebook",
         "offsetgroup": "Notebook",
         "orientation": "v",
         "showlegend": true,
         "textposition": "auto",
         "type": "bar",
         "x": [
          "Notebook"
         ],
         "xaxis": "x",
         "y": [
          6.5403111739745405
         ],
         "yaxis": "y"
        },
        {
         "alignmentgroup": "True",
         "hovertemplate": "TypeName=%{x}<br>Average RAM=%{y}<extra></extra>",
         "legendgroup": "Ultrabook",
         "marker": {
          "color": "#FFA15A",
          "pattern": {
           "shape": ""
          }
         },
         "name": "Ultrabook",
         "offsetgroup": "Ultrabook",
         "orientation": "v",
         "showlegend": true,
         "textposition": "auto",
         "type": "bar",
         "x": [
          "Ultrabook"
         ],
         "xaxis": "x",
         "y": [
          9.45360824742268
         ],
         "yaxis": "y"
        },
        {
         "alignmentgroup": "True",
         "hovertemplate": "TypeName=%{x}<br>Average RAM=%{y}<extra></extra>",
         "legendgroup": "Workstation",
         "marker": {
          "color": "#19d3f3",
          "pattern": {
           "shape": ""
          }
         },
         "name": "Workstation",
         "offsetgroup": "Workstation",
         "orientation": "v",
         "showlegend": true,
         "textposition": "auto",
         "type": "bar",
         "x": [
          "Workstation"
         ],
         "xaxis": "x",
         "y": [
          10.482758620689655
         ],
         "yaxis": "y"
        }
       ],
       "layout": {
        "barmode": "relative",
        "legend": {
         "title": {
          "text": "TypeName"
         },
         "tracegroupgap": 0
        },
        "template": {
         "data": {
          "bar": [
           {
            "error_x": {
             "color": "#2a3f5f"
            },
            "error_y": {
             "color": "#2a3f5f"
            },
            "marker": {
             "line": {
              "color": "#E5ECF6",
              "width": 0.5
             },
             "pattern": {
              "fillmode": "overlay",
              "size": 10,
              "solidity": 0.2
             }
            },
            "type": "bar"
           }
          ],
          "barpolar": [
           {
            "marker": {
             "line": {
              "color": "#E5ECF6",
              "width": 0.5
             },
             "pattern": {
              "fillmode": "overlay",
              "size": 10,
              "solidity": 0.2
             }
            },
            "type": "barpolar"
           }
          ],
          "carpet": [
           {
            "aaxis": {
             "endlinecolor": "#2a3f5f",
             "gridcolor": "white",
             "linecolor": "white",
             "minorgridcolor": "white",
             "startlinecolor": "#2a3f5f"
            },
            "baxis": {
             "endlinecolor": "#2a3f5f",
             "gridcolor": "white",
             "linecolor": "white",
             "minorgridcolor": "white",
             "startlinecolor": "#2a3f5f"
            },
            "type": "carpet"
           }
          ],
          "choropleth": [
           {
            "colorbar": {
             "outlinewidth": 0,
             "ticks": ""
            },
            "type": "choropleth"
           }
          ],
          "contour": [
           {
            "colorbar": {
             "outlinewidth": 0,
             "ticks": ""
            },
            "colorscale": [
             [
              0,
              "#0d0887"
             ],
             [
              0.1111111111111111,
              "#46039f"
             ],
             [
              0.2222222222222222,
              "#7201a8"
             ],
             [
              0.3333333333333333,
              "#9c179e"
             ],
             [
              0.4444444444444444,
              "#bd3786"
             ],
             [
              0.5555555555555556,
              "#d8576b"
             ],
             [
              0.6666666666666666,
              "#ed7953"
             ],
             [
              0.7777777777777778,
              "#fb9f3a"
             ],
             [
              0.8888888888888888,
              "#fdca26"
             ],
             [
              1,
              "#f0f921"
             ]
            ],
            "type": "contour"
           }
          ],
          "contourcarpet": [
           {
            "colorbar": {
             "outlinewidth": 0,
             "ticks": ""
            },
            "type": "contourcarpet"
           }
          ],
          "heatmap": [
           {
            "colorbar": {
             "outlinewidth": 0,
             "ticks": ""
            },
            "colorscale": [
             [
              0,
              "#0d0887"
             ],
             [
              0.1111111111111111,
              "#46039f"
             ],
             [
              0.2222222222222222,
              "#7201a8"
             ],
             [
              0.3333333333333333,
              "#9c179e"
             ],
             [
              0.4444444444444444,
              "#bd3786"
             ],
             [
              0.5555555555555556,
              "#d8576b"
             ],
             [
              0.6666666666666666,
              "#ed7953"
             ],
             [
              0.7777777777777778,
              "#fb9f3a"
             ],
             [
              0.8888888888888888,
              "#fdca26"
             ],
             [
              1,
              "#f0f921"
             ]
            ],
            "type": "heatmap"
           }
          ],
          "heatmapgl": [
           {
            "colorbar": {
             "outlinewidth": 0,
             "ticks": ""
            },
            "colorscale": [
             [
              0,
              "#0d0887"
             ],
             [
              0.1111111111111111,
              "#46039f"
             ],
             [
              0.2222222222222222,
              "#7201a8"
             ],
             [
              0.3333333333333333,
              "#9c179e"
             ],
             [
              0.4444444444444444,
              "#bd3786"
             ],
             [
              0.5555555555555556,
              "#d8576b"
             ],
             [
              0.6666666666666666,
              "#ed7953"
             ],
             [
              0.7777777777777778,
              "#fb9f3a"
             ],
             [
              0.8888888888888888,
              "#fdca26"
             ],
             [
              1,
              "#f0f921"
             ]
            ],
            "type": "heatmapgl"
           }
          ],
          "histogram": [
           {
            "marker": {
             "pattern": {
              "fillmode": "overlay",
              "size": 10,
              "solidity": 0.2
             }
            },
            "type": "histogram"
           }
          ],
          "histogram2d": [
           {
            "colorbar": {
             "outlinewidth": 0,
             "ticks": ""
            },
            "colorscale": [
             [
              0,
              "#0d0887"
             ],
             [
              0.1111111111111111,
              "#46039f"
             ],
             [
              0.2222222222222222,
              "#7201a8"
             ],
             [
              0.3333333333333333,
              "#9c179e"
             ],
             [
              0.4444444444444444,
              "#bd3786"
             ],
             [
              0.5555555555555556,
              "#d8576b"
             ],
             [
              0.6666666666666666,
              "#ed7953"
             ],
             [
              0.7777777777777778,
              "#fb9f3a"
             ],
             [
              0.8888888888888888,
              "#fdca26"
             ],
             [
              1,
              "#f0f921"
             ]
            ],
            "type": "histogram2d"
           }
          ],
          "histogram2dcontour": [
           {
            "colorbar": {
             "outlinewidth": 0,
             "ticks": ""
            },
            "colorscale": [
             [
              0,
              "#0d0887"
             ],
             [
              0.1111111111111111,
              "#46039f"
             ],
             [
              0.2222222222222222,
              "#7201a8"
             ],
             [
              0.3333333333333333,
              "#9c179e"
             ],
             [
              0.4444444444444444,
              "#bd3786"
             ],
             [
              0.5555555555555556,
              "#d8576b"
             ],
             [
              0.6666666666666666,
              "#ed7953"
             ],
             [
              0.7777777777777778,
              "#fb9f3a"
             ],
             [
              0.8888888888888888,
              "#fdca26"
             ],
             [
              1,
              "#f0f921"
             ]
            ],
            "type": "histogram2dcontour"
           }
          ],
          "mesh3d": [
           {
            "colorbar": {
             "outlinewidth": 0,
             "ticks": ""
            },
            "type": "mesh3d"
           }
          ],
          "parcoords": [
           {
            "line": {
             "colorbar": {
              "outlinewidth": 0,
              "ticks": ""
             }
            },
            "type": "parcoords"
           }
          ],
          "pie": [
           {
            "automargin": true,
            "type": "pie"
           }
          ],
          "scatter": [
           {
            "fillpattern": {
             "fillmode": "overlay",
             "size": 10,
             "solidity": 0.2
            },
            "type": "scatter"
           }
          ],
          "scatter3d": [
           {
            "line": {
             "colorbar": {
              "outlinewidth": 0,
              "ticks": ""
             }
            },
            "marker": {
             "colorbar": {
              "outlinewidth": 0,
              "ticks": ""
             }
            },
            "type": "scatter3d"
           }
          ],
          "scattercarpet": [
           {
            "marker": {
             "colorbar": {
              "outlinewidth": 0,
              "ticks": ""
             }
            },
            "type": "scattercarpet"
           }
          ],
          "scattergeo": [
           {
            "marker": {
             "colorbar": {
              "outlinewidth": 0,
              "ticks": ""
             }
            },
            "type": "scattergeo"
           }
          ],
          "scattergl": [
           {
            "marker": {
             "colorbar": {
              "outlinewidth": 0,
              "ticks": ""
             }
            },
            "type": "scattergl"
           }
          ],
          "scattermapbox": [
           {
            "marker": {
             "colorbar": {
              "outlinewidth": 0,
              "ticks": ""
             }
            },
            "type": "scattermapbox"
           }
          ],
          "scatterpolar": [
           {
            "marker": {
             "colorbar": {
              "outlinewidth": 0,
              "ticks": ""
             }
            },
            "type": "scatterpolar"
           }
          ],
          "scatterpolargl": [
           {
            "marker": {
             "colorbar": {
              "outlinewidth": 0,
              "ticks": ""
             }
            },
            "type": "scatterpolargl"
           }
          ],
          "scatterternary": [
           {
            "marker": {
             "colorbar": {
              "outlinewidth": 0,
              "ticks": ""
             }
            },
            "type": "scatterternary"
           }
          ],
          "surface": [
           {
            "colorbar": {
             "outlinewidth": 0,
             "ticks": ""
            },
            "colorscale": [
             [
              0,
              "#0d0887"
             ],
             [
              0.1111111111111111,
              "#46039f"
             ],
             [
              0.2222222222222222,
              "#7201a8"
             ],
             [
              0.3333333333333333,
              "#9c179e"
             ],
             [
              0.4444444444444444,
              "#bd3786"
             ],
             [
              0.5555555555555556,
              "#d8576b"
             ],
             [
              0.6666666666666666,
              "#ed7953"
             ],
             [
              0.7777777777777778,
              "#fb9f3a"
             ],
             [
              0.8888888888888888,
              "#fdca26"
             ],
             [
              1,
              "#f0f921"
             ]
            ],
            "type": "surface"
           }
          ],
          "table": [
           {
            "cells": {
             "fill": {
              "color": "#EBF0F8"
             },
             "line": {
              "color": "white"
             }
            },
            "header": {
             "fill": {
              "color": "#C8D4E3"
             },
             "line": {
              "color": "white"
             }
            },
            "type": "table"
           }
          ]
         },
         "layout": {
          "annotationdefaults": {
           "arrowcolor": "#2a3f5f",
           "arrowhead": 0,
           "arrowwidth": 1
          },
          "autotypenumbers": "strict",
          "coloraxis": {
           "colorbar": {
            "outlinewidth": 0,
            "ticks": ""
           }
          },
          "colorscale": {
           "diverging": [
            [
             0,
             "#8e0152"
            ],
            [
             0.1,
             "#c51b7d"
            ],
            [
             0.2,
             "#de77ae"
            ],
            [
             0.3,
             "#f1b6da"
            ],
            [
             0.4,
             "#fde0ef"
            ],
            [
             0.5,
             "#f7f7f7"
            ],
            [
             0.6,
             "#e6f5d0"
            ],
            [
             0.7,
             "#b8e186"
            ],
            [
             0.8,
             "#7fbc41"
            ],
            [
             0.9,
             "#4d9221"
            ],
            [
             1,
             "#276419"
            ]
           ],
           "sequential": [
            [
             0,
             "#0d0887"
            ],
            [
             0.1111111111111111,
             "#46039f"
            ],
            [
             0.2222222222222222,
             "#7201a8"
            ],
            [
             0.3333333333333333,
             "#9c179e"
            ],
            [
             0.4444444444444444,
             "#bd3786"
            ],
            [
             0.5555555555555556,
             "#d8576b"
            ],
            [
             0.6666666666666666,
             "#ed7953"
            ],
            [
             0.7777777777777778,
             "#fb9f3a"
            ],
            [
             0.8888888888888888,
             "#fdca26"
            ],
            [
             1,
             "#f0f921"
            ]
           ],
           "sequentialminus": [
            [
             0,
             "#0d0887"
            ],
            [
             0.1111111111111111,
             "#46039f"
            ],
            [
             0.2222222222222222,
             "#7201a8"
            ],
            [
             0.3333333333333333,
             "#9c179e"
            ],
            [
             0.4444444444444444,
             "#bd3786"
            ],
            [
             0.5555555555555556,
             "#d8576b"
            ],
            [
             0.6666666666666666,
             "#ed7953"
            ],
            [
             0.7777777777777778,
             "#fb9f3a"
            ],
            [
             0.8888888888888888,
             "#fdca26"
            ],
            [
             1,
             "#f0f921"
            ]
           ]
          },
          "colorway": [
           "#636efa",
           "#EF553B",
           "#00cc96",
           "#ab63fa",
           "#FFA15A",
           "#19d3f3",
           "#FF6692",
           "#B6E880",
           "#FF97FF",
           "#FECB52"
          ],
          "font": {
           "color": "#2a3f5f"
          },
          "geo": {
           "bgcolor": "white",
           "lakecolor": "white",
           "landcolor": "#E5ECF6",
           "showlakes": true,
           "showland": true,
           "subunitcolor": "white"
          },
          "hoverlabel": {
           "align": "left"
          },
          "hovermode": "closest",
          "mapbox": {
           "style": "light"
          },
          "paper_bgcolor": "white",
          "plot_bgcolor": "#E5ECF6",
          "polar": {
           "angularaxis": {
            "gridcolor": "white",
            "linecolor": "white",
            "ticks": ""
           },
           "bgcolor": "#E5ECF6",
           "radialaxis": {
            "gridcolor": "white",
            "linecolor": "white",
            "ticks": ""
           }
          },
          "scene": {
           "xaxis": {
            "backgroundcolor": "#E5ECF6",
            "gridcolor": "white",
            "gridwidth": 2,
            "linecolor": "white",
            "showbackground": true,
            "ticks": "",
            "zerolinecolor": "white"
           },
           "yaxis": {
            "backgroundcolor": "#E5ECF6",
            "gridcolor": "white",
            "gridwidth": 2,
            "linecolor": "white",
            "showbackground": true,
            "ticks": "",
            "zerolinecolor": "white"
           },
           "zaxis": {
            "backgroundcolor": "#E5ECF6",
            "gridcolor": "white",
            "gridwidth": 2,
            "linecolor": "white",
            "showbackground": true,
            "ticks": "",
            "zerolinecolor": "white"
           }
          },
          "shapedefaults": {
           "line": {
            "color": "#2a3f5f"
           }
          },
          "ternary": {
           "aaxis": {
            "gridcolor": "white",
            "linecolor": "white",
            "ticks": ""
           },
           "baxis": {
            "gridcolor": "white",
            "linecolor": "white",
            "ticks": ""
           },
           "bgcolor": "#E5ECF6",
           "caxis": {
            "gridcolor": "white",
            "linecolor": "white",
            "ticks": ""
           }
          },
          "title": {
           "x": 0.05
          },
          "xaxis": {
           "automargin": true,
           "gridcolor": "white",
           "linecolor": "white",
           "ticks": "",
           "title": {
            "standoff": 15
           },
           "zerolinecolor": "white",
           "zerolinewidth": 2
          },
          "yaxis": {
           "automargin": true,
           "gridcolor": "white",
           "linecolor": "white",
           "ticks": "",
           "title": {
            "standoff": 15
           },
           "zerolinecolor": "white",
           "zerolinewidth": 2
          }
         }
        },
        "title": {
         "text": "Average amount of RAM by device type"
        },
        "xaxis": {
         "anchor": "y",
         "categoryarray": [
          "2 in 1 Convertible",
          "Gaming",
          "Netbook",
          "Notebook",
          "Ultrabook",
          "Workstation"
         ],
         "categoryorder": "total ascending",
         "domain": [
          0,
          1
         ],
         "title": {
          "text": "TypeName"
         }
        },
        "yaxis": {
         "anchor": "x",
         "domain": [
          0,
          1
         ],
         "title": {
          "text": "Average RAM"
         }
        }
       }
      }
     },
     "metadata": {},
     "output_type": "display_data"
    }
   ],
   "source": [
    "# Plotting graph of average RAM amount by type of device\n",
    "fig = px.bar(average_ram, x=\"TypeName\", y=\"Average RAM\", color=\"TypeName\", title=\"Average amount of RAM by device type\")\n",
    "fig.update_layout(xaxis = {\"categoryorder\":\"total ascending\"})\n",
    "fig.show()"
   ]
  },
  {
   "cell_type": "markdown",
   "metadata": {},
   "source": [
    "Unsurprisingly, gaming laptops have the highest average amount of RAM.\n",
    "\n",
    "Convertible devices display surprising adventage over notebooks and netbooks."
   ]
  },
  {
   "cell_type": "markdown",
   "metadata": {},
   "source": [
    "Is there correlation between numerical desriptors of the laptops?"
   ]
  },
  {
   "cell_type": "code",
   "execution_count": 93,
   "metadata": {},
   "outputs": [
    {
     "data": {
      "image/png": "[encoded data removed]",
      "text/plain": [
       "<Figure size 640x480 with 2 Axes>"
      ]
     },
     "metadata": {},
     "output_type": "display_data"
    }
   ],
   "source": [
    "ax = plt.axes()\n",
    "sns.heatmap(laptops.corr(numeric_only=True), annot=True)\n",
    "ax.set_title(\"Correlation between numerical desriptors of laptops\")\n",
    "plt.show()"
   ]
  },
  {
   "cell_type": "markdown",
   "metadata": {},
   "source": [
    "Although all descriptors show some positive correlation with the price of the device, the screen diagonal seems to be the poorest predictor of the price.\n",
    "\n",
    "On the other hand, the amount of RAM seems to be a good indicator of the price, with CPU frequency as a decent second option."
   ]
  }
 ],
 "metadata": {
  "kernelspec": {
   "display_name": "venv",
   "language": "python",
   "name": "python3"
  },
  "language_info": {
   "codemirror_mode": {
    "name": "ipython",
    "version": 3
   },
   "file_extension": ".py",
   "mimetype": "text/x-python",
   "name": "python",
   "nbconvert_exporter": "python",
   "pygments_lexer": "ipython3",
   "version": "3.12.7"
  }
 },
 "nbformat": 4,
 "nbformat_minor": 2
}
